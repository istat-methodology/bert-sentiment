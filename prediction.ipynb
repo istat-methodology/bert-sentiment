{
  "cells": [
    {
      "cell_type": "markdown",
      "source": [
        "# **Sentiment Prediction**"
      ],
      "metadata": {
        "nteract": {
          "transient": {
            "deleting": false
          }
        },
        "id": "1wXJn7YfkiD3"
      }
    },
    {
      "cell_type": "code",
      "source": [
        "import numpy as np\n",
        "import pandas as pd\n",
        "import platform\n",
        "import configparser\n",
        "from datetime import datetime, timedelta, date\n",
        "import glob\n",
        "import sys\n",
        "import os\n",
        "import pickle\n",
        "import timeit\n",
        "from tqdm import tqdm\n",
        "\n",
        "import tensorflow as tf\n",
        "import matplotlib.pyplot as plt\n",
        "\n",
        "from tensorflow.keras.preprocessing.text import Tokenizer\n",
        "from tensorflow.keras.preprocessing.sequence import pad_sequences\n",
        "from tensorflow.keras.models import model_from_json\n",
        "from sklearn.metrics import accuracy_score, f1_score, roc_auc_score"
      ],
      "outputs": [],
      "execution_count": 2,
      "metadata": {
        "gather": {
          "logged": 1688553047177
        },
        "jupyter": {
          "outputs_hidden": true
        },
        "id": "_nsfCd9ukiEA"
      }
    },
    {
      "cell_type": "code",
      "source": [
        "colab_active = 'google.colab' in sys.modules\n",
        "print(\"Colab Active: \", colab_active)"
      ],
      "metadata": {
        "colab": {
          "base_uri": "https://localhost:8080/"
        },
        "id": "jcr3OisEfQQJ",
        "outputId": "baf997b4-07b2-46b8-e537-17e1867e12da"
      },
      "execution_count": 3,
      "outputs": [
        {
          "output_type": "stream",
          "name": "stdout",
          "text": [
            "Colab Active:  True\n"
          ]
        }
      ]
    },
    {
      "cell_type": "markdown",
      "source": [
        "#**Downloads**"
      ],
      "metadata": {
        "id": "pBkhH7a4lmGf"
      }
    },
    {
      "cell_type": "code",
      "source": [
        "if colab_active is True:\n",
        "  OS = platform.system()      # Operating System\n",
        "\n",
        "  def data_download(file_to_download, gdrive_code, OS, uncompress = True):\n",
        "    if not os.path.exists(file_to_download):\n",
        "      os.system('gdown --id \"'+gdrive_code+'\" --output '+file_to_download)\n",
        "      if OS == \"Linux\" and uncompress:\n",
        "          os.system('unzip -o -n \"./'+file_to_download+'\" -d '+os.path.dirname(file_to_download))\n",
        "      return True\n",
        "    else:\n",
        "      return None"
      ],
      "metadata": {
        "id": "3mRTnsF3llCN"
      },
      "execution_count": 4,
      "outputs": []
    },
    {
      "cell_type": "code",
      "source": [
        "if colab_active is True:\n",
        "  out = data_download(\"./Senntiment_Social_Mood_Corpus_Tweets.zip\", \"11lopgQpkQ-UjwP62icelthzISG_fn2_5\", OS)\n",
        "  out = data_download(\"./Sentiment_Social_Mood_Models.zip\", \"1id8az7G6knkXKh7m8ENnKylj_s_W54YN\", OS)"
      ],
      "metadata": {
        "id": "1Clb3-sxlshP"
      },
      "execution_count": 5,
      "outputs": []
    },
    {
      "cell_type": "code",
      "source": [
        "with open('./Sentiment_Social_Mood_Models/preprocessed_datasets.pkl', 'rb') as file:\n",
        "    (x_test, y_test, tokenizer) = pickle.load(file)\n",
        "    file.close()"
      ],
      "metadata": {
        "id": "4_4KPxIFVGSC"
      },
      "execution_count": 6,
      "outputs": []
    },
    {
      "cell_type": "markdown",
      "source": [
        "## Configs"
      ],
      "metadata": {
        "nteract": {
          "transient": {
            "deleting": false
          }
        },
        "id": "4cDi-eeskiEE"
      }
    },
    {
      "cell_type": "code",
      "source": [
        "start_date: date = date(2020,1,1)\n",
        "end_date  : date = date(2020,5,31)\n",
        "\n",
        "small_df  : bool = True\n",
        "small_size: int  = 6000000\n",
        "\n",
        "max_tokens: int  = 20000\n",
        "k_model   : str  = 'mod_orig_onestep'\n",
        "\n",
        "tpu = True\n",
        "batch_size = 2048"
      ],
      "outputs": [],
      "execution_count": 7,
      "metadata": {
        "jupyter": {
          "source_hidden": false,
          "outputs_hidden": false
        },
        "nteract": {
          "transient": {
            "deleting": false
          }
        },
        "gather": {
          "logged": 1688553051644
        },
        "id": "CRpWt3oNkiEF"
      }
    },
    {
      "cell_type": "markdown",
      "source": [
        "Create a list of dates ranging from `start_date` to `end_date`."
      ],
      "metadata": {
        "nteract": {
          "transient": {
            "deleting": false
          }
        },
        "id": "kkUkxG44kiEG"
      }
    },
    {
      "cell_type": "code",
      "source": [
        "date_list = []\n",
        "\n",
        "current_date = start_date\n",
        "iteration = 1\n",
        "\n",
        "while current_date <= end_date:\n",
        "    date_list.append(f'{current_date.year}-{current_date.month:02d}-{current_date.day:02d}')\n",
        "    current_date += timedelta(days=1)\n",
        "    iteration += 1"
      ],
      "outputs": [],
      "execution_count": 8,
      "metadata": {
        "jupyter": {
          "source_hidden": false,
          "outputs_hidden": false
        },
        "nteract": {
          "transient": {
            "deleting": false
          }
        },
        "gather": {
          "logged": 1688553053503
        },
        "id": "2G_P-57GkiEH"
      }
    },
    {
      "cell_type": "markdown",
      "source": [
        "## Set the TPU Environment"
      ],
      "metadata": {
        "id": "SUNnGAXIZJBg"
      }
    },
    {
      "cell_type": "code",
      "source": [
        "if tpu is True:\n",
        "  import tensorflow as tf\n",
        "  print(\"Tensorflow version \" + tf.__version__)\n",
        "\n",
        "  try:\n",
        "    tpu = tf.distribute.cluster_resolver.TPUClusterResolver()  # TPU detection\n",
        "    print('Running on TPU ', tpu.cluster_spec().as_dict()['worker'])\n",
        "  except ValueError:\n",
        "    raise BaseException('ERROR: Not connected to a TPU runtime; please see the previous cell in this notebook for instructions!')\n",
        "\n",
        "  tf.config.experimental_connect_to_cluster(tpu)\n",
        "  tf.tpu.experimental.initialize_tpu_system(tpu)\n",
        "  tpu_strategy = tf.distribute.experimental.TPUStrategy(tpu)\n",
        "\n",
        "  AUTO = tf.data.experimental.AUTOTUNE\n",
        "  batch_size = batch_size * tpu_strategy.num_replicas_in_sync"
      ],
      "metadata": {
        "colab": {
          "base_uri": "https://localhost:8080/"
        },
        "id": "EBRB9xQTZJ1B",
        "outputId": "7c271f12-8efd-4ccb-fbdc-a28bb475f848"
      },
      "execution_count": 9,
      "outputs": [
        {
          "output_type": "stream",
          "name": "stdout",
          "text": [
            "Tensorflow version 2.12.0\n",
            "Running on TPU  ['10.104.170.130:8470']\n"
          ]
        },
        {
          "output_type": "stream",
          "name": "stderr",
          "text": [
            "WARNING:absl:`tf.distribute.experimental.TPUStrategy` is deprecated, please use  the non experimental symbol `tf.distribute.TPUStrategy` instead.\n"
          ]
        }
      ]
    },
    {
      "cell_type": "markdown",
      "source": [
        "<hr>"
      ],
      "metadata": {
        "nteract": {
          "transient": {
            "deleting": false
          }
        },
        "id": "mvkKe9M6kiEI"
      }
    },
    {
      "cell_type": "markdown",
      "source": [
        "## Data"
      ],
      "metadata": {
        "nteract": {
          "transient": {
            "deleting": false
          }
        },
        "id": "S8kyKbs7kiEI"
      }
    },
    {
      "cell_type": "code",
      "source": [
        "dfs = []\n",
        "\n",
        "for date in date_list:\n",
        "    df_date = pd.read_csv(f'./Senntiment_Social_Mood_Corpus_Tweets/corpus_tweets/{date}.csv', sep=';', encoding='ISO-8859-1')\n",
        "    dfs.append(df_date)"
      ],
      "outputs": [],
      "execution_count": 10,
      "metadata": {
        "jupyter": {
          "source_hidden": false,
          "outputs_hidden": true
        },
        "nteract": {
          "transient": {
            "deleting": false
          }
        },
        "gather": {
          "logged": 1688553129996
        },
        "id": "f8acrFzGkiEL"
      }
    },
    {
      "cell_type": "code",
      "source": [
        "raw_df = pd.concat(dfs, ignore_index=True)\n",
        "\n",
        "if small_df is True:\n",
        "    raw_df = raw_df.sample(small_size)"
      ],
      "outputs": [],
      "execution_count": 11,
      "metadata": {
        "jupyter": {
          "source_hidden": false,
          "outputs_hidden": false
        },
        "nteract": {
          "transient": {
            "deleting": false
          }
        },
        "gather": {
          "logged": 1688553138092
        },
        "id": "-laS97XMkiEM"
      }
    },
    {
      "cell_type": "code",
      "source": [
        "len(raw_df)"
      ],
      "metadata": {
        "colab": {
          "base_uri": "https://localhost:8080/"
        },
        "id": "Q50rrue0WaeC",
        "outputId": "b9ccf56d-fdd5-4080-b1b6-1926307c9cd7"
      },
      "execution_count": 12,
      "outputs": [
        {
          "output_type": "execute_result",
          "data": {
            "text/plain": [
              "6000000"
            ]
          },
          "metadata": {},
          "execution_count": 12
        }
      ]
    },
    {
      "cell_type": "code",
      "source": [
        "df = raw_df[['data_tweet', 'testo']]\n",
        "df['data_tweet'] = pd.to_datetime(df['data_tweet'], format = '%Y%m%d')"
      ],
      "outputs": [
        {
          "output_type": "stream",
          "name": "stderr",
          "text": [
            "<ipython-input-13-2b2346512ad4>:2: SettingWithCopyWarning: \n",
            "A value is trying to be set on a copy of a slice from a DataFrame.\n",
            "Try using .loc[row_indexer,col_indexer] = value instead\n",
            "\n",
            "See the caveats in the documentation: https://pandas.pydata.org/pandas-docs/stable/user_guide/indexing.html#returning-a-view-versus-a-copy\n",
            "  df['data_tweet'] = pd.to_datetime(df['data_tweet'], format = '%Y%m%d')\n"
          ]
        }
      ],
      "execution_count": 13,
      "metadata": {
        "jupyter": {
          "source_hidden": false,
          "outputs_hidden": true
        },
        "nteract": {
          "transient": {
            "deleting": false
          }
        },
        "gather": {
          "logged": 1688553140588
        },
        "colab": {
          "base_uri": "https://localhost:8080/"
        },
        "id": "0Nk56CX6kiEO",
        "outputId": "4af9e88e-8355-4010-d1ff-3f4d92e28700"
      }
    },
    {
      "cell_type": "markdown",
      "source": [
        "remove tweets that are not type: `str`."
      ],
      "metadata": {
        "nteract": {
          "transient": {
            "deleting": false
          }
        },
        "id": "gptRSdLukiEO"
      }
    },
    {
      "cell_type": "code",
      "source": [
        "df = df.loc[df['testo'].apply(lambda x: isinstance(x, str))]"
      ],
      "outputs": [],
      "execution_count": 14,
      "metadata": {
        "jupyter": {
          "source_hidden": false,
          "outputs_hidden": false
        },
        "nteract": {
          "transient": {
            "deleting": false
          }
        },
        "gather": {
          "logged": 1688553148585
        },
        "id": "Wuhb33VKkiEP"
      }
    },
    {
      "cell_type": "markdown",
      "source": [
        "## Pre-processing"
      ],
      "metadata": {
        "nteract": {
          "transient": {
            "deleting": false
          }
        },
        "id": "pTRJRpVjkiEQ"
      }
    },
    {
      "cell_type": "code",
      "source": [
        "tweets = np.array(df['testo'])"
      ],
      "outputs": [],
      "execution_count": 15,
      "metadata": {
        "jupyter": {
          "source_hidden": false,
          "outputs_hidden": false
        },
        "nteract": {
          "transient": {
            "deleting": false
          }
        },
        "gather": {
          "logged": 1687770419126
        },
        "id": "G-2hpCbFkiER"
      }
    },
    {
      "cell_type": "markdown",
      "source": [
        "Transform words into tokens"
      ],
      "metadata": {
        "nteract": {
          "transient": {
            "deleting": false
          }
        },
        "id": "Odp0CrZRkiER"
      }
    },
    {
      "cell_type": "code",
      "source": [
        "#tokenizer = Tokenizer(num_words = max_tokens)\n",
        "#tokenizer.fit_on_texts(tweets)"
      ],
      "outputs": [],
      "execution_count": 16,
      "metadata": {
        "jupyter": {
          "source_hidden": false,
          "outputs_hidden": false
        },
        "nteract": {
          "transient": {
            "deleting": false
          }
        },
        "gather": {
          "logged": 1687770803955
        },
        "id": "PeuLDP9mkiES"
      }
    },
    {
      "cell_type": "markdown",
      "source": [
        "Transform word sequences into indexed token sequences"
      ],
      "metadata": {
        "nteract": {
          "transient": {
            "deleting": false
          }
        },
        "id": "b6xDyRdHkiES"
      }
    },
    {
      "cell_type": "code",
      "source": [
        "sequences = tokenizer.texts_to_sequences(tweets)"
      ],
      "outputs": [],
      "execution_count": 17,
      "metadata": {
        "jupyter": {
          "source_hidden": false,
          "outputs_hidden": false
        },
        "nteract": {
          "transient": {
            "deleting": false
          }
        },
        "gather": {
          "logged": 1687771099997
        },
        "id": "_r46Ss6akiET"
      }
    },
    {
      "cell_type": "markdown",
      "source": [
        "<hr>"
      ],
      "metadata": {
        "nteract": {
          "transient": {
            "deleting": false
          }
        },
        "id": "o3K9w19ckiET"
      }
    },
    {
      "cell_type": "markdown",
      "source": [
        "## Import Model"
      ],
      "metadata": {
        "nteract": {
          "transient": {
            "deleting": false
          }
        },
        "id": "GXOjBB9xkiEU"
      }
    },
    {
      "cell_type": "code",
      "source": [
        "#model = tf.keras.models.load_model(f'models/{k_model}')\n",
        "#model = models.load_weights(f'sentiment_bilstm_best.hdf5')\n",
        "if tpu is True:\n",
        "  with strategy.scope():\n",
        "    json_file = open('./Sentiment_Social_Mood_Models/sentiment_bilstm_topology.json', 'r')\n",
        "    loaded_model_json = json_file.read()\n",
        "    json_file.close()\n",
        "    model = model_from_json(loaded_model_json)\n",
        "    model.load_weights(\"./Sentiment_Social_Mood_Models/sentiment_bilstm_best.hdf5\")\n",
        "else:\n",
        "  json_file = open('./Sentiment_Social_Mood_Models/sentiment_bilstm_topology.json', 'r')\n",
        "  loaded_model_json = json_file.read()\n",
        "  json_file.close()\n",
        "  model = model_from_json(loaded_model_json)\n",
        "  model.load_weights(\"./Sentiment_Social_Mood_Models/sentiment_bilstm_best.hdf5\")"
      ],
      "outputs": [],
      "execution_count": 18,
      "metadata": {
        "jupyter": {
          "source_hidden": false,
          "outputs_hidden": true
        },
        "nteract": {
          "transient": {
            "deleting": false
          }
        },
        "gather": {
          "logged": 1687771123290
        },
        "id": "gcTeAd-5kiEU"
      }
    },
    {
      "cell_type": "code",
      "source": [
        "model.summary()"
      ],
      "metadata": {
        "colab": {
          "base_uri": "https://localhost:8080/"
        },
        "id": "F8kxKVH6YJBy",
        "outputId": "0744d7a0-a4e7-4be8-b8e7-648c6f657c8e"
      },
      "execution_count": 19,
      "outputs": [
        {
          "output_type": "stream",
          "name": "stdout",
          "text": [
            "Model: \"model\"\n",
            "_________________________________________________________________\n",
            " Layer (type)                Output Shape              Param #   \n",
            "=================================================================\n",
            " input_1 (InputLayer)        [(None, None)]            0         \n",
            "                                                                 \n",
            " embedding (Embedding)       (None, None, 300)         6248100   \n",
            "                                                                 \n",
            " bidirectional (Bidirectiona  (None, None, 256)        439296    \n",
            " l)                                                              \n",
            "                                                                 \n",
            " bidirectional_1 (Bidirectio  (None, None, 64)         73984     \n",
            " nal)                                                            \n",
            "                                                                 \n",
            " global_max_pooling1d (Globa  (None, 64)               0         \n",
            " lMaxPooling1D)                                                  \n",
            "                                                                 \n",
            " dense (Dense)               (None, 1)                 65        \n",
            "                                                                 \n",
            "=================================================================\n",
            "Total params: 6,761,445\n",
            "Trainable params: 6,761,445\n",
            "Non-trainable params: 0\n",
            "_________________________________________________________________\n"
          ]
        }
      ]
    },
    {
      "cell_type": "code",
      "source": [
        "del sequences"
      ],
      "metadata": {
        "id": "fmDHjB4Y8-tG"
      },
      "execution_count": 20,
      "outputs": []
    },
    {
      "cell_type": "code",
      "source": [
        "del tweets"
      ],
      "metadata": {
        "id": "E0R-6xUf9IAO"
      },
      "execution_count": 21,
      "outputs": []
    },
    {
      "cell_type": "code",
      "source": [
        "del raw_df"
      ],
      "metadata": {
        "id": "wZ9ATli19UCJ"
      },
      "execution_count": 22,
      "outputs": []
    },
    {
      "cell_type": "code",
      "source": [
        "test_tw = pad_sequences(tokenizer.texts_to_sequences(df['testo']), padding = \"pre\")"
      ],
      "outputs": [],
      "execution_count": 23,
      "metadata": {
        "jupyter": {
          "source_hidden": false,
          "outputs_hidden": false
        },
        "nteract": {
          "transient": {
            "deleting": false
          }
        },
        "gather": {
          "logged": 1687448884502
        },
        "id": "77PSDJ7jkiEV"
      }
    },
    {
      "cell_type": "code",
      "source": [
        "len(test_tw)"
      ],
      "metadata": {
        "id": "GJYzxaRdYyXh",
        "colab": {
          "base_uri": "https://localhost:8080/"
        },
        "outputId": "5486dc15-f461-48df-fdcb-635031c0349d"
      },
      "execution_count": 24,
      "outputs": [
        {
          "output_type": "execute_result",
          "data": {
            "text/plain": [
              "5999814"
            ]
          },
          "metadata": {},
          "execution_count": 24
        }
      ]
    },
    {
      "cell_type": "markdown",
      "source": [
        "## Predictions"
      ],
      "metadata": {
        "nteract": {
          "transient": {
            "deleting": false
          }
        },
        "id": "KWByGrq-kiEV"
      }
    },
    {
      "cell_type": "code",
      "source": [
        "# Prediction of The Model\n",
        "pred_test = model.predict(x_test)\n",
        "pred_test = np.where(pred_test > 0.5, 1, 0)\n",
        "# Performance of The Model\n",
        "accuracy_test = accuracy_score(y_test.values, pred_test)\n",
        "auc_roc_score = roc_auc_score(y_test.values, pred_test)\n",
        "f1_score_test = f1_score(y_test.values, pred_test)\n",
        "print('\\nAccuracy of The Neural Model on Test Set : ', accuracy_test)\n",
        "print('ROC AUC Score of The Neural Model on Test Set', auc_roc_score)\n",
        "print('F1_score of The Neural Model on Test Set : ', f1_score_test)"
      ],
      "metadata": {
        "colab": {
          "base_uri": "https://localhost:8080/"
        },
        "id": "8sZljrWyUvEQ",
        "outputId": "8cd8e706-8047-497c-d2c7-73c5045ae122"
      },
      "execution_count": 25,
      "outputs": [
        {
          "output_type": "stream",
          "name": "stdout",
          "text": [
            "24/24 [==============================] - 3s 37ms/step\n",
            "\n",
            "Accuracy of The Neural Model on Test Set :  0.8104575163398693\n",
            "ROC AUC Score of The Neural Model on Test Set 0.7797582767181531\n",
            "F1_score of The Neural Model on Test Set :  0.7173489278752437\n"
          ]
        }
      ]
    },
    {
      "cell_type": "code",
      "source": [
        "start_time = timeit.default_timer()\n",
        "sentiment = model.predict(test_tw, batch_size = batch_size, verbose = 1)\n",
        "print(\"Prediction Elapsed Time: \", timeit.default_timer() - start_time)"
      ],
      "outputs": [
        {
          "output_type": "stream",
          "name": "stdout",
          "text": [
            "367/367 [==============================] - 789s 2s/step\n",
            "Prediction Elapsed Time:  809.3803023100008\n"
          ]
        }
      ],
      "execution_count": 26,
      "metadata": {
        "jupyter": {
          "source_hidden": false,
          "outputs_hidden": false
        },
        "nteract": {
          "transient": {
            "deleting": false
          }
        },
        "gather": {
          "logged": 1687788549040
        },
        "id": "p5vNj0WYkiEW",
        "outputId": "cb4e5be8-8dec-4770-ec8f-930eb5dbd1fe",
        "colab": {
          "base_uri": "https://localhost:8080/"
        }
      }
    },
    {
      "cell_type": "code",
      "source": [
        "predicted_sentiment = [int(i > 0.5) for i in sentiment]\n",
        "df['predicted_sentiment'] = predicted_sentiment"
      ],
      "outputs": [
        {
          "output_type": "stream",
          "name": "stderr",
          "text": [
            "<ipython-input-27-dd630dee222d>:1: DeprecationWarning: Conversion of an array with ndim > 0 to a scalar is deprecated, and will error in future. Ensure you extract a single element from your array before performing this operation. (Deprecated NumPy 1.25.)\n",
            "  predicted_sentiment = [int(i > 0.5) for i in sentiment]\n"
          ]
        }
      ],
      "execution_count": 27,
      "metadata": {
        "jupyter": {
          "source_hidden": false,
          "outputs_hidden": true
        },
        "nteract": {
          "transient": {
            "deleting": false
          }
        },
        "gather": {
          "logged": 1687457711523
        },
        "id": "at0yILOCkiEW",
        "colab": {
          "base_uri": "https://localhost:8080/"
        },
        "outputId": "3ca9cf60-75a9-44e2-e1ca-d94cf2baf905"
      }
    },
    {
      "cell_type": "code",
      "source": [
        "len(predicted_sentiment)"
      ],
      "metadata": {
        "colab": {
          "base_uri": "https://localhost:8080/"
        },
        "id": "k5wUxbcT0Dce",
        "outputId": "5149f9ed-e61b-449e-8ccd-18d5280ee6c8"
      },
      "execution_count": 28,
      "outputs": [
        {
          "output_type": "execute_result",
          "data": {
            "text/plain": [
              "5999814"
            ]
          },
          "metadata": {},
          "execution_count": 28
        }
      ]
    },
    {
      "cell_type": "markdown",
      "source": [
        "## Build the index"
      ],
      "metadata": {
        "nteract": {
          "transient": {
            "deleting": false
          }
        },
        "id": "HAIQuFWokiEX"
      }
    },
    {
      "cell_type": "code",
      "source": [
        "df.set_index('data_tweet', inplace=True)"
      ],
      "outputs": [],
      "execution_count": 29,
      "metadata": {
        "jupyter": {
          "source_hidden": false,
          "outputs_hidden": false
        },
        "nteract": {
          "transient": {
            "deleting": false
          }
        },
        "id": "lNVgUe7IkiEX"
      }
    },
    {
      "cell_type": "code",
      "source": [
        "count_by_day = df.groupby([df.index.date, 'predicted_sentiment']).size()\n",
        "count_by_day = count_by_day.reset_index()\n",
        "count_by_day.rename(columns={0: 'count', 'level_0': 'date'}, inplace=True)\n",
        "pivoted_counts = count_by_day.pivot(index='date', columns='predicted_sentiment', values='count')"
      ],
      "outputs": [],
      "execution_count": 30,
      "metadata": {
        "jupyter": {
          "source_hidden": false,
          "outputs_hidden": false
        },
        "nteract": {
          "transient": {
            "deleting": false
          }
        },
        "gather": {
          "logged": 1687446844215
        },
        "id": "qPPQFPFJkiEX"
      }
    },
    {
      "cell_type": "code",
      "source": [
        "index = (pivoted_counts[1] - pivoted_counts[0]) / (pivoted_counts[1] + pivoted_counts[0])"
      ],
      "outputs": [],
      "execution_count": 35,
      "metadata": {
        "jupyter": {
          "source_hidden": false,
          "outputs_hidden": false
        },
        "nteract": {
          "transient": {
            "deleting": false
          }
        },
        "gather": {
          "logged": 1687446860529
        },
        "id": "sEA0b6N8kiEY"
      }
    },
    {
      "cell_type": "markdown",
      "source": [
        "Export results to csv."
      ],
      "metadata": {
        "nteract": {
          "transient": {
            "deleting": false
          }
        },
        "id": "Sh5xhOQekiEY"
      }
    },
    {
      "cell_type": "code",
      "source": [
        "index.to_csv(f'predicted_{k_model}.csv', sep = ';', index=True)"
      ],
      "outputs": [],
      "execution_count": 32,
      "metadata": {
        "jupyter": {
          "source_hidden": false,
          "outputs_hidden": false
        },
        "nteract": {
          "transient": {
            "deleting": false
          }
        },
        "gather": {
          "logged": 1687457521297
        },
        "id": "3xOPApp3kiEY"
      }
    },
    {
      "cell_type": "code",
      "source": [
        "index.to_csv(f'predicted_{k_model}.xlsx', sep = ';', index=True)"
      ],
      "metadata": {
        "id": "ZYb0dMCCLh_N"
      },
      "execution_count": 38,
      "outputs": []
    },
    {
      "cell_type": "markdown",
      "source": [
        "## Plots"
      ],
      "metadata": {
        "nteract": {
          "transient": {
            "deleting": false
          }
        },
        "id": "d2rDL2uqkiEZ"
      }
    },
    {
      "cell_type": "code",
      "source": [
        "fig, ax = plt.subplots(figsize=(10,6))\n",
        "\n",
        "ax.plot(pivoted_counts.index, index)\n",
        "ax.set_xlabel('Time')\n",
        "ax.set_ylabel('Index')\n",
        "ax.set_title('Sentiment Index')\n",
        "plt.xticks(rotation=45)\n",
        "plt.savefig(\"predicted_mod_orig_onestep.png\")\n",
        "\n",
        "plt.show()"
      ],
      "outputs": [
        {
          "output_type": "display_data",
          "data": {
            "text/plain": [
              "<Figure size 1000x600 with 1 Axes>"
            ],
            "image/png": "[encoded data removed]"
          },
          "metadata": {}
        }
      ],
      "execution_count": 37,
      "metadata": {
        "jupyter": {
          "source_hidden": false,
          "outputs_hidden": false
        },
        "nteract": {
          "transient": {
            "deleting": false
          }
        },
        "gather": {
          "logged": 1687792869070
        },
        "id": "aXf57yIhkiEZ",
        "outputId": "76236622-502a-400d-d8b5-e9b7006a270b",
        "colab": {
          "base_uri": "https://localhost:8080/",
          "height": 601
        }
      }
    },
    {
      "cell_type": "markdown",
      "source": [
        "## predictions_2020"
      ],
      "metadata": {
        "nteract": {
          "transient": {
            "deleting": false
          }
        },
        "id": "od9emoPfkiEa"
      }
    },
    {
      "cell_type": "code",
      "source": [
        "with open('predictions_2020.txt', 'r') as file:\n",
        "    predictions_2020 = file.read()\n",
        "\n",
        "predictions_2020 = predictions_2020.replace(' ', '').split(',')"
      ],
      "outputs": [
        {
          "output_type": "error",
          "ename": "FileNotFoundError",
          "evalue": "ignored",
          "traceback": [
            "\u001b[0;31m---------------------------------------------------------------------------\u001b[0m",
            "\u001b[0;31mFileNotFoundError\u001b[0m                         Traceback (most recent call last)",
            "\u001b[0;32m<ipython-input-34-2463a8acf09a>\u001b[0m in \u001b[0;36m<cell line: 1>\u001b[0;34m()\u001b[0m\n\u001b[0;32m----> 1\u001b[0;31m \u001b[0;32mwith\u001b[0m \u001b[0mopen\u001b[0m\u001b[0;34m(\u001b[0m\u001b[0;34m'predictions_2020.txt'\u001b[0m\u001b[0;34m,\u001b[0m \u001b[0;34m'r'\u001b[0m\u001b[0;34m)\u001b[0m \u001b[0;32mas\u001b[0m \u001b[0mfile\u001b[0m\u001b[0;34m:\u001b[0m\u001b[0;34m\u001b[0m\u001b[0;34m\u001b[0m\u001b[0m\n\u001b[0m\u001b[1;32m      2\u001b[0m     \u001b[0mpredictions_2020\u001b[0m \u001b[0;34m=\u001b[0m \u001b[0mfile\u001b[0m\u001b[0;34m.\u001b[0m\u001b[0mread\u001b[0m\u001b[0;34m(\u001b[0m\u001b[0;34m)\u001b[0m\u001b[0;34m\u001b[0m\u001b[0;34m\u001b[0m\u001b[0m\n\u001b[1;32m      3\u001b[0m \u001b[0;34m\u001b[0m\u001b[0m\n\u001b[1;32m      4\u001b[0m \u001b[0mpredictions_2020\u001b[0m \u001b[0;34m=\u001b[0m \u001b[0mpredictions_2020\u001b[0m\u001b[0;34m.\u001b[0m\u001b[0mreplace\u001b[0m\u001b[0;34m(\u001b[0m\u001b[0;34m' '\u001b[0m\u001b[0;34m,\u001b[0m \u001b[0;34m''\u001b[0m\u001b[0;34m)\u001b[0m\u001b[0;34m.\u001b[0m\u001b[0msplit\u001b[0m\u001b[0;34m(\u001b[0m\u001b[0;34m','\u001b[0m\u001b[0;34m)\u001b[0m\u001b[0;34m\u001b[0m\u001b[0;34m\u001b[0m\u001b[0m\n",
            "\u001b[0;31mFileNotFoundError\u001b[0m: [Errno 2] No such file or directory: 'predictions_2020.txt'"
          ]
        }
      ],
      "execution_count": 34,
      "metadata": {
        "jupyter": {
          "source_hidden": false,
          "outputs_hidden": false
        },
        "nteract": {
          "transient": {
            "deleting": false
          }
        },
        "gather": {
          "logged": 1688553166748
        },
        "id": "pfi7q_vukiEa",
        "colab": {
          "base_uri": "https://localhost:8080/",
          "height": 219
        },
        "outputId": "5a3f03a5-3000-44dc-8c52-91ff6c567167"
      }
    },
    {
      "cell_type": "code",
      "source": [
        "df['predicted_sentiment'] = predictions_2020[:-1]\n",
        "df['predicted_sentiment'] = df['predicted_sentiment'].astype(int)"
      ],
      "outputs": [],
      "execution_count": null,
      "metadata": {
        "jupyter": {
          "source_hidden": false,
          "outputs_hidden": false
        },
        "nteract": {
          "transient": {
            "deleting": false
          }
        },
        "gather": {
          "logged": 1688553169730
        },
        "id": "cQyr-85ikiEb"
      }
    },
    {
      "cell_type": "code",
      "source": [
        "df.set_index('data_tweet', inplace=True)"
      ],
      "outputs": [],
      "execution_count": null,
      "metadata": {
        "jupyter": {
          "source_hidden": false,
          "outputs_hidden": false
        },
        "nteract": {
          "transient": {
            "deleting": false
          }
        },
        "gather": {
          "logged": 1688553170951
        },
        "id": "6oTfNKyHkiEc"
      }
    },
    {
      "cell_type": "code",
      "source": [
        "count_by_day = df.groupby([df.index.date, 'predicted_sentiment']).size()\n",
        "count_by_day = count_by_day.reset_index()\n",
        "count_by_day.rename(columns={0: 'count', 'level_0': 'date'}, inplace=True)\n",
        "pivoted_counts = count_by_day.pivot(index='date', columns='predicted_sentiment', values='count')"
      ],
      "outputs": [],
      "execution_count": null,
      "metadata": {
        "jupyter": {
          "source_hidden": false,
          "outputs_hidden": false
        },
        "nteract": {
          "transient": {
            "deleting": false
          }
        },
        "gather": {
          "logged": 1688553176591
        },
        "id": "k7ttellEkiEc"
      }
    },
    {
      "cell_type": "code",
      "source": [
        "index = (pivoted_counts[1] - pivoted_counts[0]) / (pivoted_counts[1] + pivoted_counts[0])"
      ],
      "outputs": [],
      "execution_count": null,
      "metadata": {
        "jupyter": {
          "source_hidden": false,
          "outputs_hidden": false
        },
        "nteract": {
          "transient": {
            "deleting": false
          }
        },
        "gather": {
          "logged": 1688553178379
        },
        "id": "azFWYmShkiEd"
      }
    },
    {
      "cell_type": "code",
      "source": [
        "fig, ax = plt.subplots(figsize=(10,6))\n",
        "\n",
        "ax.plot(pivoted_counts.index, index)\n",
        "ax.set_xlabel('Time')\n",
        "ax.set_ylabel('Index')\n",
        "ax.set_title('Sentiment Index')\n",
        "plt.xticks(rotation=45)\n",
        "\n",
        "plt.show()"
      ],
      "outputs": [],
      "execution_count": null,
      "metadata": {
        "jupyter": {
          "source_hidden": false,
          "outputs_hidden": false
        },
        "nteract": {
          "transient": {
            "deleting": false
          }
        },
        "gather": {
          "logged": 1688553180999
        },
        "id": "tK5kZC5lkiEd"
      }
    },
    {
      "cell_type": "code",
      "source": [
        "index.to_csv(f'predicted_2020.csv', sep = ';', index=True)"
      ],
      "outputs": [],
      "execution_count": null,
      "metadata": {
        "jupyter": {
          "source_hidden": false,
          "outputs_hidden": false
        },
        "nteract": {
          "transient": {
            "deleting": false
          }
        },
        "gather": {
          "logged": 1688553238330
        },
        "id": "tevq4R4ekiEe"
      }
    }
  ],
  "metadata": {
    "kernelspec": {
      "name": "python310-sdkv2",
      "language": "python",
      "display_name": "Python 3.10 - SDK v2"
    },
    "language_info": {
      "name": "python",
      "version": "3.10.11",
      "mimetype": "text/x-python",
      "codemirror_mode": {
        "name": "ipython",
        "version": 3
      },
      "pygments_lexer": "ipython3",
      "nbconvert_exporter": "python",
      "file_extension": ".py"
    },
    "microsoft": {
      "ms_spell_check": {
        "ms_spell_check_language": "en"
      },
      "host": {
        "AzureML": {
          "notebookHasBeenCompleted": true
        }
      }
    },
    "kernel_info": {
      "name": "python310-sdkv2"
    },
    "nteract": {
      "version": "nteract-front-end@1.0.0"
    },
    "colab": {
      "provenance": [],
      "gpuType": "T4"
    },
    "accelerator": "TPU"
  },
  "nbformat": 4,
  "nbformat_minor": 0
}