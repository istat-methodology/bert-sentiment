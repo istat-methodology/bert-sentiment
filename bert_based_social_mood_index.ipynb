{
  "cells": [
    {
      "cell_type": "markdown",
      "metadata": {
        "id": "SL7CKymq2jEy"
      },
      "source": [
        "# Data collection"
      ]
    },
    {
      "cell_type": "code",
      "execution_count": null,
      "metadata": {
        "id": "vKC4Oo1P1Wz9"
      },
      "outputs": [],
      "source": [
        "import os\n",
        "import platform\n",
        "# Chose the Operating System\n",
        "#\n",
        "OS = platform.system()                                                               # returns 'Windows', 'Linux', etc\n",
        "\n",
        "if not os.path.exists(\"./smei_bert_dataset.zip\"):\n",
        "    #os.system('gdown --id \"1XzW5NjGD5dwYdhetb8adZMiZzXTYiE-e\" --output \"./smei_bert_dataset.zip\"')  # april, may\n",
        "    #os.system('gdown --id \"1zbpWfRaLQu4ioEu9ixOamrlc3Crr5jZC\" --output \"./smei_bert_dataset.zip\"')  # feb, march\n",
        "    os.system('gdown --id \"1wCMpEdF2TCJHXM4f5G9lm0wFh_-wgmMU\" --output \"./smei_bert_dataset.zip\"')  # jan, feb, march, april, may\n",
        "    \n",
        "    if OS == \"Linux\":\n",
        "        os.system('unzip -o -n \"./smei_bert_dataset.zip\" -d \"./\"')\n",
        "\n",
        "if not os.path.exists(\"./smei_bert_libs.zip\"):\n",
        "    os.system('gdown --id \"1GKrGZFq3kEHd7OfD4hHCwBqas40zPMG-\" --output \"./smei_bert_libs.zip\"')\n",
        "    if OS == \"Linux\":\n",
        "        os.system('unzip -o -n \"./smei_bert_libs.zip\" -d \"./\"')"
      ]
    },
    {
      "cell_type": "markdown",
      "metadata": {
        "id": "Tvb8Skvu1z09"
      },
      "source": [
        "# Libraries Installation"
      ]
    },
    {
      "cell_type": "code",
      "execution_count": null,
      "metadata": {
        "colab": {
          "base_uri": "https://localhost:8080/"
        },
        "id": "n5LLKf761u0C",
        "outputId": "45b666e3-7c5d-4b22-af15-f5609661252f"
      },
      "outputs": [
        {
          "data": {
            "text/plain": [
              "0"
            ]
          },
          "execution_count": 2,
          "metadata": {},
          "output_type": "execute_result"
        }
      ],
      "source": [
        "os.system('pip install transformers==\"3.0.0\"')"
      ]
    },
    {
      "cell_type": "markdown",
      "metadata": {
        "id": "xsueKYt-Xkzb"
      },
      "source": [
        "# All Imports"
      ]
    },
    {
      "cell_type": "code",
      "execution_count": null,
      "metadata": {
        "id": "fnWpCZJGXNyJ"
      },
      "outputs": [],
      "source": [
        "import timeit\n",
        "from scipy.stats import spearmanr\n",
        "from smei_bert_libs.preprocessing import SmeiBertPreprocessing\n",
        "from smei_bert_libs.utils import print_computation_time_in_days\n",
        "import csv\n",
        "import seaborn as sns\n",
        "import matplotlib.pyplot as plt\n",
        "import numpy as np\n",
        "import torch\n",
        "import pandas as pd\n",
        "from torch import nn  \n",
        "from transformers import AutoTokenizer, AutoModelForSequenceClassification"
      ]
    },
    {
      "cell_type": "markdown",
      "metadata": {
        "id": "fPmBbnFK4RJy"
      },
      "source": [
        "# All Globals"
      ]
    },
    {
      "cell_type": "code",
      "execution_count": null,
      "metadata": {
        "colab": {
          "base_uri": "https://localhost:8080/"
        },
        "id": "-kKdwoTS4Plq",
        "outputId": "4d398a16-b215-408f-c09b-a97c5316a45d"
      },
      "outputs": [
        {
          "name": "stdout",
          "output_type": "stream",
          "text": [
            "GPU Available:  True\n"
          ]
        }
      ],
      "source": [
        "gpu = torch.cuda.is_available()\n",
        "print(\"GPU Available: \", gpu)\n",
        "file_out_txt = './smei_bert_output.csv'\n",
        "limit = None\n",
        "limit_n_days = None\n",
        "limit_n_tweets_to_classify = False\n",
        "n_tweets_to_classify = 100\n",
        "datasetPath = './smei_bert_dataset_2020'\n",
        "fieldSeparator = ';'\n",
        "all_encoded_classes = ['-1','0','1']\n",
        "all_classes = [\"Negative\", \"Neutral\", \"Positive\"]"
      ]
    },
    {
      "cell_type": "markdown",
      "metadata": {
        "id": "EleI65Pj70ZC"
      },
      "source": [
        "# Bert Model Definition"
      ]
    },
    {
      "cell_type": "code",
      "execution_count": null,
      "metadata": {
        "colab": {
          "base_uri": "https://localhost:8080/",
          "height": 261,
          "referenced_widgets": [
            "7f160f3ccf3940ffb402864cad979b5d",
            "8aea0fa4cc7f4902a5056deeb60d4100",
            "40d019f7d5c94942acd15f814d6d6615",
            "ed12e0026fe34d3f90fa746bc5be52e4",
            "47fae7120cb54c4c8196310b179b5edd",
            "529f058aa9ae4984b48abae9f7632768",
            "bded40ed02f146e897b600237a67e304",
            "f75b8536b84b4339a20eb76b46c0f297",
            "8534f0ac2a1c47368738075aa65b2d1b",
            "db9c09062c774e38b1de753b531f1b84",
            "f8d9b123e0b14a328884a8c85d3329f5",
            "54d55d80dd7a4378a5477a6b219ccc76",
            "6da73916ad7f41d5aa3a1ea60f3d2a06",
            "5d6fdb33831641c8b8934eab259de4b0",
            "411c1118230a41689710bc9cef4b600f",
            "7ce801db58f547d3ac7719cd8a265fb7",
            "5bfb56877563421b8514791901ee80f3",
            "9ba751d35de140e195a4077aba607e36",
            "c373900431f74f2faaaddc591e04cca3",
            "45d83c3369c04567aafba49710b714df",
            "c9b1bdf8451d4c928b084b5b7ae60179",
            "3d4f866fc3204419ac1ed3dc0d1901d3",
            "63d3ee6d74bf4c99b210b3f430b4819b",
            "223b8f9d4de043c5b8db37b8343ff68c",
            "ccf8e2cc6f6c4c589b72431408b3930a",
            "b2b3fda2a6d640d198d939cd209e8ad0",
            "a62fa56a52e34e27bc54a1fd43a20578",
            "59c9b5a136a1406cad57b313a2ae04ab",
            "57ff222ec0af418f944badfdb9a29b87",
            "ae95aecaa8644815b8f7eaf9aa70054a",
            "7d4b61b558e9447d832d410eb8ab27e1",
            "0fdab920af9c4a01a74e184c48282331",
            "a32b0f2953dd43dbaada8e1af339523b",
            "96e11f4f8f434daf90b7f978177f9f5b",
            "cbb68711c464439d9e509cbe518f6147",
            "343c9cec6cbf43d78f6271f64768d948",
            "bf3da8c8f8d048c3bc02a292a833b6cc",
            "72c1993b8c1e4da59d9d6d58e27b88fb",
            "1ea68be8a9b84dca89baad6d55910e6f",
            "b3b26f1c48424c87ba3a60e7be5b8c29",
            "b83bc958f1ce444b8f87d6303f3a76d0",
            "870aff4d7b8a411d9b608b3eb671bb6a",
            "7076e0a6987a47669b3f05612f2fc9a4",
            "6597875104d347df89c4b4cac9d33f80",
            "fa2f83faca6b4b1eba75a24f64c6f215",
            "6a2cf1cb5e594fde86f48cb2e966153d",
            "f0182a51627a4291a5302971fa7e7272",
            "449bd7eb2cee410da00f911a9e2917f8",
            "d499fa6edfbe4d38aceee68f45ba0d6b",
            "e32a25712632435c82287a80953d8c66",
            "964d622000c7461e92b56853dd688d8f",
            "a63dc07112104105b668b347507115c7",
            "d1e974e213f04c3692900663674d78d9",
            "78717ce6e2434aabb0973dd419e83c1a",
            "24462b55fcb946738579024564239033"
          ]
        },
        "id": "9s9QdCMd6Kek",
        "outputId": "79df091a-e172-42f0-ed68-04b7bbcddf9c"
      },
      "outputs": [
        {
          "data": {
            "application/vnd.jupyter.widget-view+json": {
              "model_id": "7f160f3ccf3940ffb402864cad979b5d",
              "version_major": 2,
              "version_minor": 0
            },
            "text/plain": [
              "Downloading:   0%|          | 0.00/1.29k [00:00<?, ?B/s]"
            ]
          },
          "metadata": {},
          "output_type": "display_data"
        },
        {
          "data": {
            "application/vnd.jupyter.widget-view+json": {
              "model_id": "54d55d80dd7a4378a5477a6b219ccc76",
              "version_major": 2,
              "version_minor": 0
            },
            "text/plain": [
              "Downloading:   0%|          | 0.00/235k [00:00<?, ?B/s]"
            ]
          },
          "metadata": {},
          "output_type": "display_data"
        },
        {
          "data": {
            "application/vnd.jupyter.widget-view+json": {
              "model_id": "63d3ee6d74bf4c99b210b3f430b4819b",
              "version_major": 2,
              "version_minor": 0
            },
            "text/plain": [
              "Downloading:   0%|          | 0.00/112 [00:00<?, ?B/s]"
            ]
          },
          "metadata": {},
          "output_type": "display_data"
        },
        {
          "data": {
            "application/vnd.jupyter.widget-view+json": {
              "model_id": "96e11f4f8f434daf90b7f978177f9f5b",
              "version_major": 2,
              "version_minor": 0
            },
            "text/plain": [
              "Downloading:   0%|          | 0.00/40.0 [00:00<?, ?B/s]"
            ]
          },
          "metadata": {},
          "output_type": "display_data"
        },
        {
          "data": {
            "application/vnd.jupyter.widget-view+json": {
              "model_id": "fa2f83faca6b4b1eba75a24f64c6f215",
              "version_major": 2,
              "version_minor": 0
            },
            "text/plain": [
              "Downloading:   0%|          | 0.00/443M [00:00<?, ?B/s]"
            ]
          },
          "metadata": {},
          "output_type": "display_data"
        }
      ],
      "source": [
        "import glob\n",
        "\n",
        "# Load the tokenizer\n",
        "tokenizer = AutoTokenizer.from_pretrained(\"neuraly/bert-base-italian-cased-sentiment\")\n",
        "# Load the model, use .cuda() to load it on the GPU\n",
        "if gpu is True: \n",
        "  model = AutoModelForSequenceClassification.from_pretrained(\"neuraly/bert-base-italian-cased-sentiment\").cuda()\n",
        "else: \n",
        "  model = AutoModelForSequenceClassification.from_pretrained(\"neuraly/bert-base-italian-cased-sentiment\")\n",
        "\n",
        "def bert_inference(sentence, model):\n",
        "  input_ids = tokenizer.encode(sentence, add_special_tokens=True)\n",
        "\n",
        "  # Create tensor, use .cuda() to transfer the tensor to GPU\n",
        "  if gpu is True: \n",
        "    tensor = torch.tensor(input_ids).long().cuda()\n",
        "  else:\n",
        "    tensor = torch.tensor(input_ids).long()\n",
        "    \n",
        "  # Fake batch dimension\n",
        "  tensor = tensor.unsqueeze(0)\n",
        "\n",
        "  # Call the model and get the logits\n",
        "  logits, = model(tensor)\n",
        "\n",
        "  # Remove the fake batch dimension\n",
        "  logits = logits.squeeze(0)\n",
        "\n",
        "  # The model was trained with a Log Likelyhood + Softmax combined loss, hence to extract probabilities we need a softmax on top of the logits tensor\n",
        "  proba = nn.functional.softmax(logits, dim=0)\n",
        "\n",
        "  # Unpack the tensor to obtain negative, neutral and positive probabilities\n",
        "  negative, neutral, positive = proba\n",
        "\n",
        "  negative = np.round(float(negative), 3)\n",
        "  neutral = np.round(float(neutral), 3)\n",
        "  positive = np.round(float(positive), 3)\n",
        "\n",
        "  classification = np.argmax([negative, neutral, positive])\n",
        "\n",
        "  return negative, neutral, positive, classification"
      ]
    },
    {
      "cell_type": "markdown",
      "metadata": {
        "id": "wC5gSHUriEsu"
      },
      "source": [
        "# Preprocessing"
      ]
    },
    {
      "cell_type": "code",
      "execution_count": null,
      "metadata": {
        "colab": {
          "base_uri": "https://localhost:8080/"
        },
        "id": "z-QV9PqyaJ25",
        "outputId": "90cb3a3c-be12-42b4-f6d5-0b72a42df50f"
      },
      "outputs": [
        {
          "name": "stdout",
          "output_type": "stream",
          "text": [
            "\n",
            "Loading Smei Bert Data from the files...\n",
            "\n",
            "Smei Bert Data - DataSet Folder : ./smei_bert_dataset_2020\n",
            "70442 lines read, n. attributes 10: \n",
            "92243 lines read, n. attributes 10: \n",
            "68725 lines read, n. attributes 10: \n",
            "88567 lines read, n. attributes 10: \n",
            "83497 lines read, n. attributes 10: \n",
            "82666 lines read, n. attributes 10: \n",
            "79347 lines read, n. attributes 10: \n",
            "87489 lines read, n. attributes 10: \n",
            "56988 lines read, n. attributes 10: \n",
            "91181 lines read, n. attributes 10: \n",
            "77593 lines read, n. attributes 10: \n",
            "94485 lines read, n. attributes 10: \n",
            "65267 lines read, n. attributes 10: \n",
            "76194 lines read, n. attributes 10: \n",
            "74460 lines read, n. attributes 10: \n",
            "96394 lines read, n. attributes 10: \n",
            "59640 lines read, n. attributes 10: \n",
            "83091 lines read, n. attributes 10: \n",
            "56996 lines read, n. attributes 10: \n",
            "85565 lines read, n. attributes 10: \n",
            "57429 lines read, n. attributes 10: \n",
            "88126 lines read, n. attributes 10: \n",
            "86835 lines read, n. attributes 10: \n",
            "77783 lines read, n. attributes 10: \n",
            "77287 lines read, n. attributes 10: \n",
            "60853 lines read, n. attributes 10: \n",
            "99900 lines read, n. attributes 10: \n",
            "84904 lines read, n. attributes 10: \n",
            "84014 lines read, n. attributes 10: \n",
            "70275 lines read, n. attributes 10: \n",
            "57835 lines read, n. attributes 10: \n",
            "52873 lines read, n. attributes 10: \n",
            "62422 lines read, n. attributes 10: \n",
            "54754 lines read, n. attributes 10: \n",
            "61991 lines read, n. attributes 10: \n",
            "52909 lines read, n. attributes 10: \n",
            "61445 lines read, n. attributes 10: \n",
            "47710 lines read, n. attributes 10: \n",
            "52590 lines read, n. attributes 10: \n",
            "55022 lines read, n. attributes 10: \n",
            "48238 lines read, n. attributes 10: \n",
            "41304 lines read, n. attributes 10: \n",
            "26993 lines read, n. attributes 10: \n",
            "53893 lines read, n. attributes 10: \n",
            "51439 lines read, n. attributes 10: \n",
            "61267 lines read, n. attributes 10: \n",
            "58253 lines read, n. attributes 10: \n",
            "63831 lines read, n. attributes 10: \n",
            "59519 lines read, n. attributes 10: \n",
            "52015 lines read, n. attributes 10: \n",
            "50292 lines read, n. attributes 10: \n",
            "68686 lines read, n. attributes 10: \n",
            "53134 lines read, n. attributes 10: \n",
            "59626 lines read, n. attributes 10: \n",
            "33591 lines read, n. attributes 10: \n",
            "53072 lines read, n. attributes 10: \n",
            "53147 lines read, n. attributes 10: \n",
            "56756 lines read, n. attributes 10: \n",
            "60914 lines read, n. attributes 10: \n",
            "56311 lines read, n. attributes 10: \n",
            "56300 lines read, n. attributes 10: \n",
            "49933 lines read, n. attributes 10: \n",
            "57079 lines read, n. attributes 10: \n",
            "53959 lines read, n. attributes 10: \n",
            "47584 lines read, n. attributes 10: \n",
            "56970 lines read, n. attributes 10: \n",
            "61038 lines read, n. attributes 10: \n",
            "57498 lines read, n. attributes 10: \n",
            "52091 lines read, n. attributes 10: \n",
            "54879 lines read, n. attributes 10: \n",
            "62274 lines read, n. attributes 10: \n",
            "55773 lines read, n. attributes 10: \n",
            "61764 lines read, n. attributes 10: \n",
            "55497 lines read, n. attributes 10: \n",
            "65700 lines read, n. attributes 10: \n",
            "58457 lines read, n. attributes 10: \n",
            "47739 lines read, n. attributes 10: \n",
            "54561 lines read, n. attributes 10: \n",
            "55950 lines read, n. attributes 10: \n",
            "48451 lines read, n. attributes 10: \n",
            "56580 lines read, n. attributes 10: \n",
            "47526 lines read, n. attributes 10: \n",
            "67233 lines read, n. attributes 10: \n",
            "50986 lines read, n. attributes 10: \n",
            "56596 lines read, n. attributes 10: \n",
            "63628 lines read, n. attributes 10: \n",
            "63629 lines read, n. attributes 10: \n",
            "68899 lines read, n. attributes 10: \n",
            "48657 lines read, n. attributes 10: \n",
            "53631 lines read, n. attributes 10: \n",
            "55657 lines read, n. attributes 10: \n",
            "67724 lines read, n. attributes 10: \n",
            "96042 lines read, n. attributes 10: \n",
            "113149 lines read, n. attributes 10: \n",
            "116190 lines read, n. attributes 10: \n",
            "92592 lines read, n. attributes 10: \n",
            "99617 lines read, n. attributes 10: \n",
            "137024 lines read, n. attributes 10: \n",
            "111517 lines read, n. attributes 10: \n",
            "98434 lines read, n. attributes 10: \n",
            "77583 lines read, n. attributes 10: \n",
            "37715 lines read, n. attributes 10: \n",
            "143792 lines read, n. attributes 10: \n",
            "66962 lines read, n. attributes 10: \n",
            "115364 lines read, n. attributes 10: \n",
            "78097 lines read, n. attributes 10: \n",
            "107567 lines read, n. attributes 10: \n",
            "120611 lines read, n. attributes 10: \n",
            "128645 lines read, n. attributes 10: \n",
            "104385 lines read, n. attributes 10: \n",
            "88857 lines read, n. attributes 10: \n",
            "68328 lines read, n. attributes 10: \n",
            "117083 lines read, n. attributes 10: \n",
            "114582 lines read, n. attributes 10: \n",
            "113194 lines read, n. attributes 10: \n",
            "88133 lines read, n. attributes 10: \n",
            "138874 lines read, n. attributes 10: \n",
            "121144 lines read, n. attributes 10: \n",
            "111541 lines read, n. attributes 10: \n",
            "132194 lines read, n. attributes 10: \n",
            "113635 lines read, n. attributes 10: \n",
            "128074 lines read, n. attributes 10: \n",
            "96182 lines read, n. attributes 10: \n",
            "117688 lines read, n. attributes 10: \n",
            "92267 lines read, n. attributes 10: \n",
            "100478 lines read, n. attributes 10: \n",
            "134804 lines read, n. attributes 10: \n",
            "123198 lines read, n. attributes 10: \n",
            "106683 lines read, n. attributes 10: \n",
            "113523 lines read, n. attributes 10: \n",
            "98062 lines read, n. attributes 10: \n",
            "102749 lines read, n. attributes 10: \n",
            "66690 lines read, n. attributes 10: \n",
            "96085 lines read, n. attributes 10: \n",
            "110182 lines read, n. attributes 10: \n",
            "84998 lines read, n. attributes 10: \n",
            "97808 lines read, n. attributes 10: \n",
            "98968 lines read, n. attributes 10: \n",
            "98710 lines read, n. attributes 10: \n",
            "141520 lines read, n. attributes 10: \n",
            "99290 lines read, n. attributes 10: \n",
            "96428 lines read, n. attributes 10: \n",
            "71275 lines read, n. attributes 10: \n",
            "83282 lines read, n. attributes 10: \n",
            "91861 lines read, n. attributes 10: \n",
            "102053 lines read, n. attributes 10: \n",
            "85091 lines read, n. attributes 10: \n",
            "85457 lines read, n. attributes 10: \n",
            "94287 lines read, n. attributes 10: \n",
            "119776 lines read, n. attributes 10: \n",
            "103511 lines read, n. attributes 10: \n",
            "92206 lines read, n. attributes 10: \n",
            "\n",
            "Total lines 11980348: \n",
            "\n",
            "Preprocessing Elapsed Time:  91.72158900099998\n"
          ]
        }
      ],
      "source": [
        "start_time = timeit.default_timer()\n",
        "\n",
        "file_out = open(file_out_txt, 'w')\n",
        "file_out.write(\"Current Day, Number of Positives, Number of Neutrals, Number of Negatives, Total Number, Bert Smei Index 1, Positive Probs Sum, Neutrals Probs Sum, Negatives Probs Sum, Total Probs, Bert Smei Insex 2, Normal Smei Number of Positives, Normal Smei Number of Neutrals, Normal Smei Number of Negatives, Normal Smei Total Number, Normal Smei Index 3\\n\")\n",
        "file_out.close\n",
        "i = 0\n",
        "\n",
        "sbert = SmeiBertPreprocessing(limit)\t\t\t # Test the program on a smaller Dataset - True or Full Dataset - False\t\n",
        "dataset = sbert.loadSmeiBertData(dataPath=datasetPath, fieldSeparator = fieldSeparator, limit = limit, limit_n_days = limit_n_days)\n",
        "\n",
        "end_time = timeit.default_timer()\n",
        "print(\"\\nPreprocessing Elapsed Time: \", end_time - start_time)"
      ]
    },
    {
      "cell_type": "code",
      "execution_count": null,
      "metadata": {
        "colab": {
          "base_uri": "https://localhost:8080/",
          "height": 91
        },
        "id": "I4J10xOcPoXy",
        "outputId": "764e8351-5b0c-498b-92a5-8a99b8745851"
      },
      "outputs": [
        {
          "data": {
            "application/vnd.google.colaboratory.intrinsic+json": {
              "type": "string"
            },
            "text/plain": [
              "'\\nsentences_data = list(dataset[d][1][:,8])[0:500]\\n\\nprint(sentences_data)\\n\\nbert_negative, bert_neutral, bert_positive, classification = bert_inference(sentences_data, model)\\nprint(bert_negative)\\nprint(bert_neutral)\\nprint(bert_positive)\\n'"
            ]
          },
          "execution_count": 29,
          "metadata": {},
          "output_type": "execute_result"
        }
      ],
      "source": [
        "'''\n",
        "sentences_data = list(dataset[d][1][:,8])[0:500]\n",
        "\n",
        "print(sentences_data)\n",
        "\n",
        "bert_negative, bert_neutral, bert_positive, classification = bert_inference(sentences_data, model)\n",
        "print(bert_negative)\n",
        "print(bert_neutral)\n",
        "print(bert_positive)\n",
        "'''"
      ]
    },
    {
      "cell_type": "markdown",
      "metadata": {
        "id": "P_V_hZzt5QFK"
      },
      "source": [
        "# Main Loop"
      ]
    },
    {
      "cell_type": "code",
      "execution_count": null,
      "metadata": {
        "colab": {
          "base_uri": "https://localhost:8080/"
        },
        "id": "Y3J4ptbwiuTG",
        "outputId": "3b8d7cca-314e-4203-bb22-e9706e8f8a8a"
      },
      "outputs": [
        {
          "name": "stdout",
          "output_type": "stream",
          "text": [
            "2020-01-01   -  .....................................................................................................\n",
            "Processing:  ['2020-01-01', 17, 64, 20, 101, -0.0297029702970297, 21.008999999999986, 60.200999999999986, 19.77900000000001, 100.98899999999999, 0.012179544306805451, 27, 50, 24, 101, 0.0297029702970297]\n",
            "2020-01-02   -  .....................................................................................................\n",
            "Processing:  ['2020-01-02', 19, 74, 8, 101, 0.10891089108910891, 17.236999999999995, 74.02899999999998, 9.737000000000009, 101.00299999999999, 0.07425522014197584, 29, 46, 26, 101, 0.0297029702970297]\n",
            "2020-01-03   -  .....................................................................................................\n",
            "Processing:  ['2020-01-03', 10, 75, 16, 101, -0.0594059405940594, 10.833999999999998, 74.90399999999998, 15.256999999999994, 100.99499999999998, -0.04379424723996235, 27, 52, 22, 101, 0.04950495049504951]\n",
            "2020-01-04   -  .....................................................................................................\n",
            "Processing:  ['2020-01-04', 6, 84, 11, 101, -0.04950495049504951, 7.027000000000001, 83.16300000000003, 10.804, 100.99400000000003, -0.03739826128284847, 23, 55, 23, 101, 0.0]\n",
            "2020-01-05   -  .....................................................................................................\n",
            "Processing:  ['2020-01-05', 10, 77, 14, 101, -0.039603960396039604, 9.764, 76.22999999999998, 14.990999999999989, 100.98499999999996, -0.051760162400356406, 37, 41, 23, 101, 0.13861386138613863]\n",
            "2020-01-06   -  .....................................................................................................\n",
            "Processing:  ['2020-01-06', 10, 76, 15, 101, -0.04950495049504951, 10.126, 75.675, 15.19599999999999, 100.99699999999999, -0.05019951087656061, 23, 41, 37, 101, -0.13861386138613863]\n",
            "2020-01-07   -  .....................................................................................................\n",
            "Processing:  ['2020-01-07', 6, 71, 24, 101, -0.1782178217821782, 6.937999999999999, 72.36899999999997, 21.694, 101.00099999999998, -0.1460975633904615, 25, 57, 19, 101, 0.0594059405940594]\n",
            "2020-01-08   -  .....................................................................................................\n",
            "Processing:  ['2020-01-08', 18, 64, 19, 101, -0.009900990099009901, 18.389000000000014, 63.76899999999998, 18.839000000000002, 100.99699999999999, -0.00445557788845202, 28, 47, 26, 101, 0.019801980198019802]\n",
            "2020-01-09   -  .....................................................................................................\n",
            "Processing:  ['2020-01-09', 14, 80, 7, 101, 0.06930693069306931, 15.529999999999996, 78.42199999999997, 7.049999999999999, 101.00199999999997, 0.08395873349042593, 48, 37, 16, 101, 0.31683168316831684]\n",
            "2020-01-10   -  .....................................................................................................\n",
            "Processing:  ['2020-01-10', 14, 77, 10, 101, 0.039603960396039604, 14.381000000000002, 73.8, 12.814999999999998, 100.996, 0.015505564576814967, 27, 44, 30, 101, -0.0297029702970297]\n",
            "2020-01-11   -  .....................................................................................................\n",
            "Processing:  ['2020-01-11', 13, 76, 12, 101, 0.009900990099009901, 14.570999999999996, 75.444, 10.986999999999998, 101.002, 0.035484445852557354, 44, 32, 25, 101, 0.18811881188118812]\n",
            "2020-01-12   -  .....................................................................................................\n",
            "Processing:  ['2020-01-12', 4, 79, 18, 101, -0.13861386138613863, 5.132999999999996, 73.85499999999999, 22.018, 101.00599999999999, -0.1671682870324536, 18, 47, 36, 101, -0.1782178217821782]\n",
            "2020-01-13   -  .....................................................................................................\n",
            "Processing:  ['2020-01-13', 19, 69, 13, 101, 0.0594059405940594, 18.567000000000004, 67.724, 14.704999999999997, 100.99600000000001, 0.03823913818369051, 27, 44, 30, 101, -0.0297029702970297]\n",
            "2020-01-14   -  .....................................................................................................\n",
            "Processing:  ['2020-01-14', 11, 82, 8, 101, 0.0297029702970297, 11.823, 80.57000000000002, 8.600000000000003, 100.99300000000004, 0.03191310288831895, 37, 52, 12, 101, 0.24752475247524752]\n",
            "2020-01-15   -  .....................................................................................................\n",
            "Processing:  ['2020-01-15', 14, 79, 8, 101, 0.0594059405940594, 15.317, 75.69999999999996, 9.973999999999998, 100.99099999999997, 0.052905704468715065, 32, 43, 26, 101, 0.0594059405940594]\n",
            "2020-01-16   -  .....................................................................................................\n",
            "Processing:  ['2020-01-16', 5, 82, 14, 101, -0.0891089108910891, 6.950000000000001, 78.70799999999996, 15.336000000000002, 100.99399999999996, -0.08303463572093396, 43, 31, 27, 101, 0.15841584158415842]\n",
            "2020-01-17   -  .....................................................................................................\n",
            "Processing:  ['2020-01-17', 13, 79, 9, 101, 0.039603960396039604, 13.780999999999999, 77.80800000000002, 9.407000000000002, 100.99600000000002, 0.04330864588696578, 32, 48, 21, 101, 0.10891089108910891]\n",
            "2020-01-18   -  .....................................................................................................\n",
            "Processing:  ['2020-01-18', 11, 76, 14, 101, -0.0297029702970297, 11.934000000000001, 75.2, 13.866000000000003, 101.0, -0.01912871287128715, 41, 30, 30, 101, 0.10891089108910891]\n",
            "2020-01-19   -  .....................................................................................................\n",
            "Processing:  ['2020-01-19', 24, 59, 18, 101, 0.0594059405940594, 21.205000000000002, 63.245999999999995, 16.542999999999992, 100.99399999999999, 0.04616115808859943, 35, 46, 20, 101, 0.1485148514851485]\n",
            "2020-01-20   -  .....................................................................................................\n",
            "Processing:  ['2020-01-20', 14, 69, 18, 101, -0.039603960396039604, 13.611, 68.15200000000002, 19.234, 100.99700000000001, -0.05567492103725854, 29, 51, 21, 101, 0.07920792079207921]\n",
            "2020-01-21   -  .....................................................................................................\n",
            "Processing:  ['2020-01-21', 6, 83, 12, 101, -0.0594059405940594, 7.462999999999997, 80.85099999999998, 12.676999999999996, 100.99099999999997, -0.051628362923428824, 34, 46, 21, 101, 0.12871287128712872]\n",
            "2020-01-22   -  .....................................................................................................\n",
            "Processing:  ['2020-01-22', 16, 72, 13, 101, 0.0297029702970297, 15.592000000000002, 70.303, 15.110999999999997, 101.006, 0.004762093340989696, 35, 43, 23, 101, 0.1188118811881188]\n",
            "2020-01-23   -  .....................................................................................................\n",
            "Processing:  ['2020-01-23', 8, 84, 9, 101, -0.009900990099009901, 11.517999999999999, 77.10199999999995, 12.374000000000002, 100.99399999999994, -0.008475751034714972, 27, 53, 21, 101, 0.0594059405940594]\n",
            "2020-01-24   -  .....................................................................................................\n",
            "Processing:  ['2020-01-24', 9, 78, 14, 101, -0.04950495049504951, 9.683999999999996, 77.258, 14.052999999999995, 100.99499999999999, -0.04325956730531215, 35, 49, 17, 101, 0.1782178217821782]\n",
            "2020-01-25   -  .....................................................................................................\n",
            "Processing:  ['2020-01-25', 18, 70, 13, 101, 0.04950495049504951, 15.144999999999992, 71.78399999999999, 14.073999999999996, 101.00299999999999, 0.010603645436274133, 34, 48, 19, 101, 0.1485148514851485]\n",
            "2020-01-26   -  .....................................................................................................\n",
            "Processing:  ['2020-01-26', 12, 68, 21, 101, -0.0891089108910891, 12.958999999999994, 66.30000000000001, 21.741000000000003, 101.0, -0.08695049504950504, 25, 64, 12, 101, 0.12871287128712872]\n",
            "2020-01-27   -  .....................................................................................................\n",
            "Processing:  ['2020-01-27', 8, 73, 20, 101, -0.1188118811881188, 11.759, 70.04800000000002, 19.205999999999996, 101.013, -0.073723184144615, 28, 38, 35, 101, -0.06930693069306931]\n",
            "2020-01-28   -  .....................................................................................................\n",
            "Processing:  ['2020-01-28', 16, 73, 12, 101, 0.039603960396039604, 16.601999999999997, 71.95999999999998, 12.43, 100.99199999999999, 0.04131020278833965, 24, 58, 19, 101, 0.04950495049504951]\n",
            "2020-01-29   -  .....................................................................................................\n",
            "Processing:  ['2020-01-29', 10, 72, 19, 101, -0.0891089108910891, 10.983, 71.74299999999997, 18.267, 100.99299999999997, -0.07212381056112802, 25, 57, 19, 101, 0.0594059405940594]\n",
            "2020-01-30   -  .....................................................................................................\n",
            "Processing:  ['2020-01-30', 9, 79, 13, 101, -0.039603960396039604, 9.015999999999998, 77.60399999999996, 14.377, 100.99699999999994, -0.05308078457775979, 24, 44, 33, 101, -0.0891089108910891]\n",
            "2020-01-31   -  .....................................................................................................\n",
            "Processing:  ['2020-01-31', 5, 77, 19, 101, -0.13861386138613863, 6.418999999999996, 77.254, 17.351000000000006, 101.024, -0.10821191004117843, 27, 38, 36, 101, -0.0891089108910891]\n",
            "2020-02-01   -  .....................................................................................................\n",
            "Processing:  ['2020-02-01', 16, 66, 19, 101, -0.0297029702970297, 16.693999999999996, 64.922, 19.375000000000004, 100.99099999999999, -0.026546920022576352, 32, 47, 22, 101, 0.09900990099009901]\n",
            "2020-02-02   -  .....................................................................................................\n",
            "Processing:  ['2020-02-02', 21, 63, 17, 101, 0.039603960396039604, 20.640000000000008, 63.28099999999999, 17.071, 100.99199999999999, 0.03533943282636255, 39, 46, 16, 101, 0.22772277227722773]\n",
            "2020-02-03   -  .....................................................................................................\n",
            "Processing:  ['2020-02-03', 14, 64, 23, 101, -0.0891089108910891, 12.933999999999994, 68.43800000000002, 19.619000000000007, 100.99100000000001, -0.0661940172886694, 33, 48, 20, 101, 0.12871287128712872]\n",
            "2020-02-04   -  .....................................................................................................\n",
            "Processing:  ['2020-02-04', 9, 76, 16, 101, -0.06930693069306931, 9.299999999999997, 75.80099999999999, 15.895999999999999, 100.99699999999999, -0.06530887056051173, 34, 36, 31, 101, 0.0297029702970297]\n",
            "2020-02-05   -  .....................................................................................................\n",
            "Processing:  ['2020-02-05', 9, 77, 15, 101, -0.0594059405940594, 10.017999999999997, 74.81699999999998, 16.158, 100.99299999999998, -0.060796292812373184, 28, 52, 21, 101, 0.06930693069306931]\n",
            "2020-02-06   -  .....................................................................................................\n",
            "Processing:  ['2020-02-06', 10, 66, 25, 101, -0.1485148514851485, 12.827999999999996, 64.22900000000001, 23.937999999999988, 100.995, -0.11000544581414913, 18, 61, 22, 101, -0.039603960396039604]\n",
            "2020-02-07   -  .....................................................................................................\n",
            "Processing:  ['2020-02-07', 12, 81, 8, 101, 0.039603960396039604, 13.551000000000002, 78.10799999999998, 9.339999999999998, 100.99899999999998, 0.04169348211368434, 45, 31, 25, 101, 0.19801980198019803]\n",
            "2020-02-08   -  .....................................................................................................\n",
            "Processing:  ['2020-02-08', 9, 71, 21, 101, -0.1188118811881188, 10.771, 69.96599999999997, 20.246999999999996, 100.98399999999997, -0.09383664738968549, 35, 51, 15, 101, 0.19801980198019803]\n",
            "2020-02-09   -  .....................................................................................................\n",
            "Processing:  ['2020-02-09', 23, 62, 16, 101, 0.06930693069306931, 22.313999999999993, 61.047999999999966, 17.634999999999998, 100.99699999999996, 0.04632810875570558, 32, 61, 8, 101, 0.2376237623762376]\n",
            "2020-02-10   -  .....................................................................................................\n",
            "Processing:  ['2020-02-10', 4, 66, 31, 101, -0.26732673267326734, 5.166999999999998, 68.90300000000003, 26.932999999999993, 101.00300000000003, -0.2154985495480331, 43, 45, 13, 101, 0.297029702970297]\n",
            "2020-02-11   -  .....................................................................................................\n",
            "Processing:  ['2020-02-11', 14, 78, 9, 101, 0.04950495049504951, 14.901000000000002, 75.587, 10.502999999999997, 100.991, 0.04354843500906026, 28, 50, 23, 101, 0.04950495049504951]\n",
            "2020-02-12   -  .....................................................................................................\n",
            "Processing:  ['2020-02-12', 14, 69, 18, 101, -0.039603960396039604, 13.571000000000002, 69.404, 18.034999999999997, 101.00999999999999, -0.04419364419364415, 29, 45, 27, 101, 0.019801980198019802]\n",
            "2020-02-13   -  .....................................................................................................\n",
            "Processing:  ['2020-02-13', 12, 73, 16, 101, -0.039603960396039604, 11.64, 73.08900000000001, 16.273, 101.00200000000001, -0.0458703788043801, 36, 44, 21, 101, 0.1485148514851485]\n",
            "2020-02-14   -  .....................................................................................................\n",
            "Processing:  ['2020-02-14', 8, 80, 13, 101, -0.04950495049504951, 11.132000000000001, 76.51899999999999, 13.350999999999999, 101.002, -0.021969861982931008, 38, 42, 21, 101, 0.16831683168316833]\n",
            "2020-02-15   -  .....................................................................................................\n",
            "Processing:  ['2020-02-15', 19, 64, 18, 101, 0.009900990099009901, 19.855, 64.23899999999998, 16.905, 100.99899999999998, 0.02920820998227705, 24, 50, 27, 101, -0.0297029702970297]\n",
            "2020-02-16   -  .....................................................................................................\n",
            "Processing:  ['2020-02-16', 14, 65, 22, 101, -0.07920792079207921, 16.31199999999999, 59.682999999999986, 25.004999999999992, 100.99999999999997, -0.0860693069306931, 25, 42, 34, 101, -0.0891089108910891]\n",
            "2020-02-17   -  .....................................................................................................\n",
            "Processing:  ['2020-02-17', 18, 57, 26, 101, -0.07920792079207921, 18.544000000000004, 57.69399999999998, 24.753999999999998, 100.99199999999999, -0.061490019011406785, 29, 49, 23, 101, 0.0594059405940594]\n",
            "2020-02-18   -  .....................................................................................................\n",
            "Processing:  ['2020-02-18', 15, 73, 13, 101, 0.019801980198019802, 14.694999999999999, 71.39299999999996, 14.918999999999997, 101.00699999999995, -0.0022176680824101155, 37, 45, 19, 101, 0.1782178217821782]\n",
            "2020-02-19   -  .....................................................................................................\n",
            "Processing:  ['2020-02-19', 14, 67, 20, 101, -0.0594059405940594, 14.64199999999999, 67.945, 18.408999999999992, 100.99599999999998, -0.03729850687155929, 27, 43, 31, 101, -0.039603960396039604]\n",
            "2020-02-20   -  .....................................................................................................\n",
            "Processing:  ['2020-02-20', 7, 85, 9, 101, -0.019801980198019802, 7.871000000000002, 79.94399999999999, 13.178999999999993, 100.99399999999999, -0.05255757767788177, 20, 44, 37, 101, -0.16831683168316833]\n",
            "2020-02-21   -  .....................................................................................................\n",
            "Processing:  ['2020-02-21', 12, 76, 13, 101, -0.009900990099009901, 11.111000000000002, 76.75000000000003, 13.138999999999992, 101.00000000000003, -0.020079207920791972, 29, 53, 19, 101, 0.09900990099009901]\n",
            "2020-02-22   -  .....................................................................................................\n",
            "Processing:  ['2020-02-22', 15, 71, 15, 101, 0.0, 13.927999999999994, 69.80399999999999, 17.25899999999999, 100.99099999999997, -0.0329831371112277, 29, 51, 21, 101, 0.07920792079207921]\n",
            "2020-02-23   -  .....................................................................................................\n",
            "Processing:  ['2020-02-23', 11, 62, 28, 101, -0.16831683168316833, 11.487999999999998, 60.09299999999999, 29.414999999999996, 100.99599999999998, -0.17750207929026895, 15, 52, 34, 101, -0.18811881188118812]\n",
            "2020-02-24   -  .....................................................................................................\n",
            "Processing:  ['2020-02-24', 13, 71, 17, 101, -0.039603960396039604, 14.087999999999997, 68.765, 18.142999999999994, 100.99599999999998, -0.04015010495465164, 23, 58, 20, 101, 0.0297029702970297]\n",
            "2020-02-25   -  .....................................................................................................\n",
            "Processing:  ['2020-02-25', 12, 71, 18, 101, -0.0594059405940594, 11.894999999999994, 72.38899999999998, 16.70799999999999, 100.99199999999996, -0.04765724017743979, 30, 47, 24, 101, 0.0594059405940594]\n",
            "2020-02-26   -  .....................................................................................................\n",
            "Processing:  ['2020-02-26', 9, 69, 23, 101, -0.13861386138613863, 10.129999999999995, 68.507, 22.357, 100.994, -0.12106659801572374, 36, 47, 18, 101, 0.1782178217821782]\n",
            "2020-02-27   -  .....................................................................................................\n",
            "Processing:  ['2020-02-27', 15, 69, 17, 101, -0.019801980198019802, 15.931999999999993, 67.72500000000001, 17.344999999999995, 101.002, -0.013989821983723115, 26, 46, 29, 101, -0.0297029702970297]\n",
            "2020-02-28   -  .....................................................................................................\n",
            "Processing:  ['2020-02-28', 14, 73, 14, 101, 0.0, 14.651000000000005, 71.99199999999998, 14.353999999999996, 100.99699999999999, 0.0029406814063785017, 16, 53, 32, 101, -0.15841584158415842]\n",
            "2020-02-29   -  .....................................................................................................\n",
            "Processing:  ['2020-02-29', 16, 59, 26, 101, -0.09900990099009901, 15.205999999999996, 60.06200000000001, 25.732, 101.0, -0.10421782178217825, 28, 50, 23, 101, 0.04950495049504951]\n",
            "2020-03-01   -  .....................................................................................................\n",
            "Processing:  ['2020-03-01', 17, 67, 17, 101, 0.0, 16.582000000000008, 65.81899999999999, 18.600999999999996, 101.002, -0.019989703174194448, 38, 40, 23, 101, 0.1485148514851485]\n",
            "2020-03-02   -  .....................................................................................................\n",
            "Processing:  ['2020-03-02', 17, 70, 14, 101, 0.0297029702970297, 18.260999999999996, 66.72699999999998, 16.016000000000005, 101.00399999999998, 0.022226842501286988, 33, 42, 26, 101, 0.06930693069306931]\n",
            "2020-03-03   -  .....................................................................................................\n",
            "Processing:  ['2020-03-03', 11, 75, 15, 101, -0.039603960396039604, 12.116999999999996, 74.60999999999999, 14.266000000000002, 100.99299999999998, -0.021278702484330662, 23, 60, 18, 101, 0.04950495049504951]\n",
            "2020-03-04   -  .....................................................................................................\n",
            "Processing:  ['2020-03-04', 14, 77, 10, 101, 0.039603960396039604, 14.601999999999997, 73.04, 13.356000000000002, 100.99799999999999, 0.012336877957979319, 29, 53, 19, 101, 0.09900990099009901]\n",
            "2020-03-05   -  .....................................................................................................\n",
            "Processing:  ['2020-03-05', 13, 74, 14, 101, -0.009900990099009901, 14.546, 71.52599999999997, 14.922, 100.99399999999997, -0.003722993445155171, 22, 50, 29, 101, -0.06930693069306931]\n",
            "2020-03-06   -  .....................................................................................................\n",
            "Processing:  ['2020-03-06', 11, 70, 20, 101, -0.0891089108910891, 12.688999999999998, 67.68799999999997, 20.610000000000007, 100.98699999999997, -0.07843583827621388, 17, 57, 27, 101, -0.09900990099009901]\n",
            "2020-03-07   -  .....................................................................................................\n",
            "Processing:  ['2020-03-07', 13, 78, 10, 101, 0.0297029702970297, 14.206, 74.27500000000002, 12.529999999999996, 101.01100000000002, 0.016592252328954307, 31, 51, 19, 101, 0.1188118811881188]\n",
            "2020-03-08   -  .....................................................................................................\n",
            "Processing:  ['2020-03-08', 22, 60, 19, 101, 0.0297029702970297, 20.150999999999996, 61.74999999999999, 19.097999999999992, 100.99899999999997, 0.010425845800453517, 24, 46, 31, 101, -0.06930693069306931]\n",
            "2020-03-09   -  .....................................................................................................\n",
            "Processing:  ['2020-03-09', 16, 71, 14, 101, 0.019801980198019802, 17.243000000000002, 68.66400000000002, 15.082999999999998, 100.99000000000001, 0.021388256262996373, 27, 52, 22, 101, 0.04950495049504951]\n",
            "2020-03-10   -  .....................................................................................................\n",
            "Processing:  ['2020-03-10', 12, 71, 18, 101, -0.0594059405940594, 11.026, 70.21800000000003, 19.750999999999998, 100.99500000000003, -0.08639041536709734, 27, 47, 27, 101, 0.0]\n",
            "2020-03-11   -  .....................................................................................................\n",
            "Processing:  ['2020-03-11', 12, 79, 10, 101, 0.019801980198019802, 12.296999999999997, 77.25699999999999, 11.443999999999997, 100.99799999999999, 0.008445711796273191, 29, 62, 10, 101, 0.18811881188118812]\n",
            "2020-03-12   -  .....................................................................................................\n",
            "Processing:  ['2020-03-12', 11, 77, 13, 101, -0.019801980198019802, 12.99, 74.066, 13.932999999999998, 100.98899999999999, -0.009337650635217676, 29, 51, 21, 101, 0.07920792079207921]\n",
            "2020-03-13   -  .....................................................................................................\n",
            "Processing:  ['2020-03-13', 14, 75, 12, 101, 0.019801980198019802, 13.160000000000007, 74.43900000000005, 13.394999999999992, 100.99400000000006, -0.002326870903221826, 19, 51, 31, 101, -0.1188118811881188]\n",
            "2020-03-14   -  .....................................................................................................\n",
            "Processing:  ['2020-03-14', 13, 75, 13, 101, 0.0, 15.068999999999997, 73.40699999999997, 12.523999999999997, 100.99999999999997, 0.025198019801980203, 23, 55, 23, 101, 0.0]\n",
            "2020-03-15   -  .....................................................................................................\n",
            "Processing:  ['2020-03-15', 20, 70, 11, 101, 0.0891089108910891, 19.92400000000001, 69.069, 12.006999999999998, 101.0, 0.07838613861386151, 20, 57, 24, 101, -0.039603960396039604]\n",
            "2020-03-16   -  .....................................................................................................\n",
            "Processing:  ['2020-03-16', 26, 58, 17, 101, 0.0891089108910891, 20.689000000000004, 62.67799999999999, 17.630999999999993, 100.99799999999999, 0.030277827283708696, 30, 52, 19, 101, 0.10891089108910891]\n",
            "2020-03-17   -  .....................................................................................................\n",
            "Processing:  ['2020-03-17', 13, 73, 15, 101, -0.019801980198019802, 13.480999999999996, 70.60999999999999, 16.898999999999994, 100.98999999999998, -0.03384493514209326, 21, 49, 31, 101, -0.09900990099009901]\n",
            "2020-03-18   -  .....................................................................................................\n",
            "Processing:  ['2020-03-18', 8, 83, 10, 101, -0.019801980198019802, 8.013999999999998, 81.08899999999998, 11.892999999999997, 100.99599999999998, -0.03840746168165076, 41, 41, 19, 101, 0.21782178217821782]\n",
            "2020-03-19   -  .....................................................................................................\n",
            "Processing:  ['2020-03-19', 19, 63, 19, 101, 0.0, 18.102999999999998, 62.32200000000001, 20.575999999999997, 101.001, -0.024484906090038703, 32, 45, 24, 101, 0.07920792079207921]\n",
            "2020-03-20   -  .....................................................................................................\n",
            "Processing:  ['2020-03-20', 5, 77, 19, 101, -0.13861386138613863, 6.741999999999998, 73.43199999999996, 20.815999999999992, 100.98999999999995, -0.13936033270620854, 37, 46, 18, 101, 0.18811881188118812]\n",
            "2020-03-21   -  .....................................................................................................\n",
            "Processing:  ['2020-03-21', 9, 79, 13, 101, -0.039603960396039604, 10.594999999999999, 74.33399999999997, 16.078000000000003, 101.00699999999998, -0.05428336649935158, 34, 42, 25, 101, 0.0891089108910891]\n",
            "2020-03-22   -  .....................................................................................................\n",
            "Processing:  ['2020-03-22', 4, 79, 18, 101, -0.13861386138613863, 5.535999999999997, 77.09599999999999, 18.365000000000006, 100.997, -0.12702357495767208, 23, 55, 23, 101, 0.0]\n",
            "2020-03-23   -  .....................................................................................................\n",
            "Processing:  ['2020-03-23', 10, 73, 18, 101, -0.07920792079207921, 10.821999999999994, 70.95, 19.222, 100.994, -0.08317325781729615, 42, 40, 19, 101, 0.22772277227722773]\n",
            "2020-03-24   -  .....................................................................................................\n",
            "Processing:  ['2020-03-24', 11, 78, 12, 101, -0.009900990099009901, 11.103, 77.44800000000001, 12.454999999999995, 101.006, -0.013385343444943815, 31, 44, 26, 101, 0.04950495049504951]\n",
            "2020-03-25   -  .....................................................................................................\n",
            "Processing:  ['2020-03-25', 10, 73, 18, 101, -0.07920792079207921, 12.032, 70.19999999999999, 18.769000000000005, 101.00099999999999, -0.06670230987812008, 21, 58, 22, 101, -0.009900990099009901]\n",
            "2020-03-26   -  .....................................................................................................\n",
            "Processing:  ['2020-03-26', 10, 77, 14, 101, -0.039603960396039604, 9.481999999999998, 74.91499999999998, 16.598000000000006, 100.99499999999998, -0.07045893361057488, 25, 48, 28, 101, -0.0297029702970297]\n",
            "2020-03-27   -  .....................................................................................................\n",
            "Processing:  ['2020-03-27', 12, 80, 9, 101, 0.0297029702970297, 12.128, 78.43799999999999, 10.436999999999996, 101.00299999999999, 0.016742076968010895, 36, 46, 19, 101, 0.16831683168316833]\n",
            "2020-03-28   -  .....................................................................................................\n",
            "Processing:  ['2020-03-28', 15, 73, 13, 101, 0.019801980198019802, 16.972, 70.27699999999996, 13.744999999999996, 100.99399999999996, 0.03195239321147798, 26, 49, 26, 101, 0.0]\n",
            "2020-03-29   -  .....................................................................................................\n",
            "Processing:  ['2020-03-29', 10, 76, 15, 101, -0.04950495049504951, 10.449999999999998, 74.90800000000002, 15.641999999999998, 101.00000000000001, -0.0514059405940594, 24, 56, 21, 101, 0.0297029702970297]\n",
            "2020-03-30   -  .....................................................................................................\n",
            "Processing:  ['2020-03-30', 13, 75, 13, 101, 0.0, 14.231000000000003, 74.30199999999999, 12.467, 101.0, 0.017465346534653495, 23, 52, 26, 101, -0.0297029702970297]\n",
            "2020-03-31   -  .....................................................................................................\n",
            "Processing:  ['2020-03-31', 13, 72, 16, 101, -0.0297029702970297, 12.349000000000007, 70.91599999999997, 17.733000000000004, 100.99799999999998, -0.053307986296758335, 19, 44, 38, 101, -0.18811881188118812]\n",
            "2020-04-01   -  .....................................................................................................\n",
            "Processing:  ['2020-04-01', 12, 71, 18, 101, -0.0594059405940594, 12.921000000000003, 70.59599999999998, 17.483999999999998, 101.00099999999998, -0.04517777051712356, 38, 51, 12, 101, 0.25742574257425743]\n",
            "2020-04-02   -  .....................................................................................................\n",
            "Processing:  ['2020-04-02', 14, 74, 13, 101, 0.009900990099009901, 13.967999999999993, 69.37999999999998, 17.651, 100.99899999999997, -0.03646570758126326, 30, 46, 25, 101, 0.04950495049504951]\n",
            "2020-04-03   -  .....................................................................................................\n",
            "Processing:  ['2020-04-03', 3, 90, 8, 101, -0.04950495049504951, 3.888999999999994, 86.567, 10.54400000000001, 101.0, -0.06589108910891105, 27, 49, 25, 101, 0.019801980198019802]\n",
            "2020-04-04   -  .....................................................................................................\n",
            "Processing:  ['2020-04-04', 6, 75, 20, 101, -0.13861386138613863, 8.481999999999996, 74.30099999999999, 18.221999999999998, 101.00499999999998, -0.09643086975892286, 32, 44, 25, 101, 0.06930693069306931]\n",
            "2020-04-05   -  .....................................................................................................\n",
            "Processing:  ['2020-04-05', 15, 72, 14, 101, 0.009900990099009901, 14.59699999999999, 70.94899999999998, 15.453, 100.99899999999998, -0.008475331438925227, 29, 44, 28, 101, 0.009900990099009901]\n",
            "2020-04-06   -  .....................................................................................................\n",
            "Processing:  ['2020-04-06', 10, 71, 20, 101, -0.09900990099009901, 12.349999999999993, 69.32099999999996, 19.34, 101.01099999999995, -0.06920038411658147, 19, 60, 22, 101, -0.0297029702970297]\n",
            "2020-04-07   -  .....................................................................................................\n",
            "Processing:  ['2020-04-07', 7, 68, 26, 101, -0.18811881188118812, 8.558, 68.31899999999997, 24.115999999999996, 100.99299999999998, -0.15405028071252463, 25, 48, 28, 101, -0.0297029702970297]\n",
            "2020-04-08   -  .....................................................................................................\n",
            "Processing:  ['2020-04-08', 7, 78, 16, 101, -0.0891089108910891, 7.314000000000001, 75.52499999999996, 18.156, 100.99499999999998, -0.10735184910144067, 28, 41, 32, 101, -0.039603960396039604]\n",
            "2020-04-09   -  .....................................................................................................\n",
            "Processing:  ['2020-04-09', 10, 79, 12, 101, -0.019801980198019802, 9.587000000000003, 78.315, 13.088999999999993, 100.991, -0.03467635729916518, 23, 56, 22, 101, 0.009900990099009901]\n",
            "2020-04-10   -  .....................................................................................................\n",
            "Processing:  ['2020-04-10', 6, 78, 17, 101, -0.10891089108910891, 8.678999999999998, 74.88299999999998, 17.426999999999992, 100.98899999999998, -0.08662329560645216, 38, 44, 19, 101, 0.18811881188118812]\n",
            "2020-04-11   -  .....................................................................................................\n",
            "Processing:  ['2020-04-11', 13, 64, 24, 101, -0.10891089108910891, 13.864999999999995, 63.23099999999998, 23.894999999999996, 100.99099999999997, -0.09931578061411417, 19, 56, 26, 101, -0.06930693069306931]\n",
            "2020-04-12   -  .....................................................................................................\n",
            "Processing:  ['2020-04-12', 31, 56, 14, 101, 0.16831683168316833, 30.796999999999993, 55.428999999999974, 14.760999999999992, 100.98699999999997, 0.15879271589412505, 33, 46, 22, 101, 0.10891089108910891]\n",
            "2020-04-13   -  .....................................................................................................\n",
            "Processing:  ['2020-04-13', 12, 70, 19, 101, -0.06930693069306931, 12.845999999999993, 68.32199999999997, 19.81700000000001, 100.98499999999997, -0.06903005396841135, 25, 51, 25, 101, 0.0]\n",
            "2020-04-14   -  .....................................................................................................\n",
            "Processing:  ['2020-04-14', 21, 58, 22, 101, -0.009900990099009901, 20.302, 59.00099999999998, 21.695, 100.99799999999999, -0.013792352323808401, 24, 57, 20, 101, 0.039603960396039604]\n",
            "2020-04-15   -  .....................................................................................................\n",
            "Processing:  ['2020-04-15', 12, 74, 15, 101, -0.0297029702970297, 11.100999999999992, 72.56899999999999, 17.328, 100.99799999999999, -0.0616546862314106, 30, 44, 27, 101, 0.0297029702970297]\n",
            "2020-04-16   -  .....................................................................................................\n",
            "Processing:  ['2020-04-16', 17, 75, 9, 101, 0.07920792079207921, 15.916999999999996, 73.63899999999997, 11.446000000000003, 101.00199999999997, 0.04426645016930352, 24, 49, 28, 101, -0.039603960396039604]\n",
            "2020-04-17   -  .....................................................................................................\n",
            "Processing:  ['2020-04-17', 17, 76, 8, 101, 0.0891089108910891, 18.139, 73.11099999999999, 9.748, 100.99799999999999, 0.08308085308619974, 36, 42, 23, 101, 0.12871287128712872]\n",
            "2020-04-18   -  .....................................................................................................\n",
            "Processing:  ['2020-04-18', 20, 71, 10, 101, 0.09900990099009901, 21.427000000000007, 67.12199999999999, 12.448999999999998, 100.99799999999999, 0.08889284936335383, 17, 53, 31, 101, -0.13861386138613863]\n",
            "2020-04-19   -  .....................................................................................................\n",
            "Processing:  ['2020-04-19', 8, 77, 16, 101, -0.07920792079207921, 13.064000000000002, 73.06, 14.857999999999999, 100.98200000000001, -0.017765542373888384, 32, 42, 27, 101, 0.04950495049504951]\n",
            "2020-04-20   -  .....................................................................................................\n",
            "Processing:  ['2020-04-20', 7, 77, 17, 101, -0.09900990099009901, 9.203999999999995, 74.37100000000004, 17.417, 100.99200000000003, -0.08132327313054503, 19, 44, 38, 101, -0.18811881188118812]\n",
            "2020-04-21   -  .....................................................................................................\n",
            "Processing:  ['2020-04-21', 10, 81, 10, 101, 0.0, 9.813999999999998, 80.74000000000001, 10.451, 101.005, -0.006306618484233476, 27, 52, 22, 101, 0.04950495049504951]\n",
            "2020-04-22   -  .....................................................................................................\n",
            "Processing:  ['2020-04-22', 10, 78, 13, 101, -0.0297029702970297, 11.251000000000003, 76.52199999999999, 13.225000000000003, 100.998, -0.019544941483989782, 27, 53, 21, 101, 0.0594059405940594]\n",
            "2020-04-23   -  .....................................................................................................\n",
            "Processing:  ['2020-04-23', 15, 77, 9, 101, 0.0594059405940594, 15.514999999999988, 73.61199999999997, 11.863000000000001, 100.98999999999995, 0.0361619962372511, 32, 47, 22, 101, 0.09900990099009901]\n",
            "2020-04-24   -  .....................................................................................................\n",
            "Processing:  ['2020-04-24', 14, 71, 16, 101, -0.019801980198019802, 15.003999999999996, 68.97200000000001, 17.011, 100.987, -0.019873845148385468, 42, 45, 14, 101, 0.27722772277227725]\n",
            "2020-04-25   -  .....................................................................................................\n",
            "Processing:  ['2020-04-25', 11, 71, 19, 101, -0.07920792079207921, 12.822000000000006, 69.88299999999998, 18.297, 101.00199999999998, -0.05420684738916057, 24, 44, 33, 101, -0.0891089108910891]\n",
            "2020-04-26   -  .....................................................................................................\n",
            "Processing:  ['2020-04-26', 9, 75, 17, 101, -0.07920792079207921, 10.109, 74.25199999999998, 16.636999999999997, 100.99799999999998, -0.06463494326620328, 26, 45, 30, 101, -0.039603960396039604]\n",
            "2020-04-27   -  .....................................................................................................\n",
            "Processing:  ['2020-04-27', 6, 76, 19, 101, -0.12871287128712872, 8.503000000000005, 71.71699999999998, 20.778000000000006, 100.99799999999999, -0.12153706013980477, 18, 47, 36, 101, -0.1782178217821782]\n",
            "2020-04-28   -  .....................................................................................................\n",
            "Processing:  ['2020-04-28', 13, 69, 19, 101, -0.0594059405940594, 13.204999999999998, 66.98, 20.813000000000006, 100.998, -0.07532822432127376, 26, 45, 30, 101, -0.039603960396039604]\n",
            "2020-04-29   -  .....................................................................................................\n",
            "Processing:  ['2020-04-29', 17, 65, 19, 101, -0.019801980198019802, 16.87499999999999, 66.01099999999997, 18.106, 100.99199999999996, -0.012189084283903803, 27, 46, 28, 101, -0.009900990099009901]\n",
            "2020-04-30   -  .....................................................................................................\n",
            "Processing:  ['2020-04-30', 7, 73, 21, 101, -0.13861386138613863, 9.554999999999998, 70.73299999999998, 20.70299999999999, 100.99099999999996, -0.1103860740065946, 22, 46, 33, 101, -0.10891089108910891]\n",
            "2020-05-01   -  .....................................................................................................\n",
            "Processing:  ['2020-05-01', 19, 75, 7, 101, 0.1188118811881188, 20.006999999999994, 73.81599999999995, 7.167000000000002, 100.98999999999994, 0.12714130111892266, 36, 49, 16, 101, 0.19801980198019803]\n",
            "2020-05-02   -  .....................................................................................................\n",
            "Processing:  ['2020-05-02', 5, 74, 22, 101, -0.16831683168316833, 6.537999999999997, 71.79199999999999, 22.672, 101.00199999999998, -0.15973941110077036, 32, 40, 29, 101, 0.0297029702970297]\n",
            "2020-05-03   -  .....................................................................................................\n",
            "Processing:  ['2020-05-03', 24, 67, 10, 101, 0.13861386138613863, 23.159000000000006, 67.46699999999998, 10.381999999999994, 101.00799999999998, 0.12649493109456691, 32, 44, 25, 101, 0.06930693069306931]\n",
            "2020-05-04   -  .....................................................................................................\n",
            "Processing:  ['2020-05-04', 13, 76, 12, 101, 0.009900990099009901, 13.68599999999999, 75.89700000000003, 11.419999999999993, 101.00300000000001, 0.02243497717889564, 28, 54, 19, 101, 0.0891089108910891]\n",
            "2020-05-05   -  .....................................................................................................\n",
            "Processing:  ['2020-05-05', 6, 80, 15, 101, -0.0891089108910891, 8.168, 78.37599999999999, 14.460999999999991, 101.00499999999997, -0.06230384634424033, 32, 52, 17, 101, 0.1485148514851485]\n",
            "2020-05-06   -  .....................................................................................................\n",
            "Processing:  ['2020-05-06', 18, 59, 24, 101, -0.0594059405940594, 17.297, 60.33700000000003, 23.347000000000016, 100.98100000000005, -0.05991226072231422, 23, 68, 10, 101, 0.12871287128712872]\n",
            "2020-05-07   -  .....................................................................................................\n",
            "Processing:  ['2020-05-07', 13, 72, 16, 101, -0.0297029702970297, 12.456000000000003, 71.55, 16.999000000000002, 101.005, -0.04497797138755506, 21, 59, 21, 101, 0.0]\n",
            "2020-05-08   -  .....................................................................................................\n",
            "Processing:  ['2020-05-08', 6, 78, 17, 101, -0.10891089108910891, 7.375999999999998, 77.24, 16.379, 100.99499999999999, -0.08914302688251897, 30, 52, 19, 101, 0.10891089108910891]\n",
            "2020-05-09   -  .....................................................................................................\n",
            "Processing:  ['2020-05-09', 8, 78, 15, 101, -0.06930693069306931, 11.417, 74.774, 14.814999999999994, 101.006, -0.03364156584757336, 29, 56, 16, 101, 0.12871287128712872]\n",
            "2020-05-10   -  .....................................................................................................\n",
            "Processing:  ['2020-05-10', 12, 75, 14, 101, -0.019801980198019802, 13.614999999999998, 70.437, 16.938999999999997, 100.99099999999999, -0.032913824004119165, 18, 61, 22, 101, -0.039603960396039604]\n",
            "2020-05-11   -  .....................................................................................................\n",
            "Processing:  ['2020-05-11', 7, 82, 12, 101, -0.04950495049504951, 7.787000000000002, 80.23299999999998, 12.971999999999996, 100.99199999999998, -0.05134070025348538, 16, 63, 22, 101, -0.0594059405940594]\n",
            "2020-05-12   -  .....................................................................................................\n",
            "Processing:  ['2020-05-12', 8, 79, 14, 101, -0.0594059405940594, 8.603999999999992, 78.60899999999995, 13.782999999999998, 100.99599999999994, -0.051279258584498486, 16, 71, 14, 101, 0.019801980198019802]\n",
            "2020-05-13   -  .....................................................................................................\n",
            "Processing:  ['2020-05-13', 12, 81, 8, 101, 0.039603960396039604, 10.528999999999996, 80.346, 10.119000000000003, 100.994, 0.004059647107748907, 33, 23, 45, 101, -0.1188118811881188]\n",
            "2020-05-14   -  .....................................................................................................\n",
            "Processing:  ['2020-05-14', 11, 78, 12, 101, -0.009900990099009901, 11.079999999999995, 76.03899999999997, 13.879999999999999, 100.99899999999997, -0.027723046762839286, 38, 37, 26, 101, 0.1188118811881188]\n",
            "2020-05-15   -  .....................................................................................................\n",
            "Processing:  ['2020-05-15', 11, 70, 20, 101, -0.0891089108910891, 11.772999999999993, 67.68099999999998, 21.544000000000008, 100.99799999999999, -0.09674448998990094, 34, 41, 26, 101, 0.07920792079207921]\n",
            "2020-05-16   -  .....................................................................................................\n",
            "Processing:  ['2020-05-16', 11, 83, 7, 101, 0.039603960396039604, 11.910999999999996, 75.57500000000003, 13.501999999999994, 100.98800000000003, -0.015754347051134758, 49, 33, 19, 101, 0.297029702970297]\n",
            "2020-05-17   -  .....................................................................................................\n",
            "Processing:  ['2020-05-17', 11, 77, 13, 101, -0.019801980198019802, 11.644999999999994, 75.84099999999997, 13.527, 101.01299999999996, -0.018631265282686445, 35, 42, 24, 101, 0.10891089108910891]\n",
            "2020-05-18   -  .....................................................................................................\n",
            "Processing:  ['2020-05-18', 8, 84, 9, 101, -0.009900990099009901, 8.988999999999999, 83.03299999999999, 8.98, 101.002, 8.910714639312653e-05, 23, 50, 28, 101, -0.04950495049504951]\n",
            "2020-05-19   -  .....................................................................................................\n",
            "Processing:  ['2020-05-19', 4, 83, 14, 101, -0.09900990099009901, 5.538999999999994, 80.97200000000001, 14.493999999999998, 101.005, -0.08865897727835259, 25, 40, 36, 101, -0.10891089108910891]\n",
            "2020-05-20   -  .....................................................................................................\n",
            "Processing:  ['2020-05-20', 9, 79, 13, 101, -0.039603960396039604, 8.876999999999999, 79.00099999999999, 13.116, 100.99399999999999, -0.04197279046279978, 27, 60, 14, 101, 0.12871287128712872]\n",
            "2020-05-21   -  .....................................................................................................\n",
            "Processing:  ['2020-05-21', 5, 88, 8, 101, -0.0297029702970297, 6.340999999999994, 84.95699999999998, 9.701000000000002, 100.99899999999998, -0.03326765611540717, 33, 51, 17, 101, 0.15841584158415842]\n",
            "2020-05-22   -  .....................................................................................................\n",
            "Processing:  ['2020-05-22', 13, 83, 5, 101, 0.07920792079207921, 14.999999999999995, 79.77599999999997, 6.212000000000005, 100.98799999999997, 0.08702024002851816, 40, 35, 26, 101, 0.13861386138613863]\n",
            "2020-05-23   -  .....................................................................................................\n",
            "Processing:  ['2020-05-23', 5, 79, 17, 101, -0.1188118811881188, 7.0790000000000015, 75.90199999999999, 18.020000000000007, 101.001, -0.10832566014197885, 16, 51, 34, 101, -0.1782178217821782]\n",
            "2020-05-24   -  .....................................................................................................\n",
            "Processing:  ['2020-05-24', 6, 84, 11, 101, -0.04950495049504951, 6.980999999999999, 81.41599999999998, 12.611999999999997, 101.00899999999997, -0.05574750764783335, 27, 51, 23, 101, 0.039603960396039604]\n",
            "2020-05-25   -  .....................................................................................................\n",
            "Processing:  ['2020-05-25', 10, 76, 15, 101, -0.04950495049504951, 11.396999999999995, 74.89400000000002, 14.702999999999998, 100.99400000000001, -0.032734617898092976, 36, 43, 22, 101, 0.13861386138613863]\n",
            "2020-05-26   -  .....................................................................................................\n",
            "Processing:  ['2020-05-26', 10, 77, 14, 101, -0.039603960396039604, 9.936000000000003, 76.47500000000002, 14.58799999999999, 100.99900000000002, -0.04605986197883133, 33, 45, 23, 101, 0.09900990099009901]\n",
            "2020-05-27   -  .....................................................................................................\n",
            "Processing:  ['2020-05-27', 14, 70, 17, 101, -0.0297029702970297, 14.426999999999994, 70.82500000000002, 15.744999999999992, 100.997, -0.013049892571066446, 31, 59, 11, 101, 0.19801980198019803]\n",
            "2020-05-28   -  .....................................................................................................\n",
            "Processing:  ['2020-05-28', 11, 83, 7, 101, 0.039603960396039604, 13.052999999999995, 79.72799999999998, 8.224000000000002, 101.00499999999998, 0.04780951438047616, 38, 34, 29, 101, 0.0891089108910891]\n",
            "2020-05-29   -  .....................................................................................................\n",
            "Processing:  ['2020-05-29', 2, 85, 14, 101, -0.1188118811881188, 2.3059999999999996, 82.10400000000011, 16.587000000000007, 100.99700000000011, -0.14140023961107748, 11, 43, 47, 101, -0.3564356435643564]\n",
            "2020-05-30   -  .....................................................................................................\n",
            "Processing:  ['2020-05-30', 6, 83, 12, 101, -0.0594059405940594, 6.133999999999997, 76.79400000000001, 18.10399999999999, 101.032, -0.11847731411829908, 29, 32, 40, 101, -0.10891089108910891]\n",
            "2020-05-31   -  .....................................................................................................\n",
            "Processing:  ['2020-05-31', 4, 75, 22, 101, -0.1782178217821782, 7.111999999999998, 71.68599999999999, 22.196000000000005, 100.994, -0.149355407251916, 28, 49, 24, 101, 0.039603960396039604]\n",
            "\n",
            "Index Computation Elapsed Time:  311.6622670109998\n"
          ]
        }
      ],
      "source": [
        "start_time = timeit.default_timer()\n",
        "\n",
        "data_set_smei_bert = []\n",
        "smei_indexes_list = []\n",
        "for d in range(len(dataset)):\n",
        "  bert_sentiment_data = []\n",
        "  smei_sentiment_data = []\n",
        "  bert_negative_data = [] \n",
        "  bert_neutral_data = []\n",
        "  bert_positive_data = []\n",
        "  sentences_data = list(dataset[d][1][:,8])\n",
        "  smei_sentiments = list(dataset[d][1][:,9])\n",
        "  current_day = dataset[d][0]\n",
        "\n",
        "  i = 0\n",
        "  print(current_day, \"  -  \", end = \"\")\n",
        "  for s,smei_sent in zip(sentences_data, smei_sentiments):\n",
        "    try:\n",
        "      bert_negative, bert_neutral, bert_positive, classification = bert_inference(s, model)\n",
        "      print('.', end = \"\")\n",
        "      bert_sentiment = all_encoded_classes[classification]\n",
        "      bert_classification = all_classes[classification]\n",
        "      data_set_smei_bert.append([current_day, bert_sentiment, bert_classification, bert_negative, bert_neutral, bert_positive])\n",
        "      bert_sentiment_data.append(int(bert_sentiment))\n",
        "      smei_sentiment_data.append(int(smei_sent))\n",
        "      bert_negative_data.append(bert_negative)\n",
        "      bert_neutral_data.append(bert_neutral)\n",
        "      bert_positive_data.append(bert_positive)\n",
        "    except ValueError: \n",
        "      print(\"\\nError on this Tweet: \", s)\n",
        "\n",
        "    if limit_n_tweets_to_classify is True: \n",
        "      i += 1\n",
        "      if i > n_tweets_to_classify: \n",
        "        break\n",
        "\n",
        "  n_positives = bert_sentiment_data.count(1)\n",
        "  n_neutrals = bert_sentiment_data.count(0)\n",
        "  n_negatives = bert_sentiment_data.count(-1)\n",
        "  total_cases = n_positives + n_neutrals + n_negatives\n",
        "  smei_index_1 = (n_positives - n_negatives) / total_cases \n",
        "\n",
        "  prob_sum_positives = sum(bert_positive_data)\n",
        "  prob_sum_neutrals = sum(bert_neutral_data)\n",
        "  prob_sum_negatives = sum(bert_negative_data)\n",
        "  total_probs = prob_sum_positives + prob_sum_neutrals + prob_sum_negatives\n",
        "  smei_index_2 = (prob_sum_positives - prob_sum_negatives) / total_probs \n",
        "\n",
        "  n_positives_smei = smei_sentiment_data.count(1)\n",
        "  n_neutrals_smei = smei_sentiment_data.count(0)\n",
        "  n_negatives_smei = smei_sentiment_data.count(-1)\n",
        "  total_cases_smei = n_positives_smei + n_neutrals_smei + n_negatives_smei\n",
        "  smei_index_3 = (n_positives_smei - n_negatives_smei) / total_cases_smei \n",
        "\n",
        "  bert_sentiment_data_count = [current_day, n_positives, n_neutrals, n_negatives, total_cases, smei_index_1, prob_sum_positives, prob_sum_neutrals, prob_sum_negatives, total_probs, smei_index_2, n_positives_smei, n_neutrals_smei, n_negatives_smei, total_cases_smei, smei_index_3]\n",
        "  smei_indexes_list.append([current_day, smei_index_1, smei_index_2, smei_index_3])\n",
        "  print(\"\\nProcessing: \",bert_sentiment_data_count)\n",
        "\n",
        "  file_out = open(file_out_txt, 'a')\n",
        "  file_out.write(str(current_day) + ',' + str(n_positives) + ',' + str(n_neutrals) + ',' + str(n_negatives) + ',' + str(total_cases) + ',' + str(smei_index_1) + ',' + str(prob_sum_positives) + ',' + str(prob_sum_neutrals) + ',' + str(prob_sum_negatives) + ',' + str(total_probs) + ',' + str(smei_index_2) + ',' + str(n_positives_smei) + ',' + str(n_neutrals_smei) + ',' + str(n_negatives_smei) + ',' + str(total_cases_smei) + ',' + str(smei_index_3) + '\\n')\n",
        "  file_out.close()\n",
        "\n",
        "end_time = timeit.default_timer()\n",
        "\n",
        "print(\"\\nIndex Computation Elapsed Time: \", end_time - start_time)"
      ]
    },
    {
      "cell_type": "markdown",
      "metadata": {
        "id": "l7qggvj5Ak03"
      },
      "source": [
        "# Output Loading"
      ]
    },
    {
      "cell_type": "code",
      "execution_count": null,
      "metadata": {
        "colab": {
          "base_uri": "https://localhost:8080/"
        },
        "id": "FwWVPdbIAb30",
        "outputId": "a5bbd87a-d43e-456b-e8a9-a728469a88ed"
      },
      "outputs": [
        {
          "name": "stdout",
          "output_type": "stream",
          "text": [
            "153 lines read\n"
          ]
        }
      ],
      "source": [
        "index_data = pd.read_csv(file_out_txt, sep=',', header=None, usecols = [0, 5, 10, 15]).values             # select only the interested columns\n",
        "print ('%i lines read' % len(index_data))"
      ]
    },
    {
      "cell_type": "markdown",
      "metadata": {
        "id": "toKN_GKChIsQ"
      },
      "source": [
        "# Index 1 Plot"
      ]
    },
    {
      "cell_type": "code",
      "execution_count": null,
      "metadata": {
        "colab": {
          "base_uri": "https://localhost:8080/",
          "height": 361
        },
        "id": "po5B8xACBLc7",
        "outputId": "f189bcda-b437-4ca9-f5db-523312b04681"
      },
      "outputs": [
        {
          "name": "stderr",
          "output_type": "stream",
          "text": [
            "/usr/local/lib/python3.7/dist-packages/seaborn/_decorators.py:43: FutureWarning: Pass the following variables as keyword args: x, y. From version 0.12, the only valid positional argument will be `data`, and passing other arguments without an explicit keyword will result in an error or misinterpretation.\n",
            "  FutureWarning\n"
          ]
        },
        {
          "data": {
            "image/png": "[encoded data removed]",
            "text/plain": [
              "<Figure size 432x288 with 1 Axes>"
            ]
          },
          "metadata": {
            "needs_background": "light"
          },
          "output_type": "display_data"
        }
      ],
      "source": [
        "dates = index_data [1:,0]\n",
        "index_1 = index_data [1:,1].astype('float')\n",
        "\n",
        "x = dates\n",
        "y = index_1\n",
        "\n",
        "plt.figure()\n",
        "p = sns.lineplot(x, y, markers=True, color='blue', linewidth=2.5)\n",
        "p.set(title='Index 1')\n",
        "p.set_xlabel(\"Dates\", fontsize = 20)\n",
        "p.set_ylabel(\"Index 1 Value\", fontsize = 20)\n",
        "\n",
        "for ind, label in enumerate(p.get_xticklabels()):\n",
        "    if ind % 35 == 0:  # every 14th label is kept\n",
        "        label.set_visible(True)\n",
        "    else:\n",
        "        label.set_visible(False)\n",
        "\n",
        "x = list(range(0, len(index_1)))\n",
        "y = index_1\n",
        "\n",
        "# fits the best fitting line to the data\n",
        "plt.plot(np.unique(x), \n",
        "         np.poly1d(np.polyfit(x, y, 1))\n",
        "         (np.unique(x)), color='black', ls = ':')\n",
        "\n",
        "fig = p.get_figure()\n",
        "fig.savefig(\"./bert_smei_index_1.jpg\") \n"
      ]
    },
    {
      "cell_type": "code",
      "execution_count": null,
      "metadata": {
        "colab": {
          "base_uri": "https://localhost:8080/",
          "height": 361
        },
        "id": "fU7zxUchkq3H",
        "outputId": "15c8e2c1-01bf-4635-ffd1-1b87ed0118b5"
      },
      "outputs": [
        {
          "name": "stderr",
          "output_type": "stream",
          "text": [
            "/usr/local/lib/python3.7/dist-packages/seaborn/_decorators.py:43: FutureWarning: Pass the following variables as keyword args: x, y. From version 0.12, the only valid positional argument will be `data`, and passing other arguments without an explicit keyword will result in an error or misinterpretation.\n",
            "  FutureWarning\n"
          ]
        },
        {
          "data": {
            "image/png": "[encoded data removed]",
            "text/plain": [
              "<Figure size 432x288 with 1 Axes>"
            ]
          },
          "metadata": {
            "needs_background": "light"
          },
          "output_type": "display_data"
        }
      ],
      "source": [
        "dates = index_data [1:,0]\n",
        "\n",
        "x = dates\n",
        "y = index_1\n",
        "\n",
        "plot_ = sns.barplot(x, y)\n",
        "plot_.set(title='Index 1')\n",
        "plot_.set_xlabel(\"Dates\", fontsize = 20)\n",
        "plot_.set_ylabel(\"Index 1 Value\", fontsize = 20)\n",
        "\n",
        "for ind, label in enumerate(plot_.get_xticklabels()):\n",
        "    if ind % 35 == 0:  # every 14th label is kept\n",
        "        label.set_visible(True)\n",
        "    else:\n",
        "        label.set_visible(False)\n",
        "\n",
        "fig = plot_.get_figure()\n",
        "fig.savefig(\"./bert_smei_index_1_bar_plots.jpg\") \n",
        "\n",
        "plt.show()"
      ]
    },
    {
      "cell_type": "markdown",
      "metadata": {
        "id": "l4_DSgeOhWrx"
      },
      "source": [
        "# Index 2 Plot"
      ]
    },
    {
      "cell_type": "code",
      "execution_count": null,
      "metadata": {
        "colab": {
          "base_uri": "https://localhost:8080/",
          "height": 361
        },
        "id": "Pxi0nDithdIt",
        "outputId": "4f569cd5-c2d8-4c36-87a1-1ca980a8e285"
      },
      "outputs": [
        {
          "name": "stderr",
          "output_type": "stream",
          "text": [
            "/usr/local/lib/python3.7/dist-packages/seaborn/_decorators.py:43: FutureWarning: Pass the following variables as keyword args: x, y. From version 0.12, the only valid positional argument will be `data`, and passing other arguments without an explicit keyword will result in an error or misinterpretation.\n",
            "  FutureWarning\n"
          ]
        },
        {
          "data": {
            "image/png": "[encoded data removed]",
            "text/plain": [
              "<Figure size 432x288 with 1 Axes>"
            ]
          },
          "metadata": {
            "needs_background": "light"
          },
          "output_type": "display_data"
        }
      ],
      "source": [
        "dates = index_data [1:,0]\n",
        "index_2 = index_data [1:,2].astype('float')\n",
        "\n",
        "x = dates\n",
        "y = index_2\n",
        "\n",
        "plt.figure()\n",
        "\n",
        "p = sns.lineplot(x, y, markers=True, color='green', linewidth=2.5)\n",
        "p.set(title='Index 2')\n",
        "p.set_xlabel(\"Dates\", fontsize = 20)\n",
        "p.set_ylabel(\"Index 2 Value\", fontsize = 20)\n",
        "\n",
        "for ind, label in enumerate(p.get_xticklabels()):\n",
        "    if ind % 35 == 0:  # every 14th label is kept\n",
        "        label.set_visible(True)\n",
        "    else:\n",
        "        label.set_visible(False)\n",
        "\n",
        "x = list(range(0, len(index_2)))\n",
        "y = index_2\n",
        "\n",
        "# fits the best fitting line to the data\n",
        "plt.plot(np.unique(x), \n",
        "         np.poly1d(np.polyfit(x, y, 1))\n",
        "         (np.unique(x)), color='black', ls = ':')\n",
        "\n",
        "fig = p.get_figure()\n",
        "fig.savefig(\"./bert_smei_index_2.jpg\") \n"
      ]
    },
    {
      "cell_type": "code",
      "execution_count": null,
      "metadata": {
        "colab": {
          "base_uri": "https://localhost:8080/",
          "height": 361
        },
        "id": "myfKhZ9bqwd2",
        "outputId": "986e07f3-6cd9-4606-845e-bf7f8e622137"
      },
      "outputs": [
        {
          "name": "stderr",
          "output_type": "stream",
          "text": [
            "/usr/local/lib/python3.7/dist-packages/seaborn/_decorators.py:43: FutureWarning: Pass the following variables as keyword args: x, y. From version 0.12, the only valid positional argument will be `data`, and passing other arguments without an explicit keyword will result in an error or misinterpretation.\n",
            "  FutureWarning\n"
          ]
        },
        {
          "data": {
            "image/png": "[encoded data removed]",
            "text/plain": [
              "<Figure size 432x288 with 1 Axes>"
            ]
          },
          "metadata": {
            "needs_background": "light"
          },
          "output_type": "display_data"
        }
      ],
      "source": [
        "dates = index_data [1:,0]\n",
        "\n",
        "x = dates\n",
        "y = index_2\n",
        "\n",
        "plot_ = sns.barplot(x, y)\n",
        "plot_.set(title='Index 2')\n",
        "plot_.set_xlabel(\"Dates\", fontsize = 20)\n",
        "plot_.set_ylabel(\"Index 2 Value\", fontsize = 20)\n",
        "\n",
        "for ind, label in enumerate(plot_.get_xticklabels()):\n",
        "    if ind % 35 == 0:  # every 14th label is kept\n",
        "        label.set_visible(True)\n",
        "    else:\n",
        "        label.set_visible(False)\n",
        "\n",
        "fig = plot_.get_figure()\n",
        "fig.savefig(\"./bert_smei_index_2_bar_plots.jpg\") \n",
        "\n",
        "plt.show()"
      ]
    },
    {
      "cell_type": "markdown",
      "metadata": {
        "id": "5VFa_XmxhaWB"
      },
      "source": [
        "# Index 3 Plot"
      ]
    },
    {
      "cell_type": "code",
      "execution_count": null,
      "metadata": {
        "colab": {
          "base_uri": "https://localhost:8080/",
          "height": 361
        },
        "id": "Ws7Ipp6OhdtX",
        "outputId": "28b21561-2c3f-4cea-e6d8-5af1135e2ca7"
      },
      "outputs": [
        {
          "name": "stderr",
          "output_type": "stream",
          "text": [
            "/usr/local/lib/python3.7/dist-packages/seaborn/_decorators.py:43: FutureWarning: Pass the following variables as keyword args: x, y. From version 0.12, the only valid positional argument will be `data`, and passing other arguments without an explicit keyword will result in an error or misinterpretation.\n",
            "  FutureWarning\n"
          ]
        },
        {
          "data": {
            "image/png": "[encoded data removed]",
            "text/plain": [
              "<Figure size 432x288 with 1 Axes>"
            ]
          },
          "metadata": {
            "needs_background": "light"
          },
          "output_type": "display_data"
        }
      ],
      "source": [
        "dates = index_data [1:,0]\n",
        "index_3 = index_data [1:,3].astype('float')\n",
        "\n",
        "x = dates\n",
        "y = index_3\n",
        "\n",
        "plt.figure()\n",
        "p = sns.lineplot(x, y, markers=True, color='red', linewidth=2.5)\n",
        "p.set(title='Index 3')\n",
        "p.set_xlabel(\"Dates\", fontsize = 20)\n",
        "p.set_ylabel(\"Index 3 Value\", fontsize = 20)\n",
        "\n",
        "x = list(range(0, len(index_3)))\n",
        "y = index_2\n",
        "\n",
        "for ind, label in enumerate(p.get_xticklabels()):\n",
        "    if ind % 35 == 0:  # every 14th label is kept\n",
        "        label.set_visible(True)\n",
        "    else:\n",
        "        label.set_visible(False)\n",
        "\n",
        "# fits the best fitting line to the data\n",
        "plt.plot(np.unique(x), \n",
        "         np.poly1d(np.polyfit(x, y, 1))\n",
        "         (np.unique(x)), color='black', ls = ':')\n",
        "\n",
        "fig = p.get_figure()\n",
        "fig.savefig(\"./normal_smei_index_3.jpg\") "
      ]
    },
    {
      "cell_type": "code",
      "execution_count": null,
      "metadata": {
        "colab": {
          "base_uri": "https://localhost:8080/",
          "height": 361
        },
        "id": "NclPiTnRsjeM",
        "outputId": "0c13274e-4040-4e1b-dc36-06c256b8de20"
      },
      "outputs": [
        {
          "name": "stderr",
          "output_type": "stream",
          "text": [
            "/usr/local/lib/python3.7/dist-packages/seaborn/_decorators.py:43: FutureWarning: Pass the following variables as keyword args: x, y. From version 0.12, the only valid positional argument will be `data`, and passing other arguments without an explicit keyword will result in an error or misinterpretation.\n",
            "  FutureWarning\n"
          ]
        },
        {
          "data": {
            "image/png": "[encoded data removed]",
            "text/plain": [
              "<Figure size 432x288 with 1 Axes>"
            ]
          },
          "metadata": {
            "needs_background": "light"
          },
          "output_type": "display_data"
        }
      ],
      "source": [
        "dates = index_data [1:,0]\n",
        "\n",
        "x = dates\n",
        "y = index_3\n",
        "\n",
        "plot_ = sns.barplot(x, y)\n",
        "plot_.set(title='Index 3')\n",
        "plot_.set_xlabel(\"Dates\", fontsize = 20)\n",
        "plot_.set_ylabel(\"Index 3 Value\", fontsize = 20)\n",
        "\n",
        "for ind, label in enumerate(plot_.get_xticklabels()):\n",
        "    if ind % 35 == 0:  # every 14th label is kept\n",
        "        label.set_visible(True)\n",
        "    else:\n",
        "        label.set_visible(False)\n",
        "\n",
        "fig = plot_.get_figure()\n",
        "fig.savefig(\"./normal_smei_index_3_bar_plots.jpg\") \n",
        "\n",
        "plt.show()"
      ]
    },
    {
      "cell_type": "markdown",
      "metadata": {
        "id": "KBmBHWvjjA-S"
      },
      "source": [
        "# Index 1 - Index 2 Correlation"
      ]
    },
    {
      "cell_type": "code",
      "execution_count": null,
      "metadata": {
        "colab": {
          "base_uri": "https://localhost:8080/",
          "height": 325
        },
        "id": "Al2a5TL8jF3B",
        "outputId": "04ccc302-224d-4f11-8b54-18a606176c3f"
      },
      "outputs": [
        {
          "name": "stdout",
          "output_type": "stream",
          "text": [
            "Index 1 - Index 2 Correlation Coefficient:  [[1.         0.97955296]\n",
            " [0.97955296 1.        ]]\n",
            "Spearmans correlation: 0.970\n"
          ]
        },
        {
          "data": {
            "image/png": "[encoded data removed]",
            "text/plain": [
              "<Figure size 432x288 with 2 Axes>"
            ]
          },
          "metadata": {
            "needs_background": "light"
          },
          "output_type": "display_data"
        }
      ],
      "source": [
        "plt.figure()\n",
        "corr_c = np.corrcoef(index_1, index_2)\n",
        "print(\"Index 1 - Index 2 Correlation Coefficient: \", corr_c)\n",
        "  \n",
        "#ploting the heatmap for correlation\n",
        "ax = sns.heatmap(corr_c, annot=True)\n",
        "plt.savefig('index_1_index_2_correlation_matrix.jpg')\n",
        "\n",
        "corr, _ = spearmanr(index_1, index_2)\n",
        "print('Spearmans correlation: %.3f' % corr)"
      ]
    },
    {
      "cell_type": "code",
      "execution_count": null,
      "metadata": {
        "colab": {
          "base_uri": "https://localhost:8080/",
          "height": 295
        },
        "id": "zeUpsoOlkVvI",
        "outputId": "2cad33e5-28c0-402f-8b3a-071cec15db9d"
      },
      "outputs": [
        {
          "data": {
            "image/png": "[encoded data removed]",
            "text/plain": [
              "<Figure size 432x288 with 1 Axes>"
            ]
          },
          "metadata": {
            "needs_background": "light"
          },
          "output_type": "display_data"
        }
      ],
      "source": [
        "# adds the title\n",
        "plt.figure()\n",
        "plt.title('Index 1 - Index 2 Regression')\n",
        "\n",
        "x = index_1\n",
        "y = index_2\n",
        "\n",
        "# plot the data\n",
        "plt.scatter(x, y)\n",
        "  \n",
        "# fits the best fitting line to the data\n",
        "plt.plot(np.unique(x), \n",
        "         np.poly1d(np.polyfit(x, y, 1))\n",
        "         (np.unique(x)), color='red')\n",
        "  \n",
        "# Labelling axes\n",
        "plt.xlabel('Index 1')\n",
        "plt.ylabel('Index 2')\n",
        "\n",
        "plt.savefig('index_1_index_2_regression_curve.jpg')"
      ]
    },
    {
      "cell_type": "markdown",
      "metadata": {
        "id": "VJf8PkiviNdv"
      },
      "source": [
        "# Index 1 - Index 3 Correlation "
      ]
    },
    {
      "cell_type": "code",
      "execution_count": null,
      "metadata": {
        "colab": {
          "base_uri": "https://localhost:8080/",
          "height": 325
        },
        "id": "IQ8IZ0iLiqBm",
        "outputId": "6548a2bb-7d83-4912-b6e1-6a42a29a2f65"
      },
      "outputs": [
        {
          "name": "stdout",
          "output_type": "stream",
          "text": [
            "Index 1 - Index 3 Correlation Coefficient:  [[1.         0.18594728]\n",
            " [0.18594728 1.        ]]\n",
            "Spearmans correlation: 0.206\n"
          ]
        },
        {
          "data": {
            "image/png": "[encoded data removed]",
            "text/plain": [
              "<Figure size 432x288 with 2 Axes>"
            ]
          },
          "metadata": {
            "needs_background": "light"
          },
          "output_type": "display_data"
        }
      ],
      "source": [
        "plt.figure()\n",
        "corr_c = np.corrcoef(index_1, index_3)\n",
        "print(\"Index 1 - Index 3 Correlation Coefficient: \", corr_c)\n",
        "\n",
        "#ploting the heatmap for correlation\n",
        "ax = sns.heatmap(corr_c, annot=True)\n",
        "plt.savefig('index_1_index_3_correlation_matrix.jpg')\n",
        "\n",
        "corr, _ = spearmanr(index_1, index_3)\n",
        "print('Spearmans correlation: %.3f' % corr)"
      ]
    },
    {
      "cell_type": "code",
      "execution_count": null,
      "metadata": {
        "colab": {
          "base_uri": "https://localhost:8080/",
          "height": 295
        },
        "id": "qBSm7jcykbFz",
        "outputId": "5d4fbbef-5dd9-4ccd-8b09-e5cfb1af3b09"
      },
      "outputs": [
        {
          "data": {
            "image/png": "[encoded data removed]",
            "text/plain": [
              "<Figure size 432x288 with 1 Axes>"
            ]
          },
          "metadata": {
            "needs_background": "light"
          },
          "output_type": "display_data"
        }
      ],
      "source": [
        "plt.figure()\n",
        "# adds the title\n",
        "plt.title('Index 1 - Index 3 Regression')\n",
        "\n",
        "x = index_1\n",
        "y = index_3\n",
        "\n",
        "# plot the data\n",
        "plt.scatter(x, y)\n",
        "  \n",
        "# fits the best fitting line to the data\n",
        "plt.plot(np.unique(x), \n",
        "         np.poly1d(np.polyfit(x, y, 1))\n",
        "         (np.unique(x)), color='red')\n",
        "  \n",
        "# Labelling axes\n",
        "plt.xlabel('Index 1')\n",
        "plt.ylabel('Index 3')\n",
        "\n",
        "plt.savefig('index_1_index_3_regression_curve.jpg')"
      ]
    },
    {
      "cell_type": "markdown",
      "metadata": {
        "id": "8BvS72cqjXLr"
      },
      "source": [
        "# Index 2 - Index 3 Correlation\n"
      ]
    },
    {
      "cell_type": "code",
      "execution_count": null,
      "metadata": {
        "colab": {
          "base_uri": "https://localhost:8080/",
          "height": 325
        },
        "id": "DcAIut7wjdef",
        "outputId": "58ec9a80-b093-47df-9f96-dafd08e70a80"
      },
      "outputs": [
        {
          "name": "stdout",
          "output_type": "stream",
          "text": [
            "Index 2 - Index 3 Correlation Coefficient:  [[1.         0.17448586]\n",
            " [0.17448586 1.        ]]\n",
            "Spearmans correlation: 0.196\n"
          ]
        },
        {
          "data": {
            "image/png": "[encoded data removed]",
            "text/plain": [
              "<Figure size 432x288 with 2 Axes>"
            ]
          },
          "metadata": {
            "needs_background": "light"
          },
          "output_type": "display_data"
        }
      ],
      "source": [
        "plt.figure()\n",
        "corr_c = np.corrcoef(index_2, index_3)\n",
        "print(\"Index 2 - Index 3 Correlation Coefficient: \", corr_c)\n",
        "  \n",
        "#ploting the heatmap for correlation\n",
        "ax = sns.heatmap(corr_c, annot=True)\n",
        "plt.savefig('index_2_index_3_correlation_matrix.jpg')\n",
        "\n",
        "corr, _ = spearmanr(index_2, index_3)\n",
        "print('Spearmans correlation: %.3f' % corr)"
      ]
    },
    {
      "cell_type": "code",
      "execution_count": null,
      "metadata": {
        "colab": {
          "base_uri": "https://localhost:8080/",
          "height": 295
        },
        "id": "ifaYm5Hnkv1_",
        "outputId": "eff1fcae-df3f-4a2c-97ac-403d12837b87"
      },
      "outputs": [
        {
          "data": {
            "image/png": "[encoded data removed]",
            "text/plain": [
              "<Figure size 432x288 with 1 Axes>"
            ]
          },
          "metadata": {
            "needs_background": "light"
          },
          "output_type": "display_data"
        }
      ],
      "source": [
        "# adds the title\n",
        "plt.figure()\n",
        "plt.title('Index 2 - Index 3 Regression')\n",
        "\n",
        "x = index_2\n",
        "y = index_3\n",
        "\n",
        "# plot the data\n",
        "plt.scatter(x, y)\n",
        "  \n",
        "# fits the best fitting line to the data\n",
        "plt.plot(np.unique(x), \n",
        "         np.poly1d(np.polyfit(x, y, 1))\n",
        "         (np.unique(x)), color='red')\n",
        "  \n",
        "# Labelling axes\n",
        "plt.xlabel('Index 2')\n",
        "plt.ylabel('Index 3')\n",
        "\n",
        "plt.savefig('index_2_index_3_regression_curve.jpg')"
      ]
    }
  ],
  "metadata": {
    "accelerator": "GPU",
    "colab": {
      "collapsed_sections": [],
      "name": "bert_based_social_mood_index.ipynb",
      "provenance": []
    },
    "kernelspec": {
      "display_name": "Python 3",
      "name": "python3"
    },
    "language_info": {
      "name": "python"
    },
    "widgets": {
      "application/vnd.jupyter.widget-state+json": {
        "0fdab920af9c4a01a74e184c48282331": {
          "model_module": "@jupyter-widgets/controls",
          "model_module_version": "1.5.0",
          "model_name": "DescriptionStyleModel",
          "state": {
            "_model_module": "@jupyter-widgets/controls",
            "_model_module_version": "1.5.0",
            "_model_name": "DescriptionStyleModel",
            "_view_count": null,
            "_view_module": "@jupyter-widgets/base",
            "_view_module_version": "1.2.0",
            "_view_name": "StyleView",
            "description_width": ""
          }
        },
        "1ea68be8a9b84dca89baad6d55910e6f": {
          "model_module": "@jupyter-widgets/controls",
          "model_module_version": "1.5.0",
          "model_name": "DescriptionStyleModel",
          "state": {
            "_model_module": "@jupyter-widgets/controls",
            "_model_module_version": "1.5.0",
            "_model_name": "DescriptionStyleModel",
            "_view_count": null,
            "_view_module": "@jupyter-widgets/base",
            "_view_module_version": "1.2.0",
            "_view_name": "StyleView",
            "description_width": ""
          }
        },
        "223b8f9d4de043c5b8db37b8343ff68c": {
          "model_module": "@jupyter-widgets/base",
          "model_module_version": "1.2.0",
          "model_name": "LayoutModel",
          "state": {
            "_model_module": "@jupyter-widgets/base",
            "_model_module_version": "1.2.0",
            "_model_name": "LayoutModel",
            "_view_count": null,
            "_view_module": "@jupyter-widgets/base",
            "_view_module_version": "1.2.0",
            "_view_name": "LayoutView",
            "align_content": null,
            "align_items": null,
            "align_self": null,
            "border": null,
            "bottom": null,
            "display": null,
            "flex": null,
            "flex_flow": null,
            "grid_area": null,
            "grid_auto_columns": null,
            "grid_auto_flow": null,
            "grid_auto_rows": null,
            "grid_column": null,
            "grid_gap": null,
            "grid_row": null,
            "grid_template_areas": null,
            "grid_template_columns": null,
            "grid_template_rows": null,
            "height": null,
            "justify_content": null,
            "justify_items": null,
            "left": null,
            "margin": null,
            "max_height": null,
            "max_width": null,
            "min_height": null,
            "min_width": null,
            "object_fit": null,
            "object_position": null,
            "order": null,
            "overflow": null,
            "overflow_x": null,
            "overflow_y": null,
            "padding": null,
            "right": null,
            "top": null,
            "visibility": null,
            "width": null
          }
        },
        "24462b55fcb946738579024564239033": {
          "model_module": "@jupyter-widgets/base",
          "model_module_version": "1.2.0",
          "model_name": "LayoutModel",
          "state": {
            "_model_module": "@jupyter-widgets/base",
            "_model_module_version": "1.2.0",
            "_model_name": "LayoutModel",
            "_view_count": null,
            "_view_module": "@jupyter-widgets/base",
            "_view_module_version": "1.2.0",
            "_view_name": "LayoutView",
            "align_content": null,
            "align_items": null,
            "align_self": null,
            "border": null,
            "bottom": null,
            "display": null,
            "flex": null,
            "flex_flow": null,
            "grid_area": null,
            "grid_auto_columns": null,
            "grid_auto_flow": null,
            "grid_auto_rows": null,
            "grid_column": null,
            "grid_gap": null,
            "grid_row": null,
            "grid_template_areas": null,
            "grid_template_columns": null,
            "grid_template_rows": null,
            "height": null,
            "justify_content": null,
            "justify_items": null,
            "left": null,
            "margin": null,
            "max_height": null,
            "max_width": null,
            "min_height": null,
            "min_width": null,
            "object_fit": null,
            "object_position": null,
            "order": null,
            "overflow": null,
            "overflow_x": null,
            "overflow_y": null,
            "padding": null,
            "right": null,
            "top": null,
            "visibility": null,
            "width": null
          }
        },
        "343c9cec6cbf43d78f6271f64768d948": {
          "model_module": "@jupyter-widgets/controls",
          "model_module_version": "1.5.0",
          "model_name": "HTMLModel",
          "state": {
            "_dom_classes": [],
            "_model_module": "@jupyter-widgets/controls",
            "_model_module_version": "1.5.0",
            "_model_name": "HTMLModel",
            "_view_count": null,
            "_view_module": "@jupyter-widgets/controls",
            "_view_module_version": "1.5.0",
            "_view_name": "HTMLView",
            "description": "",
            "description_tooltip": null,
            "layout": "IPY_MODEL_b3b26f1c48424c87ba3a60e7be5b8c29",
            "placeholder": "​",
            "style": "IPY_MODEL_1ea68be8a9b84dca89baad6d55910e6f",
            "value": "Downloading: 100%"
          }
        },
        "3d4f866fc3204419ac1ed3dc0d1901d3": {
          "model_module": "@jupyter-widgets/base",
          "model_module_version": "1.2.0",
          "model_name": "LayoutModel",
          "state": {
            "_model_module": "@jupyter-widgets/base",
            "_model_module_version": "1.2.0",
            "_model_name": "LayoutModel",
            "_view_count": null,
            "_view_module": "@jupyter-widgets/base",
            "_view_module_version": "1.2.0",
            "_view_name": "LayoutView",
            "align_content": null,
            "align_items": null,
            "align_self": null,
            "border": null,
            "bottom": null,
            "display": null,
            "flex": null,
            "flex_flow": null,
            "grid_area": null,
            "grid_auto_columns": null,
            "grid_auto_flow": null,
            "grid_auto_rows": null,
            "grid_column": null,
            "grid_gap": null,
            "grid_row": null,
            "grid_template_areas": null,
            "grid_template_columns": null,
            "grid_template_rows": null,
            "height": null,
            "justify_content": null,
            "justify_items": null,
            "left": null,
            "margin": null,
            "max_height": null,
            "max_width": null,
            "min_height": null,
            "min_width": null,
            "object_fit": null,
            "object_position": null,
            "order": null,
            "overflow": null,
            "overflow_x": null,
            "overflow_y": null,
            "padding": null,
            "right": null,
            "top": null,
            "visibility": null,
            "width": null
          }
        },
        "40d019f7d5c94942acd15f814d6d6615": {
          "model_module": "@jupyter-widgets/controls",
          "model_module_version": "1.5.0",
          "model_name": "HTMLModel",
          "state": {
            "_dom_classes": [],
            "_model_module": "@jupyter-widgets/controls",
            "_model_module_version": "1.5.0",
            "_model_name": "HTMLModel",
            "_view_count": null,
            "_view_module": "@jupyter-widgets/controls",
            "_view_module_version": "1.5.0",
            "_view_name": "HTMLView",
            "description": "",
            "description_tooltip": null,
            "layout": "IPY_MODEL_bded40ed02f146e897b600237a67e304",
            "placeholder": "​",
            "style": "IPY_MODEL_529f058aa9ae4984b48abae9f7632768",
            "value": "Downloading: 100%"
          }
        },
        "411c1118230a41689710bc9cef4b600f": {
          "model_module": "@jupyter-widgets/controls",
          "model_module_version": "1.5.0",
          "model_name": "FloatProgressModel",
          "state": {
            "_dom_classes": [],
            "_model_module": "@jupyter-widgets/controls",
            "_model_module_version": "1.5.0",
            "_model_name": "FloatProgressModel",
            "_view_count": null,
            "_view_module": "@jupyter-widgets/controls",
            "_view_module_version": "1.5.0",
            "_view_name": "ProgressView",
            "bar_style": "success",
            "description": "",
            "description_tooltip": null,
            "layout": "IPY_MODEL_45d83c3369c04567aafba49710b714df",
            "max": 235127,
            "min": 0,
            "orientation": "horizontal",
            "style": "IPY_MODEL_c373900431f74f2faaaddc591e04cca3",
            "value": 235127
          }
        },
        "449bd7eb2cee410da00f911a9e2917f8": {
          "model_module": "@jupyter-widgets/controls",
          "model_module_version": "1.5.0",
          "model_name": "FloatProgressModel",
          "state": {
            "_dom_classes": [],
            "_model_module": "@jupyter-widgets/controls",
            "_model_module_version": "1.5.0",
            "_model_name": "FloatProgressModel",
            "_view_count": null,
            "_view_module": "@jupyter-widgets/controls",
            "_view_module_version": "1.5.0",
            "_view_name": "ProgressView",
            "bar_style": "success",
            "description": "",
            "description_tooltip": null,
            "layout": "IPY_MODEL_d1e974e213f04c3692900663674d78d9",
            "max": 442839420,
            "min": 0,
            "orientation": "horizontal",
            "style": "IPY_MODEL_a63dc07112104105b668b347507115c7",
            "value": 442839420
          }
        },
        "45d83c3369c04567aafba49710b714df": {
          "model_module": "@jupyter-widgets/base",
          "model_module_version": "1.2.0",
          "model_name": "LayoutModel",
          "state": {
            "_model_module": "@jupyter-widgets/base",
            "_model_module_version": "1.2.0",
            "_model_name": "LayoutModel",
            "_view_count": null,
            "_view_module": "@jupyter-widgets/base",
            "_view_module_version": "1.2.0",
            "_view_name": "LayoutView",
            "align_content": null,
            "align_items": null,
            "align_self": null,
            "border": null,
            "bottom": null,
            "display": null,
            "flex": null,
            "flex_flow": null,
            "grid_area": null,
            "grid_auto_columns": null,
            "grid_auto_flow": null,
            "grid_auto_rows": null,
            "grid_column": null,
            "grid_gap": null,
            "grid_row": null,
            "grid_template_areas": null,
            "grid_template_columns": null,
            "grid_template_rows": null,
            "height": null,
            "justify_content": null,
            "justify_items": null,
            "left": null,
            "margin": null,
            "max_height": null,
            "max_width": null,
            "min_height": null,
            "min_width": null,
            "object_fit": null,
            "object_position": null,
            "order": null,
            "overflow": null,
            "overflow_x": null,
            "overflow_y": null,
            "padding": null,
            "right": null,
            "top": null,
            "visibility": null,
            "width": null
          }
        },
        "47fae7120cb54c4c8196310b179b5edd": {
          "model_module": "@jupyter-widgets/controls",
          "model_module_version": "1.5.0",
          "model_name": "HTMLModel",
          "state": {
            "_dom_classes": [],
            "_model_module": "@jupyter-widgets/controls",
            "_model_module_version": "1.5.0",
            "_model_name": "HTMLModel",
            "_view_count": null,
            "_view_module": "@jupyter-widgets/controls",
            "_view_module_version": "1.5.0",
            "_view_name": "HTMLView",
            "description": "",
            "description_tooltip": null,
            "layout": "IPY_MODEL_f8d9b123e0b14a328884a8c85d3329f5",
            "placeholder": "​",
            "style": "IPY_MODEL_db9c09062c774e38b1de753b531f1b84",
            "value": " 1.29k/1.29k [00:00&lt;00:00, 24.9kB/s]"
          }
        },
        "529f058aa9ae4984b48abae9f7632768": {
          "model_module": "@jupyter-widgets/controls",
          "model_module_version": "1.5.0",
          "model_name": "DescriptionStyleModel",
          "state": {
            "_model_module": "@jupyter-widgets/controls",
            "_model_module_version": "1.5.0",
            "_model_name": "DescriptionStyleModel",
            "_view_count": null,
            "_view_module": "@jupyter-widgets/base",
            "_view_module_version": "1.2.0",
            "_view_name": "StyleView",
            "description_width": ""
          }
        },
        "54d55d80dd7a4378a5477a6b219ccc76": {
          "model_module": "@jupyter-widgets/controls",
          "model_module_version": "1.5.0",
          "model_name": "HBoxModel",
          "state": {
            "_dom_classes": [],
            "_model_module": "@jupyter-widgets/controls",
            "_model_module_version": "1.5.0",
            "_model_name": "HBoxModel",
            "_view_count": null,
            "_view_module": "@jupyter-widgets/controls",
            "_view_module_version": "1.5.0",
            "_view_name": "HBoxView",
            "box_style": "",
            "children": [
              "IPY_MODEL_5d6fdb33831641c8b8934eab259de4b0",
              "IPY_MODEL_411c1118230a41689710bc9cef4b600f",
              "IPY_MODEL_7ce801db58f547d3ac7719cd8a265fb7"
            ],
            "layout": "IPY_MODEL_6da73916ad7f41d5aa3a1ea60f3d2a06"
          }
        },
        "57ff222ec0af418f944badfdb9a29b87": {
          "model_module": "@jupyter-widgets/base",
          "model_module_version": "1.2.0",
          "model_name": "LayoutModel",
          "state": {
            "_model_module": "@jupyter-widgets/base",
            "_model_module_version": "1.2.0",
            "_model_name": "LayoutModel",
            "_view_count": null,
            "_view_module": "@jupyter-widgets/base",
            "_view_module_version": "1.2.0",
            "_view_name": "LayoutView",
            "align_content": null,
            "align_items": null,
            "align_self": null,
            "border": null,
            "bottom": null,
            "display": null,
            "flex": null,
            "flex_flow": null,
            "grid_area": null,
            "grid_auto_columns": null,
            "grid_auto_flow": null,
            "grid_auto_rows": null,
            "grid_column": null,
            "grid_gap": null,
            "grid_row": null,
            "grid_template_areas": null,
            "grid_template_columns": null,
            "grid_template_rows": null,
            "height": null,
            "justify_content": null,
            "justify_items": null,
            "left": null,
            "margin": null,
            "max_height": null,
            "max_width": null,
            "min_height": null,
            "min_width": null,
            "object_fit": null,
            "object_position": null,
            "order": null,
            "overflow": null,
            "overflow_x": null,
            "overflow_y": null,
            "padding": null,
            "right": null,
            "top": null,
            "visibility": null,
            "width": null
          }
        },
        "59c9b5a136a1406cad57b313a2ae04ab": {
          "model_module": "@jupyter-widgets/controls",
          "model_module_version": "1.5.0",
          "model_name": "DescriptionStyleModel",
          "state": {
            "_model_module": "@jupyter-widgets/controls",
            "_model_module_version": "1.5.0",
            "_model_name": "DescriptionStyleModel",
            "_view_count": null,
            "_view_module": "@jupyter-widgets/base",
            "_view_module_version": "1.2.0",
            "_view_name": "StyleView",
            "description_width": ""
          }
        },
        "5bfb56877563421b8514791901ee80f3": {
          "model_module": "@jupyter-widgets/controls",
          "model_module_version": "1.5.0",
          "model_name": "DescriptionStyleModel",
          "state": {
            "_model_module": "@jupyter-widgets/controls",
            "_model_module_version": "1.5.0",
            "_model_name": "DescriptionStyleModel",
            "_view_count": null,
            "_view_module": "@jupyter-widgets/base",
            "_view_module_version": "1.2.0",
            "_view_name": "StyleView",
            "description_width": ""
          }
        },
        "5d6fdb33831641c8b8934eab259de4b0": {
          "model_module": "@jupyter-widgets/controls",
          "model_module_version": "1.5.0",
          "model_name": "HTMLModel",
          "state": {
            "_dom_classes": [],
            "_model_module": "@jupyter-widgets/controls",
            "_model_module_version": "1.5.0",
            "_model_name": "HTMLModel",
            "_view_count": null,
            "_view_module": "@jupyter-widgets/controls",
            "_view_module_version": "1.5.0",
            "_view_name": "HTMLView",
            "description": "",
            "description_tooltip": null,
            "layout": "IPY_MODEL_9ba751d35de140e195a4077aba607e36",
            "placeholder": "​",
            "style": "IPY_MODEL_5bfb56877563421b8514791901ee80f3",
            "value": "Downloading: 100%"
          }
        },
        "63d3ee6d74bf4c99b210b3f430b4819b": {
          "model_module": "@jupyter-widgets/controls",
          "model_module_version": "1.5.0",
          "model_name": "HBoxModel",
          "state": {
            "_dom_classes": [],
            "_model_module": "@jupyter-widgets/controls",
            "_model_module_version": "1.5.0",
            "_model_name": "HBoxModel",
            "_view_count": null,
            "_view_module": "@jupyter-widgets/controls",
            "_view_module_version": "1.5.0",
            "_view_name": "HBoxView",
            "box_style": "",
            "children": [
              "IPY_MODEL_ccf8e2cc6f6c4c589b72431408b3930a",
              "IPY_MODEL_b2b3fda2a6d640d198d939cd209e8ad0",
              "IPY_MODEL_a62fa56a52e34e27bc54a1fd43a20578"
            ],
            "layout": "IPY_MODEL_223b8f9d4de043c5b8db37b8343ff68c"
          }
        },
        "6597875104d347df89c4b4cac9d33f80": {
          "model_module": "@jupyter-widgets/base",
          "model_module_version": "1.2.0",
          "model_name": "LayoutModel",
          "state": {
            "_model_module": "@jupyter-widgets/base",
            "_model_module_version": "1.2.0",
            "_model_name": "LayoutModel",
            "_view_count": null,
            "_view_module": "@jupyter-widgets/base",
            "_view_module_version": "1.2.0",
            "_view_name": "LayoutView",
            "align_content": null,
            "align_items": null,
            "align_self": null,
            "border": null,
            "bottom": null,
            "display": null,
            "flex": null,
            "flex_flow": null,
            "grid_area": null,
            "grid_auto_columns": null,
            "grid_auto_flow": null,
            "grid_auto_rows": null,
            "grid_column": null,
            "grid_gap": null,
            "grid_row": null,
            "grid_template_areas": null,
            "grid_template_columns": null,
            "grid_template_rows": null,
            "height": null,
            "justify_content": null,
            "justify_items": null,
            "left": null,
            "margin": null,
            "max_height": null,
            "max_width": null,
            "min_height": null,
            "min_width": null,
            "object_fit": null,
            "object_position": null,
            "order": null,
            "overflow": null,
            "overflow_x": null,
            "overflow_y": null,
            "padding": null,
            "right": null,
            "top": null,
            "visibility": null,
            "width": null
          }
        },
        "6a2cf1cb5e594fde86f48cb2e966153d": {
          "model_module": "@jupyter-widgets/base",
          "model_module_version": "1.2.0",
          "model_name": "LayoutModel",
          "state": {
            "_model_module": "@jupyter-widgets/base",
            "_model_module_version": "1.2.0",
            "_model_name": "LayoutModel",
            "_view_count": null,
            "_view_module": "@jupyter-widgets/base",
            "_view_module_version": "1.2.0",
            "_view_name": "LayoutView",
            "align_content": null,
            "align_items": null,
            "align_self": null,
            "border": null,
            "bottom": null,
            "display": null,
            "flex": null,
            "flex_flow": null,
            "grid_area": null,
            "grid_auto_columns": null,
            "grid_auto_flow": null,
            "grid_auto_rows": null,
            "grid_column": null,
            "grid_gap": null,
            "grid_row": null,
            "grid_template_areas": null,
            "grid_template_columns": null,
            "grid_template_rows": null,
            "height": null,
            "justify_content": null,
            "justify_items": null,
            "left": null,
            "margin": null,
            "max_height": null,
            "max_width": null,
            "min_height": null,
            "min_width": null,
            "object_fit": null,
            "object_position": null,
            "order": null,
            "overflow": null,
            "overflow_x": null,
            "overflow_y": null,
            "padding": null,
            "right": null,
            "top": null,
            "visibility": null,
            "width": null
          }
        },
        "6da73916ad7f41d5aa3a1ea60f3d2a06": {
          "model_module": "@jupyter-widgets/base",
          "model_module_version": "1.2.0",
          "model_name": "LayoutModel",
          "state": {
            "_model_module": "@jupyter-widgets/base",
            "_model_module_version": "1.2.0",
            "_model_name": "LayoutModel",
            "_view_count": null,
            "_view_module": "@jupyter-widgets/base",
            "_view_module_version": "1.2.0",
            "_view_name": "LayoutView",
            "align_content": null,
            "align_items": null,
            "align_self": null,
            "border": null,
            "bottom": null,
            "display": null,
            "flex": null,
            "flex_flow": null,
            "grid_area": null,
            "grid_auto_columns": null,
            "grid_auto_flow": null,
            "grid_auto_rows": null,
            "grid_column": null,
            "grid_gap": null,
            "grid_row": null,
            "grid_template_areas": null,
            "grid_template_columns": null,
            "grid_template_rows": null,
            "height": null,
            "justify_content": null,
            "justify_items": null,
            "left": null,
            "margin": null,
            "max_height": null,
            "max_width": null,
            "min_height": null,
            "min_width": null,
            "object_fit": null,
            "object_position": null,
            "order": null,
            "overflow": null,
            "overflow_x": null,
            "overflow_y": null,
            "padding": null,
            "right": null,
            "top": null,
            "visibility": null,
            "width": null
          }
        },
        "7076e0a6987a47669b3f05612f2fc9a4": {
          "model_module": "@jupyter-widgets/controls",
          "model_module_version": "1.5.0",
          "model_name": "DescriptionStyleModel",
          "state": {
            "_model_module": "@jupyter-widgets/controls",
            "_model_module_version": "1.5.0",
            "_model_name": "DescriptionStyleModel",
            "_view_count": null,
            "_view_module": "@jupyter-widgets/base",
            "_view_module_version": "1.2.0",
            "_view_name": "StyleView",
            "description_width": ""
          }
        },
        "72c1993b8c1e4da59d9d6d58e27b88fb": {
          "model_module": "@jupyter-widgets/controls",
          "model_module_version": "1.5.0",
          "model_name": "HTMLModel",
          "state": {
            "_dom_classes": [],
            "_model_module": "@jupyter-widgets/controls",
            "_model_module_version": "1.5.0",
            "_model_name": "HTMLModel",
            "_view_count": null,
            "_view_module": "@jupyter-widgets/controls",
            "_view_module_version": "1.5.0",
            "_view_name": "HTMLView",
            "description": "",
            "description_tooltip": null,
            "layout": "IPY_MODEL_6597875104d347df89c4b4cac9d33f80",
            "placeholder": "​",
            "style": "IPY_MODEL_7076e0a6987a47669b3f05612f2fc9a4",
            "value": " 40.0/40.0 [00:00&lt;00:00, 1.02kB/s]"
          }
        },
        "78717ce6e2434aabb0973dd419e83c1a": {
          "model_module": "@jupyter-widgets/controls",
          "model_module_version": "1.5.0",
          "model_name": "DescriptionStyleModel",
          "state": {
            "_model_module": "@jupyter-widgets/controls",
            "_model_module_version": "1.5.0",
            "_model_name": "DescriptionStyleModel",
            "_view_count": null,
            "_view_module": "@jupyter-widgets/base",
            "_view_module_version": "1.2.0",
            "_view_name": "StyleView",
            "description_width": ""
          }
        },
        "7ce801db58f547d3ac7719cd8a265fb7": {
          "model_module": "@jupyter-widgets/controls",
          "model_module_version": "1.5.0",
          "model_name": "HTMLModel",
          "state": {
            "_dom_classes": [],
            "_model_module": "@jupyter-widgets/controls",
            "_model_module_version": "1.5.0",
            "_model_name": "HTMLModel",
            "_view_count": null,
            "_view_module": "@jupyter-widgets/controls",
            "_view_module_version": "1.5.0",
            "_view_name": "HTMLView",
            "description": "",
            "description_tooltip": null,
            "layout": "IPY_MODEL_3d4f866fc3204419ac1ed3dc0d1901d3",
            "placeholder": "​",
            "style": "IPY_MODEL_c9b1bdf8451d4c928b084b5b7ae60179",
            "value": " 235k/235k [00:00&lt;00:00, 2.33MB/s]"
          }
        },
        "7d4b61b558e9447d832d410eb8ab27e1": {
          "model_module": "@jupyter-widgets/base",
          "model_module_version": "1.2.0",
          "model_name": "LayoutModel",
          "state": {
            "_model_module": "@jupyter-widgets/base",
            "_model_module_version": "1.2.0",
            "_model_name": "LayoutModel",
            "_view_count": null,
            "_view_module": "@jupyter-widgets/base",
            "_view_module_version": "1.2.0",
            "_view_name": "LayoutView",
            "align_content": null,
            "align_items": null,
            "align_self": null,
            "border": null,
            "bottom": null,
            "display": null,
            "flex": null,
            "flex_flow": null,
            "grid_area": null,
            "grid_auto_columns": null,
            "grid_auto_flow": null,
            "grid_auto_rows": null,
            "grid_column": null,
            "grid_gap": null,
            "grid_row": null,
            "grid_template_areas": null,
            "grid_template_columns": null,
            "grid_template_rows": null,
            "height": null,
            "justify_content": null,
            "justify_items": null,
            "left": null,
            "margin": null,
            "max_height": null,
            "max_width": null,
            "min_height": null,
            "min_width": null,
            "object_fit": null,
            "object_position": null,
            "order": null,
            "overflow": null,
            "overflow_x": null,
            "overflow_y": null,
            "padding": null,
            "right": null,
            "top": null,
            "visibility": null,
            "width": null
          }
        },
        "7f160f3ccf3940ffb402864cad979b5d": {
          "model_module": "@jupyter-widgets/controls",
          "model_module_version": "1.5.0",
          "model_name": "HBoxModel",
          "state": {
            "_dom_classes": [],
            "_model_module": "@jupyter-widgets/controls",
            "_model_module_version": "1.5.0",
            "_model_name": "HBoxModel",
            "_view_count": null,
            "_view_module": "@jupyter-widgets/controls",
            "_view_module_version": "1.5.0",
            "_view_name": "HBoxView",
            "box_style": "",
            "children": [
              "IPY_MODEL_40d019f7d5c94942acd15f814d6d6615",
              "IPY_MODEL_ed12e0026fe34d3f90fa746bc5be52e4",
              "IPY_MODEL_47fae7120cb54c4c8196310b179b5edd"
            ],
            "layout": "IPY_MODEL_8aea0fa4cc7f4902a5056deeb60d4100"
          }
        },
        "8534f0ac2a1c47368738075aa65b2d1b": {
          "model_module": "@jupyter-widgets/base",
          "model_module_version": "1.2.0",
          "model_name": "LayoutModel",
          "state": {
            "_model_module": "@jupyter-widgets/base",
            "_model_module_version": "1.2.0",
            "_model_name": "LayoutModel",
            "_view_count": null,
            "_view_module": "@jupyter-widgets/base",
            "_view_module_version": "1.2.0",
            "_view_name": "LayoutView",
            "align_content": null,
            "align_items": null,
            "align_self": null,
            "border": null,
            "bottom": null,
            "display": null,
            "flex": null,
            "flex_flow": null,
            "grid_area": null,
            "grid_auto_columns": null,
            "grid_auto_flow": null,
            "grid_auto_rows": null,
            "grid_column": null,
            "grid_gap": null,
            "grid_row": null,
            "grid_template_areas": null,
            "grid_template_columns": null,
            "grid_template_rows": null,
            "height": null,
            "justify_content": null,
            "justify_items": null,
            "left": null,
            "margin": null,
            "max_height": null,
            "max_width": null,
            "min_height": null,
            "min_width": null,
            "object_fit": null,
            "object_position": null,
            "order": null,
            "overflow": null,
            "overflow_x": null,
            "overflow_y": null,
            "padding": null,
            "right": null,
            "top": null,
            "visibility": null,
            "width": null
          }
        },
        "870aff4d7b8a411d9b608b3eb671bb6a": {
          "model_module": "@jupyter-widgets/base",
          "model_module_version": "1.2.0",
          "model_name": "LayoutModel",
          "state": {
            "_model_module": "@jupyter-widgets/base",
            "_model_module_version": "1.2.0",
            "_model_name": "LayoutModel",
            "_view_count": null,
            "_view_module": "@jupyter-widgets/base",
            "_view_module_version": "1.2.0",
            "_view_name": "LayoutView",
            "align_content": null,
            "align_items": null,
            "align_self": null,
            "border": null,
            "bottom": null,
            "display": null,
            "flex": null,
            "flex_flow": null,
            "grid_area": null,
            "grid_auto_columns": null,
            "grid_auto_flow": null,
            "grid_auto_rows": null,
            "grid_column": null,
            "grid_gap": null,
            "grid_row": null,
            "grid_template_areas": null,
            "grid_template_columns": null,
            "grid_template_rows": null,
            "height": null,
            "justify_content": null,
            "justify_items": null,
            "left": null,
            "margin": null,
            "max_height": null,
            "max_width": null,
            "min_height": null,
            "min_width": null,
            "object_fit": null,
            "object_position": null,
            "order": null,
            "overflow": null,
            "overflow_x": null,
            "overflow_y": null,
            "padding": null,
            "right": null,
            "top": null,
            "visibility": null,
            "width": null
          }
        },
        "8aea0fa4cc7f4902a5056deeb60d4100": {
          "model_module": "@jupyter-widgets/base",
          "model_module_version": "1.2.0",
          "model_name": "LayoutModel",
          "state": {
            "_model_module": "@jupyter-widgets/base",
            "_model_module_version": "1.2.0",
            "_model_name": "LayoutModel",
            "_view_count": null,
            "_view_module": "@jupyter-widgets/base",
            "_view_module_version": "1.2.0",
            "_view_name": "LayoutView",
            "align_content": null,
            "align_items": null,
            "align_self": null,
            "border": null,
            "bottom": null,
            "display": null,
            "flex": null,
            "flex_flow": null,
            "grid_area": null,
            "grid_auto_columns": null,
            "grid_auto_flow": null,
            "grid_auto_rows": null,
            "grid_column": null,
            "grid_gap": null,
            "grid_row": null,
            "grid_template_areas": null,
            "grid_template_columns": null,
            "grid_template_rows": null,
            "height": null,
            "justify_content": null,
            "justify_items": null,
            "left": null,
            "margin": null,
            "max_height": null,
            "max_width": null,
            "min_height": null,
            "min_width": null,
            "object_fit": null,
            "object_position": null,
            "order": null,
            "overflow": null,
            "overflow_x": null,
            "overflow_y": null,
            "padding": null,
            "right": null,
            "top": null,
            "visibility": null,
            "width": null
          }
        },
        "964d622000c7461e92b56853dd688d8f": {
          "model_module": "@jupyter-widgets/base",
          "model_module_version": "1.2.0",
          "model_name": "LayoutModel",
          "state": {
            "_model_module": "@jupyter-widgets/base",
            "_model_module_version": "1.2.0",
            "_model_name": "LayoutModel",
            "_view_count": null,
            "_view_module": "@jupyter-widgets/base",
            "_view_module_version": "1.2.0",
            "_view_name": "LayoutView",
            "align_content": null,
            "align_items": null,
            "align_self": null,
            "border": null,
            "bottom": null,
            "display": null,
            "flex": null,
            "flex_flow": null,
            "grid_area": null,
            "grid_auto_columns": null,
            "grid_auto_flow": null,
            "grid_auto_rows": null,
            "grid_column": null,
            "grid_gap": null,
            "grid_row": null,
            "grid_template_areas": null,
            "grid_template_columns": null,
            "grid_template_rows": null,
            "height": null,
            "justify_content": null,
            "justify_items": null,
            "left": null,
            "margin": null,
            "max_height": null,
            "max_width": null,
            "min_height": null,
            "min_width": null,
            "object_fit": null,
            "object_position": null,
            "order": null,
            "overflow": null,
            "overflow_x": null,
            "overflow_y": null,
            "padding": null,
            "right": null,
            "top": null,
            "visibility": null,
            "width": null
          }
        },
        "96e11f4f8f434daf90b7f978177f9f5b": {
          "model_module": "@jupyter-widgets/controls",
          "model_module_version": "1.5.0",
          "model_name": "HBoxModel",
          "state": {
            "_dom_classes": [],
            "_model_module": "@jupyter-widgets/controls",
            "_model_module_version": "1.5.0",
            "_model_name": "HBoxModel",
            "_view_count": null,
            "_view_module": "@jupyter-widgets/controls",
            "_view_module_version": "1.5.0",
            "_view_name": "HBoxView",
            "box_style": "",
            "children": [
              "IPY_MODEL_343c9cec6cbf43d78f6271f64768d948",
              "IPY_MODEL_bf3da8c8f8d048c3bc02a292a833b6cc",
              "IPY_MODEL_72c1993b8c1e4da59d9d6d58e27b88fb"
            ],
            "layout": "IPY_MODEL_cbb68711c464439d9e509cbe518f6147"
          }
        },
        "9ba751d35de140e195a4077aba607e36": {
          "model_module": "@jupyter-widgets/base",
          "model_module_version": "1.2.0",
          "model_name": "LayoutModel",
          "state": {
            "_model_module": "@jupyter-widgets/base",
            "_model_module_version": "1.2.0",
            "_model_name": "LayoutModel",
            "_view_count": null,
            "_view_module": "@jupyter-widgets/base",
            "_view_module_version": "1.2.0",
            "_view_name": "LayoutView",
            "align_content": null,
            "align_items": null,
            "align_self": null,
            "border": null,
            "bottom": null,
            "display": null,
            "flex": null,
            "flex_flow": null,
            "grid_area": null,
            "grid_auto_columns": null,
            "grid_auto_flow": null,
            "grid_auto_rows": null,
            "grid_column": null,
            "grid_gap": null,
            "grid_row": null,
            "grid_template_areas": null,
            "grid_template_columns": null,
            "grid_template_rows": null,
            "height": null,
            "justify_content": null,
            "justify_items": null,
            "left": null,
            "margin": null,
            "max_height": null,
            "max_width": null,
            "min_height": null,
            "min_width": null,
            "object_fit": null,
            "object_position": null,
            "order": null,
            "overflow": null,
            "overflow_x": null,
            "overflow_y": null,
            "padding": null,
            "right": null,
            "top": null,
            "visibility": null,
            "width": null
          }
        },
        "a32b0f2953dd43dbaada8e1af339523b": {
          "model_module": "@jupyter-widgets/base",
          "model_module_version": "1.2.0",
          "model_name": "LayoutModel",
          "state": {
            "_model_module": "@jupyter-widgets/base",
            "_model_module_version": "1.2.0",
            "_model_name": "LayoutModel",
            "_view_count": null,
            "_view_module": "@jupyter-widgets/base",
            "_view_module_version": "1.2.0",
            "_view_name": "LayoutView",
            "align_content": null,
            "align_items": null,
            "align_self": null,
            "border": null,
            "bottom": null,
            "display": null,
            "flex": null,
            "flex_flow": null,
            "grid_area": null,
            "grid_auto_columns": null,
            "grid_auto_flow": null,
            "grid_auto_rows": null,
            "grid_column": null,
            "grid_gap": null,
            "grid_row": null,
            "grid_template_areas": null,
            "grid_template_columns": null,
            "grid_template_rows": null,
            "height": null,
            "justify_content": null,
            "justify_items": null,
            "left": null,
            "margin": null,
            "max_height": null,
            "max_width": null,
            "min_height": null,
            "min_width": null,
            "object_fit": null,
            "object_position": null,
            "order": null,
            "overflow": null,
            "overflow_x": null,
            "overflow_y": null,
            "padding": null,
            "right": null,
            "top": null,
            "visibility": null,
            "width": null
          }
        },
        "a62fa56a52e34e27bc54a1fd43a20578": {
          "model_module": "@jupyter-widgets/controls",
          "model_module_version": "1.5.0",
          "model_name": "HTMLModel",
          "state": {
            "_dom_classes": [],
            "_model_module": "@jupyter-widgets/controls",
            "_model_module_version": "1.5.0",
            "_model_name": "HTMLModel",
            "_view_count": null,
            "_view_module": "@jupyter-widgets/controls",
            "_view_module_version": "1.5.0",
            "_view_name": "HTMLView",
            "description": "",
            "description_tooltip": null,
            "layout": "IPY_MODEL_a32b0f2953dd43dbaada8e1af339523b",
            "placeholder": "​",
            "style": "IPY_MODEL_0fdab920af9c4a01a74e184c48282331",
            "value": " 112/112 [00:00&lt;00:00, 2.47kB/s]"
          }
        },
        "a63dc07112104105b668b347507115c7": {
          "model_module": "@jupyter-widgets/controls",
          "model_module_version": "1.5.0",
          "model_name": "ProgressStyleModel",
          "state": {
            "_model_module": "@jupyter-widgets/controls",
            "_model_module_version": "1.5.0",
            "_model_name": "ProgressStyleModel",
            "_view_count": null,
            "_view_module": "@jupyter-widgets/base",
            "_view_module_version": "1.2.0",
            "_view_name": "StyleView",
            "bar_color": null,
            "description_width": ""
          }
        },
        "ae95aecaa8644815b8f7eaf9aa70054a": {
          "model_module": "@jupyter-widgets/controls",
          "model_module_version": "1.5.0",
          "model_name": "ProgressStyleModel",
          "state": {
            "_model_module": "@jupyter-widgets/controls",
            "_model_module_version": "1.5.0",
            "_model_name": "ProgressStyleModel",
            "_view_count": null,
            "_view_module": "@jupyter-widgets/base",
            "_view_module_version": "1.2.0",
            "_view_name": "StyleView",
            "bar_color": null,
            "description_width": ""
          }
        },
        "b2b3fda2a6d640d198d939cd209e8ad0": {
          "model_module": "@jupyter-widgets/controls",
          "model_module_version": "1.5.0",
          "model_name": "FloatProgressModel",
          "state": {
            "_dom_classes": [],
            "_model_module": "@jupyter-widgets/controls",
            "_model_module_version": "1.5.0",
            "_model_name": "FloatProgressModel",
            "_view_count": null,
            "_view_module": "@jupyter-widgets/controls",
            "_view_module_version": "1.5.0",
            "_view_name": "ProgressView",
            "bar_style": "success",
            "description": "",
            "description_tooltip": null,
            "layout": "IPY_MODEL_7d4b61b558e9447d832d410eb8ab27e1",
            "max": 112,
            "min": 0,
            "orientation": "horizontal",
            "style": "IPY_MODEL_ae95aecaa8644815b8f7eaf9aa70054a",
            "value": 112
          }
        },
        "b3b26f1c48424c87ba3a60e7be5b8c29": {
          "model_module": "@jupyter-widgets/base",
          "model_module_version": "1.2.0",
          "model_name": "LayoutModel",
          "state": {
            "_model_module": "@jupyter-widgets/base",
            "_model_module_version": "1.2.0",
            "_model_name": "LayoutModel",
            "_view_count": null,
            "_view_module": "@jupyter-widgets/base",
            "_view_module_version": "1.2.0",
            "_view_name": "LayoutView",
            "align_content": null,
            "align_items": null,
            "align_self": null,
            "border": null,
            "bottom": null,
            "display": null,
            "flex": null,
            "flex_flow": null,
            "grid_area": null,
            "grid_auto_columns": null,
            "grid_auto_flow": null,
            "grid_auto_rows": null,
            "grid_column": null,
            "grid_gap": null,
            "grid_row": null,
            "grid_template_areas": null,
            "grid_template_columns": null,
            "grid_template_rows": null,
            "height": null,
            "justify_content": null,
            "justify_items": null,
            "left": null,
            "margin": null,
            "max_height": null,
            "max_width": null,
            "min_height": null,
            "min_width": null,
            "object_fit": null,
            "object_position": null,
            "order": null,
            "overflow": null,
            "overflow_x": null,
            "overflow_y": null,
            "padding": null,
            "right": null,
            "top": null,
            "visibility": null,
            "width": null
          }
        },
        "b83bc958f1ce444b8f87d6303f3a76d0": {
          "model_module": "@jupyter-widgets/controls",
          "model_module_version": "1.5.0",
          "model_name": "ProgressStyleModel",
          "state": {
            "_model_module": "@jupyter-widgets/controls",
            "_model_module_version": "1.5.0",
            "_model_name": "ProgressStyleModel",
            "_view_count": null,
            "_view_module": "@jupyter-widgets/base",
            "_view_module_version": "1.2.0",
            "_view_name": "StyleView",
            "bar_color": null,
            "description_width": ""
          }
        },
        "bded40ed02f146e897b600237a67e304": {
          "model_module": "@jupyter-widgets/base",
          "model_module_version": "1.2.0",
          "model_name": "LayoutModel",
          "state": {
            "_model_module": "@jupyter-widgets/base",
            "_model_module_version": "1.2.0",
            "_model_name": "LayoutModel",
            "_view_count": null,
            "_view_module": "@jupyter-widgets/base",
            "_view_module_version": "1.2.0",
            "_view_name": "LayoutView",
            "align_content": null,
            "align_items": null,
            "align_self": null,
            "border": null,
            "bottom": null,
            "display": null,
            "flex": null,
            "flex_flow": null,
            "grid_area": null,
            "grid_auto_columns": null,
            "grid_auto_flow": null,
            "grid_auto_rows": null,
            "grid_column": null,
            "grid_gap": null,
            "grid_row": null,
            "grid_template_areas": null,
            "grid_template_columns": null,
            "grid_template_rows": null,
            "height": null,
            "justify_content": null,
            "justify_items": null,
            "left": null,
            "margin": null,
            "max_height": null,
            "max_width": null,
            "min_height": null,
            "min_width": null,
            "object_fit": null,
            "object_position": null,
            "order": null,
            "overflow": null,
            "overflow_x": null,
            "overflow_y": null,
            "padding": null,
            "right": null,
            "top": null,
            "visibility": null,
            "width": null
          }
        },
        "bf3da8c8f8d048c3bc02a292a833b6cc": {
          "model_module": "@jupyter-widgets/controls",
          "model_module_version": "1.5.0",
          "model_name": "FloatProgressModel",
          "state": {
            "_dom_classes": [],
            "_model_module": "@jupyter-widgets/controls",
            "_model_module_version": "1.5.0",
            "_model_name": "FloatProgressModel",
            "_view_count": null,
            "_view_module": "@jupyter-widgets/controls",
            "_view_module_version": "1.5.0",
            "_view_name": "ProgressView",
            "bar_style": "success",
            "description": "",
            "description_tooltip": null,
            "layout": "IPY_MODEL_870aff4d7b8a411d9b608b3eb671bb6a",
            "max": 40,
            "min": 0,
            "orientation": "horizontal",
            "style": "IPY_MODEL_b83bc958f1ce444b8f87d6303f3a76d0",
            "value": 40
          }
        },
        "c373900431f74f2faaaddc591e04cca3": {
          "model_module": "@jupyter-widgets/controls",
          "model_module_version": "1.5.0",
          "model_name": "ProgressStyleModel",
          "state": {
            "_model_module": "@jupyter-widgets/controls",
            "_model_module_version": "1.5.0",
            "_model_name": "ProgressStyleModel",
            "_view_count": null,
            "_view_module": "@jupyter-widgets/base",
            "_view_module_version": "1.2.0",
            "_view_name": "StyleView",
            "bar_color": null,
            "description_width": ""
          }
        },
        "c9b1bdf8451d4c928b084b5b7ae60179": {
          "model_module": "@jupyter-widgets/controls",
          "model_module_version": "1.5.0",
          "model_name": "DescriptionStyleModel",
          "state": {
            "_model_module": "@jupyter-widgets/controls",
            "_model_module_version": "1.5.0",
            "_model_name": "DescriptionStyleModel",
            "_view_count": null,
            "_view_module": "@jupyter-widgets/base",
            "_view_module_version": "1.2.0",
            "_view_name": "StyleView",
            "description_width": ""
          }
        },
        "cbb68711c464439d9e509cbe518f6147": {
          "model_module": "@jupyter-widgets/base",
          "model_module_version": "1.2.0",
          "model_name": "LayoutModel",
          "state": {
            "_model_module": "@jupyter-widgets/base",
            "_model_module_version": "1.2.0",
            "_model_name": "LayoutModel",
            "_view_count": null,
            "_view_module": "@jupyter-widgets/base",
            "_view_module_version": "1.2.0",
            "_view_name": "LayoutView",
            "align_content": null,
            "align_items": null,
            "align_self": null,
            "border": null,
            "bottom": null,
            "display": null,
            "flex": null,
            "flex_flow": null,
            "grid_area": null,
            "grid_auto_columns": null,
            "grid_auto_flow": null,
            "grid_auto_rows": null,
            "grid_column": null,
            "grid_gap": null,
            "grid_row": null,
            "grid_template_areas": null,
            "grid_template_columns": null,
            "grid_template_rows": null,
            "height": null,
            "justify_content": null,
            "justify_items": null,
            "left": null,
            "margin": null,
            "max_height": null,
            "max_width": null,
            "min_height": null,
            "min_width": null,
            "object_fit": null,
            "object_position": null,
            "order": null,
            "overflow": null,
            "overflow_x": null,
            "overflow_y": null,
            "padding": null,
            "right": null,
            "top": null,
            "visibility": null,
            "width": null
          }
        },
        "ccf8e2cc6f6c4c589b72431408b3930a": {
          "model_module": "@jupyter-widgets/controls",
          "model_module_version": "1.5.0",
          "model_name": "HTMLModel",
          "state": {
            "_dom_classes": [],
            "_model_module": "@jupyter-widgets/controls",
            "_model_module_version": "1.5.0",
            "_model_name": "HTMLModel",
            "_view_count": null,
            "_view_module": "@jupyter-widgets/controls",
            "_view_module_version": "1.5.0",
            "_view_name": "HTMLView",
            "description": "",
            "description_tooltip": null,
            "layout": "IPY_MODEL_57ff222ec0af418f944badfdb9a29b87",
            "placeholder": "​",
            "style": "IPY_MODEL_59c9b5a136a1406cad57b313a2ae04ab",
            "value": "Downloading: 100%"
          }
        },
        "d1e974e213f04c3692900663674d78d9": {
          "model_module": "@jupyter-widgets/base",
          "model_module_version": "1.2.0",
          "model_name": "LayoutModel",
          "state": {
            "_model_module": "@jupyter-widgets/base",
            "_model_module_version": "1.2.0",
            "_model_name": "LayoutModel",
            "_view_count": null,
            "_view_module": "@jupyter-widgets/base",
            "_view_module_version": "1.2.0",
            "_view_name": "LayoutView",
            "align_content": null,
            "align_items": null,
            "align_self": null,
            "border": null,
            "bottom": null,
            "display": null,
            "flex": null,
            "flex_flow": null,
            "grid_area": null,
            "grid_auto_columns": null,
            "grid_auto_flow": null,
            "grid_auto_rows": null,
            "grid_column": null,
            "grid_gap": null,
            "grid_row": null,
            "grid_template_areas": null,
            "grid_template_columns": null,
            "grid_template_rows": null,
            "height": null,
            "justify_content": null,
            "justify_items": null,
            "left": null,
            "margin": null,
            "max_height": null,
            "max_width": null,
            "min_height": null,
            "min_width": null,
            "object_fit": null,
            "object_position": null,
            "order": null,
            "overflow": null,
            "overflow_x": null,
            "overflow_y": null,
            "padding": null,
            "right": null,
            "top": null,
            "visibility": null,
            "width": null
          }
        },
        "d499fa6edfbe4d38aceee68f45ba0d6b": {
          "model_module": "@jupyter-widgets/controls",
          "model_module_version": "1.5.0",
          "model_name": "HTMLModel",
          "state": {
            "_dom_classes": [],
            "_model_module": "@jupyter-widgets/controls",
            "_model_module_version": "1.5.0",
            "_model_name": "HTMLModel",
            "_view_count": null,
            "_view_module": "@jupyter-widgets/controls",
            "_view_module_version": "1.5.0",
            "_view_name": "HTMLView",
            "description": "",
            "description_tooltip": null,
            "layout": "IPY_MODEL_24462b55fcb946738579024564239033",
            "placeholder": "​",
            "style": "IPY_MODEL_78717ce6e2434aabb0973dd419e83c1a",
            "value": " 443M/443M [00:17&lt;00:00, 27.1MB/s]"
          }
        },
        "db9c09062c774e38b1de753b531f1b84": {
          "model_module": "@jupyter-widgets/controls",
          "model_module_version": "1.5.0",
          "model_name": "DescriptionStyleModel",
          "state": {
            "_model_module": "@jupyter-widgets/controls",
            "_model_module_version": "1.5.0",
            "_model_name": "DescriptionStyleModel",
            "_view_count": null,
            "_view_module": "@jupyter-widgets/base",
            "_view_module_version": "1.2.0",
            "_view_name": "StyleView",
            "description_width": ""
          }
        },
        "e32a25712632435c82287a80953d8c66": {
          "model_module": "@jupyter-widgets/controls",
          "model_module_version": "1.5.0",
          "model_name": "DescriptionStyleModel",
          "state": {
            "_model_module": "@jupyter-widgets/controls",
            "_model_module_version": "1.5.0",
            "_model_name": "DescriptionStyleModel",
            "_view_count": null,
            "_view_module": "@jupyter-widgets/base",
            "_view_module_version": "1.2.0",
            "_view_name": "StyleView",
            "description_width": ""
          }
        },
        "ed12e0026fe34d3f90fa746bc5be52e4": {
          "model_module": "@jupyter-widgets/controls",
          "model_module_version": "1.5.0",
          "model_name": "FloatProgressModel",
          "state": {
            "_dom_classes": [],
            "_model_module": "@jupyter-widgets/controls",
            "_model_module_version": "1.5.0",
            "_model_name": "FloatProgressModel",
            "_view_count": null,
            "_view_module": "@jupyter-widgets/controls",
            "_view_module_version": "1.5.0",
            "_view_name": "ProgressView",
            "bar_style": "success",
            "description": "",
            "description_tooltip": null,
            "layout": "IPY_MODEL_8534f0ac2a1c47368738075aa65b2d1b",
            "max": 1291,
            "min": 0,
            "orientation": "horizontal",
            "style": "IPY_MODEL_f75b8536b84b4339a20eb76b46c0f297",
            "value": 1291
          }
        },
        "f0182a51627a4291a5302971fa7e7272": {
          "model_module": "@jupyter-widgets/controls",
          "model_module_version": "1.5.0",
          "model_name": "HTMLModel",
          "state": {
            "_dom_classes": [],
            "_model_module": "@jupyter-widgets/controls",
            "_model_module_version": "1.5.0",
            "_model_name": "HTMLModel",
            "_view_count": null,
            "_view_module": "@jupyter-widgets/controls",
            "_view_module_version": "1.5.0",
            "_view_name": "HTMLView",
            "description": "",
            "description_tooltip": null,
            "layout": "IPY_MODEL_964d622000c7461e92b56853dd688d8f",
            "placeholder": "​",
            "style": "IPY_MODEL_e32a25712632435c82287a80953d8c66",
            "value": "Downloading: 100%"
          }
        },
        "f75b8536b84b4339a20eb76b46c0f297": {
          "model_module": "@jupyter-widgets/controls",
          "model_module_version": "1.5.0",
          "model_name": "ProgressStyleModel",
          "state": {
            "_model_module": "@jupyter-widgets/controls",
            "_model_module_version": "1.5.0",
            "_model_name": "ProgressStyleModel",
            "_view_count": null,
            "_view_module": "@jupyter-widgets/base",
            "_view_module_version": "1.2.0",
            "_view_name": "StyleView",
            "bar_color": null,
            "description_width": ""
          }
        },
        "f8d9b123e0b14a328884a8c85d3329f5": {
          "model_module": "@jupyter-widgets/base",
          "model_module_version": "1.2.0",
          "model_name": "LayoutModel",
          "state": {
            "_model_module": "@jupyter-widgets/base",
            "_model_module_version": "1.2.0",
            "_model_name": "LayoutModel",
            "_view_count": null,
            "_view_module": "@jupyter-widgets/base",
            "_view_module_version": "1.2.0",
            "_view_name": "LayoutView",
            "align_content": null,
            "align_items": null,
            "align_self": null,
            "border": null,
            "bottom": null,
            "display": null,
            "flex": null,
            "flex_flow": null,
            "grid_area": null,
            "grid_auto_columns": null,
            "grid_auto_flow": null,
            "grid_auto_rows": null,
            "grid_column": null,
            "grid_gap": null,
            "grid_row": null,
            "grid_template_areas": null,
            "grid_template_columns": null,
            "grid_template_rows": null,
            "height": null,
            "justify_content": null,
            "justify_items": null,
            "left": null,
            "margin": null,
            "max_height": null,
            "max_width": null,
            "min_height": null,
            "min_width": null,
            "object_fit": null,
            "object_position": null,
            "order": null,
            "overflow": null,
            "overflow_x": null,
            "overflow_y": null,
            "padding": null,
            "right": null,
            "top": null,
            "visibility": null,
            "width": null
          }
        },
        "fa2f83faca6b4b1eba75a24f64c6f215": {
          "model_module": "@jupyter-widgets/controls",
          "model_module_version": "1.5.0",
          "model_name": "HBoxModel",
          "state": {
            "_dom_classes": [],
            "_model_module": "@jupyter-widgets/controls",
            "_model_module_version": "1.5.0",
            "_model_name": "HBoxModel",
            "_view_count": null,
            "_view_module": "@jupyter-widgets/controls",
            "_view_module_version": "1.5.0",
            "_view_name": "HBoxView",
            "box_style": "",
            "children": [
              "IPY_MODEL_f0182a51627a4291a5302971fa7e7272",
              "IPY_MODEL_449bd7eb2cee410da00f911a9e2917f8",
              "IPY_MODEL_d499fa6edfbe4d38aceee68f45ba0d6b"
            ],
            "layout": "IPY_MODEL_6a2cf1cb5e594fde86f48cb2e966153d"
          }
        }
      }
    }
  },
  "nbformat": 4,
  "nbformat_minor": 0
}
