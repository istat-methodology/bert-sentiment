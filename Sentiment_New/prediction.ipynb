{
  "cells": [
    {
      "cell_type": "markdown",
      "source": [
        "# **Sentiment Prediction**"
      ],
      "metadata": {
        "nteract": {
          "transient": {
            "deleting": false
          }
        },
        "id": "1wXJn7YfkiD3"
      }
    },
    {
      "cell_type": "code",
      "source": [
        "import numpy as np\n",
        "import pandas as pd\n",
        "import platform\n",
        "import configparser\n",
        "from datetime import datetime, timedelta, date\n",
        "import glob\n",
        "import sys\n",
        "import os\n",
        "import timeit\n",
        "from tqdm import tqdm\n",
        "\n",
        "import tensorflow as tf\n",
        "import matplotlib.pyplot as plt\n",
        "\n",
        "from tensorflow.keras.preprocessing.text import Tokenizer\n",
        "from tensorflow.keras.preprocessing.sequence import pad_sequences\n",
        "from tensorflow.keras.models import model_from_json"
      ],
      "outputs": [],
      "execution_count": 1,
      "metadata": {
        "gather": {
          "logged": 1688553047177
        },
        "jupyter": {
          "outputs_hidden": true
        },
        "id": "_nsfCd9ukiEA"
      }
    },
    {
      "cell_type": "code",
      "source": [
        "colab_active = 'google.colab' in sys.modules\n",
        "print(\"Colab Active: \", colab_active)"
      ],
      "metadata": {
        "colab": {
          "base_uri": "https://localhost:8080/"
        },
        "id": "jcr3OisEfQQJ",
        "outputId": "cdc5f732-a17d-45a5-8784-8329b55edca7"
      },
      "execution_count": 2,
      "outputs": [
        {
          "output_type": "stream",
          "name": "stdout",
          "text": [
            "Colab Active:  True\n"
          ]
        }
      ]
    },
    {
      "cell_type": "markdown",
      "source": [
        "#**Downloads**"
      ],
      "metadata": {
        "id": "pBkhH7a4lmGf"
      }
    },
    {
      "cell_type": "code",
      "source": [
        "if colab_active is True:\n",
        "  OS = platform.system()      # Operating System\n",
        "\n",
        "  def data_download(file_to_download, gdrive_code, OS, uncompress = True):\n",
        "    if not os.path.exists(file_to_download):\n",
        "      os.system('gdown --id \"'+gdrive_code+'\" --output '+file_to_download)\n",
        "      if OS == \"Linux\" and uncompress:\n",
        "          os.system('unzip -o -n \"./'+file_to_download+'\" -d '+os.path.dirname(file_to_download))\n",
        "      return True\n",
        "    else:\n",
        "      return None"
      ],
      "metadata": {
        "id": "3mRTnsF3llCN"
      },
      "execution_count": 3,
      "outputs": []
    },
    {
      "cell_type": "code",
      "source": [
        "if colab_active is True:\n",
        "  out = data_download(\"./Senntiment_Social_Mood_Corpus_Tweets.zip\", \"11lopgQpkQ-UjwP62icelthzISG_fn2_5\", OS)\n",
        "  out = data_download(\"./Sentiment_Social_Mood_Models.zip\", \"18WwKQxpjsftBl5tfdV62SZBqKxN1HOm5\", OS)"
      ],
      "metadata": {
        "id": "1Clb3-sxlshP"
      },
      "execution_count": 4,
      "outputs": []
    },
    {
      "cell_type": "markdown",
      "source": [
        "## Configs"
      ],
      "metadata": {
        "nteract": {
          "transient": {
            "deleting": false
          }
        },
        "id": "4cDi-eeskiEE"
      }
    },
    {
      "cell_type": "code",
      "source": [
        "start_date: date = date(2020,1,1)\n",
        "end_date  : date = date(2020,5,31)\n",
        "\n",
        "small_df  : bool = False\n",
        "small_size: int  = 200000\n",
        "\n",
        "max_tokens: int  = 20000\n",
        "k_model   : str  = 'mod_orig_onestep'"
      ],
      "outputs": [],
      "execution_count": 5,
      "metadata": {
        "jupyter": {
          "source_hidden": false,
          "outputs_hidden": false
        },
        "nteract": {
          "transient": {
            "deleting": false
          }
        },
        "gather": {
          "logged": 1688553051644
        },
        "id": "CRpWt3oNkiEF"
      }
    },
    {
      "cell_type": "markdown",
      "source": [
        "Create a list of dates ranging from `start_date` to `end_date`."
      ],
      "metadata": {
        "nteract": {
          "transient": {
            "deleting": false
          }
        },
        "id": "kkUkxG44kiEG"
      }
    },
    {
      "cell_type": "code",
      "source": [
        "date_list = []\n",
        "\n",
        "current_date = start_date\n",
        "iteration = 1\n",
        "\n",
        "while current_date <= end_date:\n",
        "    date_list.append(f'{current_date.year}-{current_date.month:02d}-{current_date.day:02d}')\n",
        "    current_date += timedelta(days=1)\n",
        "    iteration += 1"
      ],
      "outputs": [],
      "execution_count": 6,
      "metadata": {
        "jupyter": {
          "source_hidden": false,
          "outputs_hidden": false
        },
        "nteract": {
          "transient": {
            "deleting": false
          }
        },
        "gather": {
          "logged": 1688553053503
        },
        "id": "2G_P-57GkiEH"
      }
    },
    {
      "cell_type": "markdown",
      "source": [
        "<hr>"
      ],
      "metadata": {
        "nteract": {
          "transient": {
            "deleting": false
          }
        },
        "id": "mvkKe9M6kiEI"
      }
    },
    {
      "cell_type": "markdown",
      "source": [
        "## Data"
      ],
      "metadata": {
        "nteract": {
          "transient": {
            "deleting": false
          }
        },
        "id": "S8kyKbs7kiEI"
      }
    },
    {
      "cell_type": "code",
      "source": [
        "dfs = []\n",
        "\n",
        "for date in date_list:\n",
        "    df_date = pd.read_csv(f'./Senntiment_Social_Mood_Corpus_Tweets/corpus_tweets/{date}.csv', sep=';', encoding='ISO-8859-1')\n",
        "    dfs.append(df_date)"
      ],
      "outputs": [],
      "execution_count": 7,
      "metadata": {
        "jupyter": {
          "source_hidden": false,
          "outputs_hidden": true
        },
        "nteract": {
          "transient": {
            "deleting": false
          }
        },
        "gather": {
          "logged": 1688553129996
        },
        "id": "f8acrFzGkiEL"
      }
    },
    {
      "cell_type": "code",
      "source": [
        "raw_df = pd.concat(dfs, ignore_index=True)\n",
        "\n",
        "if small_df is True:\n",
        "    raw_df = raw_df.sample(small_size)"
      ],
      "outputs": [],
      "execution_count": 8,
      "metadata": {
        "jupyter": {
          "source_hidden": false,
          "outputs_hidden": false
        },
        "nteract": {
          "transient": {
            "deleting": false
          }
        },
        "gather": {
          "logged": 1688553138092
        },
        "id": "-laS97XMkiEM"
      }
    },
    {
      "cell_type": "code",
      "source": [
        "len(raw_df)"
      ],
      "metadata": {
        "colab": {
          "base_uri": "https://localhost:8080/"
        },
        "id": "Q50rrue0WaeC",
        "outputId": "add8d142-f15d-419f-cbe8-823152fb694c"
      },
      "execution_count": 9,
      "outputs": [
        {
          "output_type": "execute_result",
          "data": {
            "text/plain": [
              "11980348"
            ]
          },
          "metadata": {},
          "execution_count": 9
        }
      ]
    },
    {
      "cell_type": "code",
      "source": [
        "df = raw_df[['data_tweet', 'testo']]\n",
        "df['data_tweet'] = pd.to_datetime(df['data_tweet'], format = '%Y%m%d')"
      ],
      "outputs": [
        {
          "output_type": "stream",
          "name": "stderr",
          "text": [
            "<ipython-input-10-2b2346512ad4>:2: SettingWithCopyWarning: \n",
            "A value is trying to be set on a copy of a slice from a DataFrame.\n",
            "Try using .loc[row_indexer,col_indexer] = value instead\n",
            "\n",
            "See the caveats in the documentation: https://pandas.pydata.org/pandas-docs/stable/user_guide/indexing.html#returning-a-view-versus-a-copy\n",
            "  df['data_tweet'] = pd.to_datetime(df['data_tweet'], format = '%Y%m%d')\n"
          ]
        }
      ],
      "execution_count": 10,
      "metadata": {
        "jupyter": {
          "source_hidden": false,
          "outputs_hidden": true
        },
        "nteract": {
          "transient": {
            "deleting": false
          }
        },
        "gather": {
          "logged": 1688553140588
        },
        "colab": {
          "base_uri": "https://localhost:8080/"
        },
        "id": "0Nk56CX6kiEO",
        "outputId": "b7a1d021-cf16-4bb3-bbea-6a96c771e1ca"
      }
    },
    {
      "cell_type": "markdown",
      "source": [
        "remove tweets that are not type: `str`."
      ],
      "metadata": {
        "nteract": {
          "transient": {
            "deleting": false
          }
        },
        "id": "gptRSdLukiEO"
      }
    },
    {
      "cell_type": "code",
      "source": [
        "df = df.loc[df['testo'].apply(lambda x: isinstance(x, str))]"
      ],
      "outputs": [],
      "execution_count": 11,
      "metadata": {
        "jupyter": {
          "source_hidden": false,
          "outputs_hidden": false
        },
        "nteract": {
          "transient": {
            "deleting": false
          }
        },
        "gather": {
          "logged": 1688553148585
        },
        "id": "Wuhb33VKkiEP"
      }
    },
    {
      "cell_type": "markdown",
      "source": [
        "## Pre-processing"
      ],
      "metadata": {
        "nteract": {
          "transient": {
            "deleting": false
          }
        },
        "id": "pTRJRpVjkiEQ"
      }
    },
    {
      "cell_type": "code",
      "source": [
        "tweets = np.array(df['testo'])"
      ],
      "outputs": [],
      "execution_count": 12,
      "metadata": {
        "jupyter": {
          "source_hidden": false,
          "outputs_hidden": false
        },
        "nteract": {
          "transient": {
            "deleting": false
          }
        },
        "gather": {
          "logged": 1687770419126
        },
        "id": "G-2hpCbFkiER"
      }
    },
    {
      "cell_type": "markdown",
      "source": [
        "Transform words into tokens"
      ],
      "metadata": {
        "nteract": {
          "transient": {
            "deleting": false
          }
        },
        "id": "Odp0CrZRkiER"
      }
    },
    {
      "cell_type": "code",
      "source": [
        "tokenizer = Tokenizer(num_words = max_tokens)\n",
        "tokenizer.fit_on_texts(tweets)"
      ],
      "outputs": [],
      "execution_count": 15,
      "metadata": {
        "jupyter": {
          "source_hidden": false,
          "outputs_hidden": false
        },
        "nteract": {
          "transient": {
            "deleting": false
          }
        },
        "gather": {
          "logged": 1687770803955
        },
        "id": "PeuLDP9mkiES"
      }
    },
    {
      "cell_type": "markdown",
      "source": [
        "Transform word sequences into indexed token sequences"
      ],
      "metadata": {
        "nteract": {
          "transient": {
            "deleting": false
          }
        },
        "id": "b6xDyRdHkiES"
      }
    },
    {
      "cell_type": "code",
      "source": [
        "sequences = tokenizer.texts_to_sequences(tweets)"
      ],
      "outputs": [],
      "execution_count": 16,
      "metadata": {
        "jupyter": {
          "source_hidden": false,
          "outputs_hidden": false
        },
        "nteract": {
          "transient": {
            "deleting": false
          }
        },
        "gather": {
          "logged": 1687771099997
        },
        "id": "_r46Ss6akiET"
      }
    },
    {
      "cell_type": "markdown",
      "source": [
        "<hr>"
      ],
      "metadata": {
        "nteract": {
          "transient": {
            "deleting": false
          }
        },
        "id": "o3K9w19ckiET"
      }
    },
    {
      "cell_type": "markdown",
      "source": [
        "## Import Model"
      ],
      "metadata": {
        "nteract": {
          "transient": {
            "deleting": false
          }
        },
        "id": "GXOjBB9xkiEU"
      }
    },
    {
      "cell_type": "code",
      "source": [
        "#model = tf.keras.models.load_model(f'models/{k_model}')\n",
        "#model = models.load_weights(f'sentiment_bilstm_best.hdf5')\n",
        "json_file = open('./Sentiment_Social_Mood_Models/sentiment_bilstm_topology.json', 'r')\n",
        "loaded_model_json = json_file.read()\n",
        "json_file.close()\n",
        "model = model_from_json(loaded_model_json)\n",
        "model.load_weights(\"./Sentiment_Social_Mood_Models/sentiment_bilstm_best.hdf5\")"
      ],
      "outputs": [],
      "execution_count": 17,
      "metadata": {
        "jupyter": {
          "source_hidden": false,
          "outputs_hidden": true
        },
        "nteract": {
          "transient": {
            "deleting": false
          }
        },
        "gather": {
          "logged": 1687771123290
        },
        "id": "gcTeAd-5kiEU"
      }
    },
    {
      "cell_type": "code",
      "source": [
        "model.summary()"
      ],
      "metadata": {
        "colab": {
          "base_uri": "https://localhost:8080/"
        },
        "id": "F8kxKVH6YJBy",
        "outputId": "37f3f61f-14c8-4cc0-b560-d7c0e83cd4f6"
      },
      "execution_count": 18,
      "outputs": [
        {
          "output_type": "stream",
          "name": "stdout",
          "text": [
            "Model: \"model_1\"\n",
            "_________________________________________________________________\n",
            " Layer (type)                Output Shape              Param #   \n",
            "=================================================================\n",
            " input_2 (InputLayer)        [(None, None)]            0         \n",
            "                                                                 \n",
            " embedding_1 (Embedding)     (None, None, 300)         6248100   \n",
            "                                                                 \n",
            " bidirectional_2 (Bidirectio  (None, None, 256)        439296    \n",
            " nal)                                                            \n",
            "                                                                 \n",
            " bidirectional_3 (Bidirectio  (None, None, 64)         73984     \n",
            " nal)                                                            \n",
            "                                                                 \n",
            " global_max_pooling1d_1 (Glo  (None, 64)               0         \n",
            " balMaxPooling1D)                                                \n",
            "                                                                 \n",
            " dense_1 (Dense)             (None, 1)                 65        \n",
            "                                                                 \n",
            "=================================================================\n",
            "Total params: 6,761,445\n",
            "Trainable params: 6,761,445\n",
            "Non-trainable params: 0\n",
            "_________________________________________________________________\n"
          ]
        }
      ]
    },
    {
      "cell_type": "code",
      "source": [
        "test_tw = pad_sequences(tokenizer.texts_to_sequences(df['testo']), padding = \"pre\")"
      ],
      "outputs": [],
      "execution_count": null,
      "metadata": {
        "jupyter": {
          "source_hidden": false,
          "outputs_hidden": false
        },
        "nteract": {
          "transient": {
            "deleting": false
          }
        },
        "gather": {
          "logged": 1687448884502
        },
        "id": "77PSDJ7jkiEV"
      }
    },
    {
      "cell_type": "code",
      "source": [
        "len(test_tw)"
      ],
      "metadata": {
        "id": "GJYzxaRdYyXh"
      },
      "execution_count": null,
      "outputs": []
    },
    {
      "cell_type": "markdown",
      "source": [
        "## Predictions"
      ],
      "metadata": {
        "nteract": {
          "transient": {
            "deleting": false
          }
        },
        "id": "KWByGrq-kiEV"
      }
    },
    {
      "cell_type": "code",
      "source": [
        "start_time = timeit.default_timer()\n",
        "sentiment = model.predict(test_tw, batch_size = 2048, verbose = 1)\n",
        "print(\"Prediction Elapsed Time: \", timeit.default_timer() - start_time)"
      ],
      "outputs": [],
      "execution_count": null,
      "metadata": {
        "jupyter": {
          "source_hidden": false,
          "outputs_hidden": false
        },
        "nteract": {
          "transient": {
            "deleting": false
          }
        },
        "gather": {
          "logged": 1687788549040
        },
        "id": "p5vNj0WYkiEW"
      }
    },
    {
      "cell_type": "code",
      "source": [
        "predicted_sentiment = [int(i > 0.5) for i in sentiment]\n",
        "df['predicted_sentiment'] = predicted_sentiment"
      ],
      "outputs": [],
      "execution_count": null,
      "metadata": {
        "jupyter": {
          "source_hidden": false,
          "outputs_hidden": true
        },
        "nteract": {
          "transient": {
            "deleting": false
          }
        },
        "gather": {
          "logged": 1687457711523
        },
        "id": "at0yILOCkiEW"
      }
    },
    {
      "cell_type": "markdown",
      "source": [
        "## Build the index"
      ],
      "metadata": {
        "nteract": {
          "transient": {
            "deleting": false
          }
        },
        "id": "HAIQuFWokiEX"
      }
    },
    {
      "cell_type": "code",
      "source": [
        "df.set_index('data_tweet', inplace=True)"
      ],
      "outputs": [
        {
          "output_type": "error",
          "ename": "KeyError",
          "evalue": "ignored",
          "traceback": [
            "\u001b[0;31m---------------------------------------------------------------------------\u001b[0m",
            "\u001b[0;31mKeyError\u001b[0m                                  Traceback (most recent call last)",
            "\u001b[0;32m<ipython-input-48-231625737eba>\u001b[0m in \u001b[0;36m<cell line: 1>\u001b[0;34m()\u001b[0m\n\u001b[0;32m----> 1\u001b[0;31m \u001b[0mdf\u001b[0m\u001b[0;34m.\u001b[0m\u001b[0mset_index\u001b[0m\u001b[0;34m(\u001b[0m\u001b[0;34m'data_tweet'\u001b[0m\u001b[0;34m,\u001b[0m \u001b[0minplace\u001b[0m\u001b[0;34m=\u001b[0m\u001b[0;32mTrue\u001b[0m\u001b[0;34m)\u001b[0m\u001b[0;34m\u001b[0m\u001b[0;34m\u001b[0m\u001b[0m\n\u001b[0m",
            "\u001b[0;32m/usr/local/lib/python3.10/dist-packages/pandas/util/_decorators.py\u001b[0m in \u001b[0;36mwrapper\u001b[0;34m(*args, **kwargs)\u001b[0m\n\u001b[1;32m    329\u001b[0m                     \u001b[0mstacklevel\u001b[0m\u001b[0;34m=\u001b[0m\u001b[0mfind_stack_level\u001b[0m\u001b[0;34m(\u001b[0m\u001b[0;34m)\u001b[0m\u001b[0;34m,\u001b[0m\u001b[0;34m\u001b[0m\u001b[0;34m\u001b[0m\u001b[0m\n\u001b[1;32m    330\u001b[0m                 )\n\u001b[0;32m--> 331\u001b[0;31m             \u001b[0;32mreturn\u001b[0m \u001b[0mfunc\u001b[0m\u001b[0;34m(\u001b[0m\u001b[0;34m*\u001b[0m\u001b[0margs\u001b[0m\u001b[0;34m,\u001b[0m \u001b[0;34m**\u001b[0m\u001b[0mkwargs\u001b[0m\u001b[0;34m)\u001b[0m\u001b[0;34m\u001b[0m\u001b[0;34m\u001b[0m\u001b[0m\n\u001b[0m\u001b[1;32m    332\u001b[0m \u001b[0;34m\u001b[0m\u001b[0m\n\u001b[1;32m    333\u001b[0m         \u001b[0;31m# error: \"Callable[[VarArg(Any), KwArg(Any)], Any]\" has no\u001b[0m\u001b[0;34m\u001b[0m\u001b[0;34m\u001b[0m\u001b[0m\n",
            "\u001b[0;32m/usr/local/lib/python3.10/dist-packages/pandas/core/frame.py\u001b[0m in \u001b[0;36mset_index\u001b[0;34m(self, keys, drop, append, inplace, verify_integrity)\u001b[0m\n\u001b[1;32m   6010\u001b[0m \u001b[0;34m\u001b[0m\u001b[0m\n\u001b[1;32m   6011\u001b[0m         \u001b[0;32mif\u001b[0m \u001b[0mmissing\u001b[0m\u001b[0;34m:\u001b[0m\u001b[0;34m\u001b[0m\u001b[0;34m\u001b[0m\u001b[0m\n\u001b[0;32m-> 6012\u001b[0;31m             \u001b[0;32mraise\u001b[0m \u001b[0mKeyError\u001b[0m\u001b[0;34m(\u001b[0m\u001b[0;34mf\"None of {missing} are in the columns\"\u001b[0m\u001b[0;34m)\u001b[0m\u001b[0;34m\u001b[0m\u001b[0;34m\u001b[0m\u001b[0m\n\u001b[0m\u001b[1;32m   6013\u001b[0m \u001b[0;34m\u001b[0m\u001b[0m\n\u001b[1;32m   6014\u001b[0m         \u001b[0;32mif\u001b[0m \u001b[0minplace\u001b[0m\u001b[0;34m:\u001b[0m\u001b[0;34m\u001b[0m\u001b[0;34m\u001b[0m\u001b[0m\n",
            "\u001b[0;31mKeyError\u001b[0m: \"None of ['data_tweet'] are in the columns\""
          ]
        }
      ],
      "execution_count": null,
      "metadata": {
        "jupyter": {
          "source_hidden": false,
          "outputs_hidden": false
        },
        "nteract": {
          "transient": {
            "deleting": false
          }
        },
        "id": "lNVgUe7IkiEX",
        "colab": {
          "base_uri": "https://localhost:8080/",
          "height": 318
        },
        "outputId": "a3ba75a6-dbad-4e42-f728-6b2f0afe8ba0"
      }
    },
    {
      "cell_type": "code",
      "source": [
        "count_by_day = df.groupby([df.index.date, 'predicted_sentiment']).size()\n",
        "count_by_day = count_by_day.reset_index()\n",
        "count_by_day.rename(columns={0: 'count', 'level_0': 'date'}, inplace=True)\n",
        "pivoted_counts = count_by_day.pivot(index='date', columns='predicted_sentiment', values='count')"
      ],
      "outputs": [],
      "execution_count": null,
      "metadata": {
        "jupyter": {
          "source_hidden": false,
          "outputs_hidden": false
        },
        "nteract": {
          "transient": {
            "deleting": false
          }
        },
        "gather": {
          "logged": 1687446844215
        },
        "id": "qPPQFPFJkiEX"
      }
    },
    {
      "cell_type": "code",
      "source": [
        "index = (pivoted_counts[1] - pivoted_counts[0]) / (pivoted_counts[1] + pivoted_counts[0])"
      ],
      "outputs": [],
      "execution_count": null,
      "metadata": {
        "jupyter": {
          "source_hidden": false,
          "outputs_hidden": false
        },
        "nteract": {
          "transient": {
            "deleting": false
          }
        },
        "gather": {
          "logged": 1687446860529
        },
        "id": "sEA0b6N8kiEY"
      }
    },
    {
      "cell_type": "markdown",
      "source": [
        "Export results to csv."
      ],
      "metadata": {
        "nteract": {
          "transient": {
            "deleting": false
          }
        },
        "id": "Sh5xhOQekiEY"
      }
    },
    {
      "cell_type": "code",
      "source": [
        "index.to_csv(f'predicted_{k_model}.csv', sep = ';', index=True)"
      ],
      "outputs": [],
      "execution_count": null,
      "metadata": {
        "jupyter": {
          "source_hidden": false,
          "outputs_hidden": false
        },
        "nteract": {
          "transient": {
            "deleting": false
          }
        },
        "gather": {
          "logged": 1687457521297
        },
        "id": "3xOPApp3kiEY"
      }
    },
    {
      "cell_type": "markdown",
      "source": [
        "## Plots"
      ],
      "metadata": {
        "nteract": {
          "transient": {
            "deleting": false
          }
        },
        "id": "d2rDL2uqkiEZ"
      }
    },
    {
      "cell_type": "code",
      "source": [
        "fig, ax = plt.subplots(figsize=(10,6))\n",
        "\n",
        "ax.plot(pivoted_counts.index, index)\n",
        "ax.set_xlabel('Time')\n",
        "ax.set_ylabel('Index')\n",
        "ax.set_title('Sentiment Index')\n",
        "plt.xticks(rotation=45)\n",
        "\n",
        "plt.show()"
      ],
      "outputs": [
        {
          "output_type": "display_data",
          "data": {
            "text/plain": [
              "<Figure size 1000x600 with 1 Axes>"
            ],
            "image/png": "[encoded data removed]"
          },
          "metadata": {}
        }
      ],
      "execution_count": null,
      "metadata": {
        "jupyter": {
          "source_hidden": false,
          "outputs_hidden": false
        },
        "nteract": {
          "transient": {
            "deleting": false
          }
        },
        "gather": {
          "logged": 1687792869070
        },
        "id": "aXf57yIhkiEZ",
        "outputId": "179b805a-fde8-4ba5-dba4-39fc3d73a322",
        "colab": {
          "base_uri": "https://localhost:8080/",
          "height": 601
        }
      }
    },
    {
      "cell_type": "markdown",
      "source": [
        "## predictions_2020"
      ],
      "metadata": {
        "nteract": {
          "transient": {
            "deleting": false
          }
        },
        "id": "od9emoPfkiEa"
      }
    },
    {
      "cell_type": "code",
      "source": [
        "with open('predictions_2020.txt', 'r') as file:\n",
        "    predictions_2020 = file.read()\n",
        "\n",
        "predictions_2020 = predictions_2020.replace(' ', '').split(',')"
      ],
      "outputs": [],
      "execution_count": null,
      "metadata": {
        "jupyter": {
          "source_hidden": false,
          "outputs_hidden": false
        },
        "nteract": {
          "transient": {
            "deleting": false
          }
        },
        "gather": {
          "logged": 1688553166748
        },
        "id": "pfi7q_vukiEa"
      }
    },
    {
      "cell_type": "code",
      "source": [
        "df['predicted_sentiment'] = predictions_2020[:-1]\n",
        "df['predicted_sentiment'] = df['predicted_sentiment'].astype(int)"
      ],
      "outputs": [],
      "execution_count": null,
      "metadata": {
        "jupyter": {
          "source_hidden": false,
          "outputs_hidden": false
        },
        "nteract": {
          "transient": {
            "deleting": false
          }
        },
        "gather": {
          "logged": 1688553169730
        },
        "id": "cQyr-85ikiEb"
      }
    },
    {
      "cell_type": "code",
      "source": [
        "df.set_index('data_tweet', inplace=True)"
      ],
      "outputs": [],
      "execution_count": null,
      "metadata": {
        "jupyter": {
          "source_hidden": false,
          "outputs_hidden": false
        },
        "nteract": {
          "transient": {
            "deleting": false
          }
        },
        "gather": {
          "logged": 1688553170951
        },
        "id": "6oTfNKyHkiEc"
      }
    },
    {
      "cell_type": "code",
      "source": [
        "count_by_day = df.groupby([df.index.date, 'predicted_sentiment']).size()\n",
        "count_by_day = count_by_day.reset_index()\n",
        "count_by_day.rename(columns={0: 'count', 'level_0': 'date'}, inplace=True)\n",
        "pivoted_counts = count_by_day.pivot(index='date', columns='predicted_sentiment', values='count')"
      ],
      "outputs": [],
      "execution_count": null,
      "metadata": {
        "jupyter": {
          "source_hidden": false,
          "outputs_hidden": false
        },
        "nteract": {
          "transient": {
            "deleting": false
          }
        },
        "gather": {
          "logged": 1688553176591
        },
        "id": "k7ttellEkiEc"
      }
    },
    {
      "cell_type": "code",
      "source": [
        "index = (pivoted_counts[1] - pivoted_counts[0]) / (pivoted_counts[1] + pivoted_counts[0])"
      ],
      "outputs": [],
      "execution_count": null,
      "metadata": {
        "jupyter": {
          "source_hidden": false,
          "outputs_hidden": false
        },
        "nteract": {
          "transient": {
            "deleting": false
          }
        },
        "gather": {
          "logged": 1688553178379
        },
        "id": "azFWYmShkiEd"
      }
    },
    {
      "cell_type": "code",
      "source": [
        "fig, ax = plt.subplots(figsize=(10,6))\n",
        "\n",
        "ax.plot(pivoted_counts.index, index)\n",
        "ax.set_xlabel('Time')\n",
        "ax.set_ylabel('Index')\n",
        "ax.set_title('Sentiment Index')\n",
        "plt.xticks(rotation=45)\n",
        "\n",
        "plt.show()"
      ],
      "outputs": [
        {
          "output_type": "display_data",
          "data": {
            "text/plain": "<Figure size 1000x600 with 1 Axes>",
            "image/png": "[encoded data removed]"
          },
          "metadata": {}
        }
      ],
      "execution_count": null,
      "metadata": {
        "jupyter": {
          "source_hidden": false,
          "outputs_hidden": false
        },
        "nteract": {
          "transient": {
            "deleting": false
          }
        },
        "gather": {
          "logged": 1688553180999
        },
        "id": "tK5kZC5lkiEd",
        "outputId": "f02b9b8b-3e78-4d2f-fc79-0349101157a1"
      }
    },
    {
      "cell_type": "code",
      "source": [
        "index.to_csv(f'predicted_2020.csv', sep = ';', index=True)"
      ],
      "outputs": [],
      "execution_count": null,
      "metadata": {
        "jupyter": {
          "source_hidden": false,
          "outputs_hidden": false
        },
        "nteract": {
          "transient": {
            "deleting": false
          }
        },
        "gather": {
          "logged": 1688553238330
        },
        "id": "tevq4R4ekiEe"
      }
    }
  ],
  "metadata": {
    "kernelspec": {
      "name": "python310-sdkv2",
      "language": "python",
      "display_name": "Python 3.10 - SDK v2"
    },
    "language_info": {
      "name": "python",
      "version": "3.10.11",
      "mimetype": "text/x-python",
      "codemirror_mode": {
        "name": "ipython",
        "version": 3
      },
      "pygments_lexer": "ipython3",
      "nbconvert_exporter": "python",
      "file_extension": ".py"
    },
    "microsoft": {
      "ms_spell_check": {
        "ms_spell_check_language": "en"
      },
      "host": {
        "AzureML": {
          "notebookHasBeenCompleted": true
        }
      }
    },
    "kernel_info": {
      "name": "python310-sdkv2"
    },
    "nteract": {
      "version": "nteract-front-end@1.0.0"
    },
    "colab": {
      "provenance": [],
      "gpuType": "T4"
    },
    "accelerator": "GPU"
  },
  "nbformat": 4,
  "nbformat_minor": 0
}