{
  "cells": [
    {
      "cell_type": "markdown",
      "source": [
        "# **Data Preparation**"
      ],
      "metadata": {
        "nteract": {
          "transient": {
            "deleting": false
          }
        },
        "id": "uYxw10gqFKER"
      }
    },
    {
      "cell_type": "code",
      "source": [
        "import numpy as np\n",
        "import pandas as pd\n",
        "import platform\n",
        "import os\n",
        "import sys\n",
        "import re\n",
        "import time\n",
        "import timeit\n",
        "from datetime import datetime, timedelta, date\n",
        "import glob\n",
        "import configparser\n",
        "import matplotlib.pyplot as plt\n",
        "from tensorflow.keras.preprocessing.text import Tokenizer\n",
        "from tensorflow.keras.preprocessing.sequence import pad_sequences\n",
        "from sklearn.manifold import TSNE\n",
        "from collections import Counter\n",
        "import plotly.graph_objects as go\n",
        "#import fasttext\n",
        "from gensim.models.word2vec import Word2Vec\n",
        "from gensim.models.fasttext import FastText"
      ],
      "outputs": [],
      "execution_count": null,
      "metadata": {
        "gather": {
          "logged": 1688988596111
        },
        "jupyter": {
          "outputs_hidden": false
        },
        "id": "26idpLMqFKEY"
      }
    },
    {
      "cell_type": "code",
      "source": [
        "limit_corpus = 10000\n",
        "seed = 42"
      ],
      "outputs": [],
      "execution_count": null,
      "metadata": {
        "jupyter": {
          "source_hidden": false,
          "outputs_hidden": false
        },
        "nteract": {
          "transient": {
            "deleting": false
          }
        },
        "gather": {
          "logged": 1688988599701
        },
        "id": "YUnOlbFKFKEa"
      }
    },
    {
      "cell_type": "code",
      "source": [
        "config = configparser.RawConfigParser()\n",
        "config.read('config.ini')\n",
        "\n",
        "#uri = config.get('MS AZURE', 'URI')"
      ],
      "outputs": [
        {
          "output_type": "execute_result",
          "data": {
            "text/plain": [
              "[]"
            ]
          },
          "metadata": {},
          "execution_count": 3
        }
      ],
      "execution_count": null,
      "metadata": {
        "jupyter": {
          "source_hidden": false,
          "outputs_hidden": false
        },
        "nteract": {
          "transient": {
            "deleting": false
          }
        },
        "gather": {
          "logged": 1688988601669
        },
        "colab": {
          "base_uri": "https://localhost:8080/"
        },
        "id": "iJnji0rnFKEb",
        "outputId": "501c8c4e-6d73-4b6a-fbd0-900f48522f1d"
      }
    },
    {
      "cell_type": "markdown",
      "source": [
        "<hr>"
      ],
      "metadata": {
        "nteract": {
          "transient": {
            "deleting": false
          }
        },
        "id": "qew-UV-mFKEc"
      }
    },
    {
      "cell_type": "code",
      "source": [
        "import warnings\n",
        "warnings.filterwarnings('ignore')"
      ],
      "metadata": {
        "id": "7405VAp9FtTG"
      },
      "execution_count": null,
      "outputs": []
    },
    {
      "cell_type": "code",
      "source": [
        "colab_active = 'google.colab' in sys.modules\n",
        "print(\"Colab Active: \", colab_active)"
      ],
      "metadata": {
        "colab": {
          "base_uri": "https://localhost:8080/"
        },
        "id": "bN_s8pEYe4KM",
        "outputId": "9f8b3579-76d9-4a59-bd66-fd329484644a"
      },
      "execution_count": null,
      "outputs": [
        {
          "output_type": "stream",
          "name": "stdout",
          "text": [
            "Colab Active:  True\n"
          ]
        }
      ]
    },
    {
      "cell_type": "markdown",
      "source": [
        "#**Downloads**"
      ],
      "metadata": {
        "id": "D88LTU0dF7Mt"
      }
    },
    {
      "cell_type": "code",
      "source": [
        "if colab_active is True:\n",
        "  OS = platform.system()      # Operating System\n",
        "\n",
        "  def data_download(file_to_download, gdrive_code, OS, uncompress = True):\n",
        "    if not os.path.exists(file_to_download):\n",
        "      os.system('gdown --id \"'+gdrive_code+'\" --output '+file_to_download)\n",
        "      if OS == \"Linux\" and uncompress:\n",
        "          os.system('unzip -o -n \"./'+file_to_download+'\" -d '+os.path.dirname(file_to_download))\n",
        "      return True\n",
        "    else:\n",
        "      return None"
      ],
      "metadata": {
        "id": "AiO0GMfDF-PB"
      },
      "execution_count": null,
      "outputs": []
    },
    {
      "cell_type": "code",
      "source": [
        "if colab_active is True:\n",
        "  out = data_download(\"./Senntiment_Social_Mood_Corpus_Tweets.zip\", \"11lopgQpkQ-UjwP62icelthzISG_fn2_5\", OS)"
      ],
      "metadata": {
        "id": "-1LuDcSUGBWy"
      },
      "execution_count": null,
      "outputs": []
    },
    {
      "cell_type": "markdown",
      "source": [
        "## **Training Set**\n",
        "Build the model training set starting from the sentipolc and happy parents datasets."
      ],
      "metadata": {
        "nteract": {
          "transient": {
            "deleting": false
          }
        },
        "id": "XGAYP3a1FKEd"
      }
    },
    {
      "cell_type": "markdown",
      "source": [
        "### Sentipolc"
      ],
      "metadata": {
        "nteract": {
          "transient": {
            "deleting": false
          }
        },
        "id": "piamszVIFKEe"
      }
    },
    {
      "cell_type": "code",
      "source": [
        "train_sentipolc = pd.read_csv(f\"./Senntiment_Social_Mood_Corpus_Tweets/training_set_sentipolc16.csv\")\n",
        "colnames_sentipolc = list(train_sentipolc.columns)"
      ],
      "outputs": [],
      "execution_count": null,
      "metadata": {
        "jupyter": {
          "source_hidden": false,
          "outputs_hidden": false
        },
        "nteract": {
          "transient": {
            "deleting": false
          }
        },
        "gather": {
          "logged": 1688988607195
        },
        "id": "ePam0De7FKEe"
      }
    },
    {
      "cell_type": "code",
      "source": [
        "test_sentipolc = pd.read_csv((f\"./Senntiment_Social_Mood_Corpus_Tweets/test_set_sentipolc16_gold2000.csv\"), on_bad_lines='skip', names = colnames_sentipolc)"
      ],
      "outputs": [],
      "execution_count": null,
      "metadata": {
        "jupyter": {
          "source_hidden": false,
          "outputs_hidden": false
        },
        "nteract": {
          "transient": {
            "deleting": false
          }
        },
        "gather": {
          "logged": 1688988611627
        },
        "id": "VxkaSZp0FKEg"
      }
    },
    {
      "cell_type": "code",
      "source": [
        "sentipolc = pd.concat([train_sentipolc, test_sentipolc])"
      ],
      "outputs": [],
      "execution_count": null,
      "metadata": {
        "jupyter": {
          "source_hidden": false,
          "outputs_hidden": false
        },
        "nteract": {
          "transient": {
            "deleting": false
          }
        },
        "gather": {
          "logged": 1688988613950
        },
        "id": "-GtuGD82FKEh"
      }
    },
    {
      "cell_type": "code",
      "source": [
        "sentipolc['pol'] = 0\n",
        "\n",
        "sentipolc.loc[(sentipolc['opos'] == 1) & (sentipolc['oneg'] == 0), 'pol'] = int(1)\n",
        "sentipolc.loc[(sentipolc['opos'] == 0) & (sentipolc['oneg'] == 1), 'pol'] = int(2)\n",
        "sentipolc.loc[(sentipolc['opos'] == 0) & (sentipolc['oneg'] == 0), 'pol'] = int(0)\n",
        "sentipolc.loc[(sentipolc['opos'] == 1) & (sentipolc['oneg'] == 1), 'pol'] = int(3)"
      ],
      "outputs": [],
      "execution_count": null,
      "metadata": {
        "jupyter": {
          "source_hidden": false,
          "outputs_hidden": false
        },
        "nteract": {
          "transient": {
            "deleting": false
          }
        },
        "gather": {
          "logged": 1688988615635
        },
        "id": "qT42M4FCFKEj"
      }
    },
    {
      "cell_type": "code",
      "source": [
        "sentipolc = sentipolc[-((sentipolc.opos==1) & (sentipolc.oneg==1))]\n",
        "sentipolc = sentipolc.drop(['idtwitter','subj','iro','lpos','lneg','top','opos','oneg'], axis = 1)\n",
        "\n",
        "class_counts_sp = sentipolc['pol'].value_counts()"
      ],
      "outputs": [],
      "execution_count": null,
      "metadata": {
        "jupyter": {
          "source_hidden": false,
          "outputs_hidden": false
        },
        "nteract": {
          "transient": {
            "deleting": false
          }
        },
        "gather": {
          "logged": 1688988617525
        },
        "id": "WHPLgYAaFKEk"
      }
    },
    {
      "cell_type": "code",
      "source": [
        "print(f'SENTIPOLC DF: \\n - Positive: {class_counts_sp[1]} \\n - Negative: {class_counts_sp[2]} \\n - Neutral:  {class_counts_sp[0]}')"
      ],
      "outputs": [
        {
          "output_type": "stream",
          "name": "stdout",
          "text": [
            "SENTIPOLC DF: \n",
            " - Positive: 1919 \n",
            " - Negative: 3253 \n",
            " - Neutral:  3705\n"
          ]
        }
      ],
      "execution_count": null,
      "metadata": {
        "jupyter": {
          "source_hidden": false,
          "outputs_hidden": false
        },
        "nteract": {
          "transient": {
            "deleting": false
          }
        },
        "gather": {
          "logged": 1688988619271
        },
        "colab": {
          "base_uri": "https://localhost:8080/"
        },
        "id": "tIQqi7z2FKEl",
        "outputId": "005f2f18-0548-46d6-f795-d0d95c4a4982"
      }
    },
    {
      "cell_type": "markdown",
      "source": [
        "### Happy Parents"
      ],
      "metadata": {
        "nteract": {
          "transient": {
            "deleting": false
          }
        },
        "id": "DEjnMguoFKEm"
      }
    },
    {
      "cell_type": "code",
      "source": [
        "happy_parents = pd.read_csv(f\"./Senntiment_Social_Mood_Corpus_Tweets/gold_HappyParents.csv\")"
      ],
      "outputs": [],
      "execution_count": null,
      "metadata": {
        "jupyter": {
          "source_hidden": false,
          "outputs_hidden": false
        },
        "nteract": {
          "transient": {
            "deleting": false
          }
        },
        "gather": {
          "logged": 1688988621670
        },
        "id": "JU9MjbF9FKEn"
      }
    },
    {
      "cell_type": "code",
      "source": [
        "happy_parents.loc[happy_parents['polarity'] == 'POS', 'pol'] = int(1)\n",
        "happy_parents.loc[happy_parents['polarity'] == 'HUMPOS', 'pol'] = int(1)\n",
        "happy_parents.loc[happy_parents['polarity'] == 'NEG', 'pol'] = int(2)\n",
        "happy_parents.loc[happy_parents['polarity'] == 'HUMNEG', 'pol'] = int(2)\n",
        "happy_parents.loc[happy_parents['polarity'] == 'MIXED', 'pol'] = int(0)"
      ],
      "outputs": [],
      "execution_count": null,
      "metadata": {
        "jupyter": {
          "source_hidden": false,
          "outputs_hidden": false
        },
        "nteract": {
          "transient": {
            "deleting": false
          }
        },
        "gather": {
          "logged": 1688988622577
        },
        "id": "DoU0u16JFKEn"
      }
    },
    {
      "cell_type": "code",
      "source": [
        "happy_parents.drop(happy_parents[happy_parents['polarity'] == 'NONE'].index, inplace = True)\n",
        "\n",
        "class_counts_hp = happy_parents['pol'].value_counts()"
      ],
      "outputs": [],
      "execution_count": null,
      "metadata": {
        "jupyter": {
          "source_hidden": false,
          "outputs_hidden": false
        },
        "nteract": {
          "transient": {
            "deleting": false
          }
        },
        "gather": {
          "logged": 1688988624672
        },
        "id": "nODewa_kFKEn"
      }
    },
    {
      "cell_type": "code",
      "source": [
        "print(f'HAPPY PARENTS DF: \\n - Positive: {class_counts_hp[1]} \\n - Negative: {class_counts_hp[2]} \\n - Neutral:  {class_counts_hp[0]}')"
      ],
      "outputs": [
        {
          "output_type": "stream",
          "name": "stdout",
          "text": [
            "HAPPY PARENTS DF: \n",
            " - Positive: 642 \n",
            " - Negative: 672 \n",
            " - Neutral:  28\n"
          ]
        }
      ],
      "execution_count": null,
      "metadata": {
        "jupyter": {
          "source_hidden": false,
          "outputs_hidden": false
        },
        "nteract": {
          "transient": {
            "deleting": false
          }
        },
        "gather": {
          "logged": 1688988627043
        },
        "colab": {
          "base_uri": "https://localhost:8080/"
        },
        "id": "5PkfioGGFKEo",
        "outputId": "38d658c0-c40a-4650-f482-9a7eaa820d99"
      }
    },
    {
      "cell_type": "markdown",
      "source": [
        "### FeelIt"
      ],
      "metadata": {
        "nteract": {
          "transient": {
            "deleting": false
          }
        },
        "id": "sSYhegLtFKEo"
      }
    },
    {
      "cell_type": "code",
      "source": [
        "feelit = pd.read_csv(f\"./Senntiment_Social_Mood_Corpus_Tweets/feelit.csv\")"
      ],
      "outputs": [],
      "execution_count": null,
      "metadata": {
        "jupyter": {
          "source_hidden": false,
          "outputs_hidden": false
        },
        "nteract": {
          "transient": {
            "deleting": false
          }
        },
        "gather": {
          "logged": 1688988629402
        },
        "id": "wUJ95GVZFKEp"
      }
    },
    {
      "cell_type": "code",
      "source": [
        "sentipolc"
      ],
      "outputs": [
        {
          "output_type": "execute_result",
          "data": {
            "text/plain": [
              "                                                   text  pol\n",
              "0     Intanto la partita per Via Nazionale si compli...    2\n",
              "1     False illusioni, sgradevoli realtà Mario Monti...    2\n",
              "2     False illusioni, sgradevoli realtà #editoriale...    2\n",
              "3     Mario Monti: Berlusconi risparmi all'Italia il...    2\n",
              "4     Mario Monti: Berlusconi risparmi all'Italia il...    2\n",
              "...                                                 ...  ...\n",
              "1937  @serracchiani @pdnetwork solo che poi arriva @...    2\n",
              "1938  Anche prodotti alimentari tipici pugliesi in v...    0\n",
              "1939         intensità di vita  https://t.co/jv4aARxzhz    0\n",
              "1941  @GliIntoccabili @nonleggerlo Ma Ferrero? il co...    2\n",
              "1942  Non vedi l'ora che venga qui, almeno lo sentir...    1\n",
              "\n",
              "[8877 rows x 2 columns]"
            ],
            "text/html": [
              "\n",
              "  <div id=\"df-8364bb2d-36a6-4f1d-8300-f340c1255692\">\n",
              "    <div class=\"colab-df-container\">\n",
              "      <div>\n",
              "<style scoped>\n",
              "    .dataframe tbody tr th:only-of-type {\n",
              "        vertical-align: middle;\n",
              "    }\n",
              "\n",
              "    .dataframe tbody tr th {\n",
              "        vertical-align: top;\n",
              "    }\n",
              "\n",
              "    .dataframe thead th {\n",
              "        text-align: right;\n",
              "    }\n",
              "</style>\n",
              "<table border=\"1\" class=\"dataframe\">\n",
              "  <thead>\n",
              "    <tr style=\"text-align: right;\">\n",
              "      <th></th>\n",
              "      <th>text</th>\n",
              "      <th>pol</th>\n",
              "    </tr>\n",
              "  </thead>\n",
              "  <tbody>\n",
              "    <tr>\n",
              "      <th>0</th>\n",
              "      <td>Intanto la partita per Via Nazionale si compli...</td>\n",
              "      <td>2</td>\n",
              "    </tr>\n",
              "    <tr>\n",
              "      <th>1</th>\n",
              "      <td>False illusioni, sgradevoli realtà Mario Monti...</td>\n",
              "      <td>2</td>\n",
              "    </tr>\n",
              "    <tr>\n",
              "      <th>2</th>\n",
              "      <td>False illusioni, sgradevoli realtà #editoriale...</td>\n",
              "      <td>2</td>\n",
              "    </tr>\n",
              "    <tr>\n",
              "      <th>3</th>\n",
              "      <td>Mario Monti: Berlusconi risparmi all'Italia il...</td>\n",
              "      <td>2</td>\n",
              "    </tr>\n",
              "    <tr>\n",
              "      <th>4</th>\n",
              "      <td>Mario Monti: Berlusconi risparmi all'Italia il...</td>\n",
              "      <td>2</td>\n",
              "    </tr>\n",
              "    <tr>\n",
              "      <th>...</th>\n",
              "      <td>...</td>\n",
              "      <td>...</td>\n",
              "    </tr>\n",
              "    <tr>\n",
              "      <th>1937</th>\n",
              "      <td>@serracchiani @pdnetwork solo che poi arriva @...</td>\n",
              "      <td>2</td>\n",
              "    </tr>\n",
              "    <tr>\n",
              "      <th>1938</th>\n",
              "      <td>Anche prodotti alimentari tipici pugliesi in v...</td>\n",
              "      <td>0</td>\n",
              "    </tr>\n",
              "    <tr>\n",
              "      <th>1939</th>\n",
              "      <td>intensità di vita  https://t.co/jv4aARxzhz</td>\n",
              "      <td>0</td>\n",
              "    </tr>\n",
              "    <tr>\n",
              "      <th>1941</th>\n",
              "      <td>@GliIntoccabili @nonleggerlo Ma Ferrero? il co...</td>\n",
              "      <td>2</td>\n",
              "    </tr>\n",
              "    <tr>\n",
              "      <th>1942</th>\n",
              "      <td>Non vedi l'ora che venga qui, almeno lo sentir...</td>\n",
              "      <td>1</td>\n",
              "    </tr>\n",
              "  </tbody>\n",
              "</table>\n",
              "<p>8877 rows × 2 columns</p>\n",
              "</div>\n",
              "      <button class=\"colab-df-convert\" onclick=\"convertToInteractive('df-8364bb2d-36a6-4f1d-8300-f340c1255692')\"\n",
              "              title=\"Convert this dataframe to an interactive table.\"\n",
              "              style=\"display:none;\">\n",
              "        \n",
              "  <svg xmlns=\"http://www.w3.org/2000/svg\" height=\"24px\"viewBox=\"0 0 24 24\"\n",
              "       width=\"24px\">\n",
              "    <path d=\"M0 0h24v24H0V0z\" fill=\"none\"/>\n",
              "    <path d=\"M18.56 5.44l.94 2.06.94-2.06 2.06-.94-2.06-.94-.94-2.06-.94 2.06-2.06.94zm-11 1L8.5 8.5l.94-2.06 2.06-.94-2.06-.94L8.5 2.5l-.94 2.06-2.06.94zm10 10l.94 2.06.94-2.06 2.06-.94-2.06-.94-.94-2.06-.94 2.06-2.06.94z\"/><path d=\"M17.41 7.96l-1.37-1.37c-.4-.4-.92-.59-1.43-.59-.52 0-1.04.2-1.43.59L10.3 9.45l-7.72 7.72c-.78.78-.78 2.05 0 2.83L4 21.41c.39.39.9.59 1.41.59.51 0 1.02-.2 1.41-.59l7.78-7.78 2.81-2.81c.8-.78.8-2.07 0-2.86zM5.41 20L4 18.59l7.72-7.72 1.47 1.35L5.41 20z\"/>\n",
              "  </svg>\n",
              "      </button>\n",
              "      \n",
              "  <style>\n",
              "    .colab-df-container {\n",
              "      display:flex;\n",
              "      flex-wrap:wrap;\n",
              "      gap: 12px;\n",
              "    }\n",
              "\n",
              "    .colab-df-convert {\n",
              "      background-color: #E8F0FE;\n",
              "      border: none;\n",
              "      border-radius: 50%;\n",
              "      cursor: pointer;\n",
              "      display: none;\n",
              "      fill: #1967D2;\n",
              "      height: 32px;\n",
              "      padding: 0 0 0 0;\n",
              "      width: 32px;\n",
              "    }\n",
              "\n",
              "    .colab-df-convert:hover {\n",
              "      background-color: #E2EBFA;\n",
              "      box-shadow: 0px 1px 2px rgba(60, 64, 67, 0.3), 0px 1px 3px 1px rgba(60, 64, 67, 0.15);\n",
              "      fill: #174EA6;\n",
              "    }\n",
              "\n",
              "    [theme=dark] .colab-df-convert {\n",
              "      background-color: #3B4455;\n",
              "      fill: #D2E3FC;\n",
              "    }\n",
              "\n",
              "    [theme=dark] .colab-df-convert:hover {\n",
              "      background-color: #434B5C;\n",
              "      box-shadow: 0px 1px 3px 1px rgba(0, 0, 0, 0.15);\n",
              "      filter: drop-shadow(0px 1px 2px rgba(0, 0, 0, 0.3));\n",
              "      fill: #FFFFFF;\n",
              "    }\n",
              "  </style>\n",
              "\n",
              "      <script>\n",
              "        const buttonEl =\n",
              "          document.querySelector('#df-8364bb2d-36a6-4f1d-8300-f340c1255692 button.colab-df-convert');\n",
              "        buttonEl.style.display =\n",
              "          google.colab.kernel.accessAllowed ? 'block' : 'none';\n",
              "\n",
              "        async function convertToInteractive(key) {\n",
              "          const element = document.querySelector('#df-8364bb2d-36a6-4f1d-8300-f340c1255692');\n",
              "          const dataTable =\n",
              "            await google.colab.kernel.invokeFunction('convertToInteractive',\n",
              "                                                     [key], {});\n",
              "          if (!dataTable) return;\n",
              "\n",
              "          const docLinkHtml = 'Like what you see? Visit the ' +\n",
              "            '<a target=\"_blank\" href=https://colab.research.google.com/notebooks/data_table.ipynb>data table notebook</a>'\n",
              "            + ' to learn more about interactive tables.';\n",
              "          element.innerHTML = '';\n",
              "          dataTable['output_type'] = 'display_data';\n",
              "          await google.colab.output.renderOutput(dataTable, element);\n",
              "          const docLink = document.createElement('div');\n",
              "          docLink.innerHTML = docLinkHtml;\n",
              "          element.appendChild(docLink);\n",
              "        }\n",
              "      </script>\n",
              "    </div>\n",
              "  </div>\n",
              "  "
            ]
          },
          "metadata": {},
          "execution_count": 62
        }
      ],
      "execution_count": null,
      "metadata": {
        "jupyter": {
          "source_hidden": false,
          "outputs_hidden": false
        },
        "nteract": {
          "transient": {
            "deleting": false
          }
        },
        "gather": {
          "logged": 1688988631324
        },
        "colab": {
          "base_uri": "https://localhost:8080/",
          "height": 424
        },
        "id": "7Ixt8L9mFKEp",
        "outputId": "c15d0ef4-4a41-452e-8bf0-6bfefb7de5d4"
      }
    },
    {
      "cell_type": "code",
      "source": [
        "feelit['pol'] = feelit['label'].replace(-1, 2)\n",
        "feelit['text'] = feelit['textClean']\n",
        "\n",
        "feelit.drop(columns = ['Unnamed: 0', 'label', 'textClean', 'Words'], inplace = True)"
      ],
      "outputs": [],
      "execution_count": null,
      "metadata": {
        "jupyter": {
          "source_hidden": false,
          "outputs_hidden": false
        },
        "nteract": {
          "transient": {
            "deleting": false
          }
        },
        "gather": {
          "logged": 1688988633849
        },
        "id": "foWAtnipFKEq"
      }
    },
    {
      "cell_type": "markdown",
      "source": [
        "### Full Training Set"
      ],
      "metadata": {
        "nteract": {
          "transient": {
            "deleting": false
          }
        },
        "id": "-n8TimTKFKEq"
      }
    },
    {
      "cell_type": "code",
      "source": [
        "training_df = pd.concat([sentipolc, happy_parents, feelit], ignore_index = True)\n",
        "training_df.drop(columns = ['polarity', 'sub_topic'], inplace = True)\n",
        "training_df['pol'] = training_df['pol'].astype('int')\n",
        "\n",
        "class_counts = training_df['pol'].value_counts()"
      ],
      "outputs": [],
      "execution_count": null,
      "metadata": {
        "jupyter": {
          "source_hidden": false,
          "outputs_hidden": false
        },
        "nteract": {
          "transient": {
            "deleting": false
          }
        },
        "gather": {
          "logged": 1688988636439
        },
        "id": "39FTrFYPFKEq"
      }
    },
    {
      "cell_type": "code",
      "source": [
        "print(f'FULL TRAINING DF: \\n - Positive: {class_counts[1]} \\n - Negative: {class_counts[2]} \\n - Neutral:  {class_counts[0]}')"
      ],
      "outputs": [
        {
          "output_type": "stream",
          "name": "stdout",
          "text": [
            "FULL TRAINING DF: \n",
            " - Positive: 3289 \n",
            " - Negative: 5234 \n",
            " - Neutral:  3733\n"
          ]
        }
      ],
      "execution_count": null,
      "metadata": {
        "jupyter": {
          "source_hidden": false,
          "outputs_hidden": false
        },
        "nteract": {
          "transient": {
            "deleting": false
          }
        },
        "gather": {
          "logged": 1688988638269
        },
        "colab": {
          "base_uri": "https://localhost:8080/"
        },
        "id": "z4iZ07NMFKEr",
        "outputId": "1f25a9ae-0b74-49f2-ab57-74f0ff31f756"
      }
    },
    {
      "cell_type": "markdown",
      "source": [
        "<hr>"
      ],
      "metadata": {
        "nteract": {
          "transient": {
            "deleting": false
          }
        },
        "id": "v6N2ZAG5FKEs"
      }
    },
    {
      "cell_type": "markdown",
      "source": [
        "## **Text Preprocessing**"
      ],
      "metadata": {
        "nteract": {
          "transient": {
            "deleting": false
          }
        },
        "id": "SfMZUvzSFKEt"
      }
    },
    {
      "cell_type": "code",
      "source": [
        "for i in range(len(training_df)):\n",
        "  training_df['text'][i]=re.sub(r'http\\S+','URL',training_df['text'][i])\n",
        "  training_df['text'][i]=re.sub(r'@\\S+','TAG',training_df['text'][i])"
      ],
      "outputs": [],
      "execution_count": null,
      "metadata": {
        "jupyter": {
          "source_hidden": false,
          "outputs_hidden": true
        },
        "nteract": {
          "transient": {
            "deleting": false
          }
        },
        "gather": {
          "logged": 1688988647562
        },
        "id": "9HlIUiWuFKEt"
      }
    },
    {
      "cell_type": "code",
      "source": [
        "training_df.drop_duplicates(subset = ['text'], inplace = True)\n",
        "class_counts_clean = training_df.pol.value_counts()"
      ],
      "outputs": [],
      "execution_count": null,
      "metadata": {
        "jupyter": {
          "source_hidden": false,
          "outputs_hidden": false
        },
        "nteract": {
          "transient": {
            "deleting": false
          }
        },
        "gather": {
          "logged": 1688988650312
        },
        "id": "49EcjS2FFKEt"
      }
    },
    {
      "cell_type": "code",
      "source": [
        "print(f'FULL TRAINING DF (CLEAN): \\n - Positive: {class_counts_clean[1]} \\n - Negative: {class_counts_clean[2]} \\n - Neutral:  {class_counts_clean[0]}')"
      ],
      "outputs": [
        {
          "output_type": "stream",
          "name": "stdout",
          "text": [
            "FULL TRAINING DF (CLEAN): \n",
            " - Positive: 3279 \n",
            " - Negative: 5212 \n",
            " - Neutral:  3710\n"
          ]
        }
      ],
      "execution_count": null,
      "metadata": {
        "jupyter": {
          "source_hidden": false,
          "outputs_hidden": false
        },
        "nteract": {
          "transient": {
            "deleting": false
          }
        },
        "gather": {
          "logged": 1688988652258
        },
        "colab": {
          "base_uri": "https://localhost:8080/"
        },
        "id": "L7lF66KkFKEu",
        "outputId": "926e9625-2696-4111-d502-10ae0409dcdf"
      }
    },
    {
      "cell_type": "code",
      "source": [
        "training_df.to_csv('training_set.csv', sep = ';', encoding = 'utf-8')"
      ],
      "outputs": [],
      "execution_count": null,
      "metadata": {
        "jupyter": {
          "source_hidden": false,
          "outputs_hidden": false
        },
        "nteract": {
          "transient": {
            "deleting": false
          }
        },
        "gather": {
          "logged": 1688988654728
        },
        "id": "nUzHpP_sFKEu"
      }
    },
    {
      "cell_type": "markdown",
      "source": [
        "<hr>"
      ],
      "metadata": {
        "nteract": {
          "transient": {
            "deleting": false
          }
        },
        "id": "kXbHDrTeFKEv"
      }
    },
    {
      "cell_type": "markdown",
      "source": [
        "## **Word Embedding Model**"
      ],
      "metadata": {
        "nteract": {
          "transient": {
            "deleting": false
          }
        },
        "id": "uu4xKi_TFKEv"
      }
    },
    {
      "cell_type": "code",
      "source": [
        "import tensorflow as tf\n",
        "import gensim\n",
        "tf.config.experimental.set_memory_growth(tf.config.list_physical_devices('GPU')[0], True)"
      ],
      "metadata": {
        "id": "YNvH5QTYafoL"
      },
      "execution_count": null,
      "outputs": []
    },
    {
      "cell_type": "code",
      "source": [
        "class GPUWord2VecCallback(gensim.models.callbacks.CallbackAny2Vec):\n",
        "    def on_epoch_start(self, model):\n",
        "        model.trainables.syn1neg = tf.convert_to_tensor(model.trainables.syn1neg, dtype=tf.float32)\n",
        "        model.trainables.syn1 = tf.convert_to_tensor(model.trainables.syn1, dtype=tf.float32)"
      ],
      "metadata": {
        "id": "zsRDW_7vauuq"
      },
      "execution_count": null,
      "outputs": []
    },
    {
      "cell_type": "code",
      "source": [
        "start_date: date = date(2020,1,1)\n",
        "end_date  : date = date(2020,5,31)"
      ],
      "outputs": [],
      "execution_count": null,
      "metadata": {
        "jupyter": {
          "source_hidden": false,
          "outputs_hidden": false
        },
        "nteract": {
          "transient": {
            "deleting": false
          }
        },
        "gather": {
          "logged": 1688988657280
        },
        "id": "lijnUI0ZFKEw"
      }
    },
    {
      "cell_type": "code",
      "source": [
        "date_list = []\n",
        "\n",
        "current_date = start_date\n",
        "iteration = 1\n",
        "\n",
        "while current_date <= end_date:\n",
        "    date_list.append(f'{current_date.year}-{current_date.month:02d}-{current_date.day:02d}')\n",
        "    current_date += timedelta(days=1)\n",
        "    iteration += 1"
      ],
      "outputs": [],
      "execution_count": null,
      "metadata": {
        "jupyter": {
          "source_hidden": false,
          "outputs_hidden": false
        },
        "nteract": {
          "transient": {
            "deleting": false
          }
        },
        "gather": {
          "logged": 1688988658854
        },
        "id": "FOXhMptoFKEw"
      }
    },
    {
      "cell_type": "markdown",
      "source": [
        "import tweet corpus"
      ],
      "metadata": {
        "nteract": {
          "transient": {
            "deleting": false
          }
        },
        "id": "mJZqrESQFKEw"
      }
    },
    {
      "cell_type": "code",
      "source": [
        "dfs = []\n",
        "\n",
        "for date in date_list:\n",
        "    df_date = pd.read_csv(f'./Senntiment_Social_Mood_Corpus_Tweets/corpus_tweets/{date}.csv', sep=';', encoding='ISO-8859-1')\n",
        "    dfs.append(df_date)"
      ],
      "outputs": [],
      "execution_count": null,
      "metadata": {
        "jupyter": {
          "source_hidden": false,
          "outputs_hidden": false
        },
        "nteract": {
          "transient": {
            "deleting": false
          }
        },
        "gather": {
          "logged": 1688988733219
        },
        "id": "RjXXuRnbFKEw"
      }
    },
    {
      "cell_type": "code",
      "source": [
        "raw_df = pd.concat(dfs, ignore_index = True)"
      ],
      "outputs": [],
      "execution_count": null,
      "metadata": {
        "jupyter": {
          "source_hidden": false,
          "outputs_hidden": false
        },
        "nteract": {
          "transient": {
            "deleting": false
          }
        },
        "gather": {
          "logged": 1688988736567
        },
        "id": "iXFZQbKIFKEx"
      }
    },
    {
      "cell_type": "markdown",
      "source": [
        "Train the unsupervised word embedding model"
      ],
      "metadata": {
        "nteract": {
          "transient": {
            "deleting": false
          }
        },
        "id": "jak7GTGKFKEx"
      }
    },
    {
      "cell_type": "code",
      "source": [
        "if limit_corpus is not None:\n",
        "    sentences = raw_df['testo'].sample(limit_corpus, random_state = seed)\n",
        "else:\n",
        "    sentences = raw_df['testo']"
      ],
      "outputs": [],
      "execution_count": null,
      "metadata": {
        "jupyter": {
          "source_hidden": false,
          "outputs_hidden": false
        },
        "nteract": {
          "transient": {
            "deleting": false
          }
        },
        "gather": {
          "logged": 1688988760354
        },
        "id": "BlWH5eCqFKEy"
      }
    },
    {
      "cell_type": "code",
      "source": [
        "word_lists = list(map(lambda text: str(text).split(), sentences.values))"
      ],
      "outputs": [],
      "execution_count": null,
      "metadata": {
        "jupyter": {
          "source_hidden": false,
          "outputs_hidden": false
        },
        "nteract": {
          "transient": {
            "deleting": false
          }
        },
        "gather": {
          "logged": 1688988847935
        },
        "id": "q2JSxD48FKEy"
      }
    },
    {
      "cell_type": "code",
      "source": [
        "start_time = timeit.default_timer()\n",
        "embedding_model = Word2Vec(word_lists, vector_size=300, window=8, min_count=1, workers=4, sg=0, epochs=1)\n",
        "\n",
        "\n",
        "#embedding_model = Word2Vec(word_lists, vector_size=300, window=8, min_count=1, workers=1, compute_loss=True)\n",
        "#embedding_model.build_vocab(word_lists)\n",
        "#embedding_model.train(word_lists, total_examples=embedding_model.corpus_count, epochs=30, compute_loss=True, callbacks=[GPUWord2VecCallback()])\n",
        "\n",
        "print(\"Elapsed Embeddings Training Time: \", timeit.default_timer()-start_time)"
      ],
      "outputs": [
        {
          "output_type": "stream",
          "name": "stdout",
          "text": [
            "Elapsed Embeddings Training Time:  1.6366459350001605\n"
          ]
        }
      ],
      "execution_count": null,
      "metadata": {
        "jupyter": {
          "source_hidden": false,
          "outputs_hidden": true
        },
        "nteract": {
          "transient": {
            "deleting": false
          }
        },
        "gather": {
          "logged": 1688979836164
        },
        "colab": {
          "base_uri": "https://localhost:8080/"
        },
        "id": "K_AhfsCPFKEz",
        "outputId": "501d0cb8-e54b-4051-f9fc-8f05c7533d33"
      }
    },
    {
      "cell_type": "code",
      "source": [
        "embedding_model.save(\"corpus_2_not_utf_w2v.bin\")"
      ],
      "outputs": [],
      "execution_count": null,
      "metadata": {
        "jupyter": {
          "source_hidden": false,
          "outputs_hidden": false
        },
        "nteract": {
          "transient": {
            "deleting": false
          }
        },
        "gather": {
          "logged": 1688979879116
        },
        "id": "2Xs-ZdjHFKEz"
      }
    },
    {
      "cell_type": "code",
      "source": [
        "!pip install gensim fasttext"
      ],
      "metadata": {
        "colab": {
          "base_uri": "https://localhost:8080/"
        },
        "id": "DUwgBBRncyyG",
        "outputId": "114e1100-4883-4348-c931-df83733363f3"
      },
      "execution_count": null,
      "outputs": [
        {
          "output_type": "stream",
          "name": "stdout",
          "text": [
            "Requirement already satisfied: gensim in /usr/local/lib/python3.10/dist-packages (4.3.1)\n",
            "Requirement already satisfied: fasttext in /usr/local/lib/python3.10/dist-packages (0.9.2)\n",
            "Requirement already satisfied: numpy>=1.18.5 in /usr/local/lib/python3.10/dist-packages (from gensim) (1.22.4)\n",
            "Requirement already satisfied: scipy>=1.7.0 in /usr/local/lib/python3.10/dist-packages (from gensim) (1.10.1)\n",
            "Requirement already satisfied: smart-open>=1.8.1 in /usr/local/lib/python3.10/dist-packages (from gensim) (6.3.0)\n",
            "Requirement already satisfied: pybind11>=2.2 in /usr/local/lib/python3.10/dist-packages (from fasttext) (2.10.4)\n",
            "Requirement already satisfied: setuptools>=0.7.0 in /usr/local/lib/python3.10/dist-packages (from fasttext) (67.7.2)\n"
          ]
        }
      ]
    },
    {
      "cell_type": "code",
      "source": [
        "import fasttext\n",
        "import gensim"
      ],
      "metadata": {
        "id": "cBSDKRECcvxA"
      },
      "execution_count": null,
      "outputs": []
    },
    {
      "cell_type": "code",
      "source": [
        "start_time = timeit.default_timer()\n",
        "fasttext_model = FastText(word_lists, vector_size=300, window=8, min_count=1, workers=4, sg=0, epochs=1)\n",
        "#fasttext_model = fasttext.train_unsupervised(word_lists, epoch=1, ws=8, min_count = 1, dim=300)\n",
        "#word_repr=fasttext.train_unsupervised(word_lists,'cbow', dim=300, epoch=1)\n",
        "print(\"Elapsed Embeddings Training Time: \", timeit.default_timer()-start_time)"
      ],
      "outputs": [
        {
          "output_type": "stream",
          "name": "stdout",
          "text": [
            "Elapsed Embeddings Training Time:  23.393442440999934\n"
          ]
        }
      ],
      "execution_count": null,
      "metadata": {
        "jupyter": {
          "source_hidden": false,
          "outputs_hidden": false
        },
        "nteract": {
          "transient": {
            "deleting": false
          }
        },
        "gather": {
          "logged": 1688980104509
        },
        "colab": {
          "base_uri": "https://localhost:8080/"
        },
        "id": "6GQd1IS3FKE0",
        "outputId": "81999c2b-284d-4467-c79f-70729a4319c4"
      }
    },
    {
      "cell_type": "code",
      "source": [
        "fasttext_model.save(\"corpus_2_not_utf.bin\")"
      ],
      "outputs": [],
      "execution_count": null,
      "metadata": {
        "jupyter": {
          "source_hidden": false,
          "outputs_hidden": false
        },
        "nteract": {
          "transient": {
            "deleting": false
          }
        },
        "gather": {
          "logged": 1688980166812
        },
        "id": "kUdCYzsVFKE0"
      }
    },
    {
      "cell_type": "markdown",
      "source": [
        "Visualize the embedding space"
      ],
      "metadata": {
        "nteract": {
          "transient": {
            "deleting": false
          }
        },
        "id": "ReNqBMn2FKE1"
      }
    },
    {
      "cell_type": "code",
      "source": [
        "def embedding_space_visualization(root_word, model, plot_3d = True, plot_2d = False, topn = 20):\n",
        "\n",
        "  fig = plt.figure(figsize=(20, 17), dpi=80)\n",
        "  tot_words = [root_word] + [tupla[0] for tupla in model.wv.most_similar(root_word, topn=topn)]\n",
        "  X = model.wv[tot_words]\n",
        "\n",
        "  if plot_3d:\n",
        "    pca = TSNE(perplexity=topn, n_components=3, init='pca')\n",
        "\n",
        "    X = pca.fit_transform(X)\n",
        "    pca_data = pd.DataFrame(X, index=tot_words, columns=[\"x\",\"y\",\"z\"])\n",
        "    pca_data[\"input\"] = 0\n",
        "    pca_data[\"input\"].iloc[0:1] = 1\n",
        "\n",
        "    ax = fig.add_subplot(111, projection='3d')\n",
        "    ax.scatter(pca_data[pca_data[\"input\"]==0]['x'], pca_data[pca_data[\"input\"]==0]['y'], pca_data[pca_data[\"input\"]==0]['z'], c=\"black\")\n",
        "    ax.scatter(pca_data[pca_data[\"input\"]==1]['x'], pca_data[pca_data[\"input\"]==1]['y'], pca_data[pca_data[\"input\"]==1]['z'], c=\"red\")\n",
        "    ax.set(xlabel=None, ylabel=None, zlabel=None, xticklabels=[], yticklabels=[], zticklabels=[])\n",
        "\n",
        "    for label, row in pca_data[[\"x\",\"y\",\"z\"]].iterrows():\n",
        "        x, y, z = row\n",
        "        ax.text(x, y, z, s=label)"
      ],
      "outputs": [],
      "execution_count": null,
      "metadata": {
        "jupyter": {
          "source_hidden": false,
          "outputs_hidden": false
        },
        "nteract": {
          "transient": {
            "deleting": false
          }
        },
        "gather": {
          "logged": 1688980472205
        },
        "id": "In3e9rYpFKE1"
      }
    },
    {
      "cell_type": "code",
      "source": [
        "embedding_space_visualization(\"covid\", fasttext_model, topn = 30)"
      ],
      "outputs": [
        {
          "output_type": "display_data",
          "data": {
            "text/plain": [
              "<Figure size 1600x1360 with 1 Axes>"
            ],
            "image/png": "[encoded data removed]"
          },
          "metadata": {}
        }
      ],
      "execution_count": null,
      "metadata": {
        "jupyter": {
          "source_hidden": false,
          "outputs_hidden": false
        },
        "nteract": {
          "transient": {
            "deleting": false
          }
        },
        "gather": {
          "logged": 1688980521689
        },
        "colab": {
          "base_uri": "https://localhost:8080/",
          "height": 1000
        },
        "id": "wNDGNvQhFKE2",
        "outputId": "47f99cb8-118d-4041-fc01-c79ee1a7ca7a"
      }
    },
    {
      "cell_type": "markdown",
      "source": [
        "<hr>"
      ],
      "metadata": {
        "nteract": {
          "transient": {
            "deleting": false
          }
        },
        "id": "vJ27gR3sFKE3"
      }
    }
  ],
  "metadata": {
    "kernelspec": {
      "name": "python310-sdkv2",
      "language": "python",
      "display_name": "Python 3.10 - SDK v2"
    },
    "language_info": {
      "name": "python",
      "version": "3.10.11",
      "mimetype": "text/x-python",
      "codemirror_mode": {
        "name": "ipython",
        "version": 3
      },
      "pygments_lexer": "ipython3",
      "nbconvert_exporter": "python",
      "file_extension": ".py"
    },
    "microsoft": {
      "ms_spell_check": {
        "ms_spell_check_language": "en"
      },
      "host": {
        "AzureML": {
          "notebookHasBeenCompleted": true
        }
      }
    },
    "nteract": {
      "version": "nteract-front-end@1.0.0"
    },
    "kernel_info": {
      "name": "python310-sdkv2"
    },
    "colab": {
      "provenance": [],
      "gpuType": "T4"
    }
  },
  "nbformat": 4,
  "nbformat_minor": 0
}